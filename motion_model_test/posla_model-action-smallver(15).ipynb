{
 "cells": [
  {
   "cell_type": "markdown",
   "metadata": {},
   "source": [
    "# 0. 사용할 패키지 불러오기"
   ]
  },
  {
   "cell_type": "code",
   "execution_count": 114,
   "metadata": {},
   "outputs": [],
   "source": [
    "from tensorflow.python.keras.models import Sequential\n",
    "from tensorflow.python.keras.layers.normalization import BatchNormalization\n",
    "from tensorflow.python.keras.layers.convolutional import Conv2D\n",
    "from tensorflow.python.keras.layers.convolutional import MaxPooling2D\n",
    "from tensorflow.python.keras.layers.core import Activation\n",
    "from tensorflow.python.keras.layers.core import Flatten\n",
    "from tensorflow.python.keras.layers.core import Dropout\n",
    "from tensorflow.python.keras.layers.core import Dense\n",
    "from tensorflow.python.keras import backend as K\n",
    "from tensorflow.python.keras.preprocessing.image import ImageDataGenerator\n",
    "from tensorflow.python.keras.optimizers import Adam\n",
    "from tensorflow.python.keras.callbacks import EarlyStopping, ReduceLROnPlateau\n",
    "from tensorflow.python.keras.models import load_model\n",
    "from keras.models import model_from_json"
   ]
  },
  {
   "cell_type": "markdown",
   "metadata": {},
   "source": [
    "# 1. 데이터 불러오기"
   ]
  },
  {
   "cell_type": "code",
   "execution_count": 4,
   "metadata": {},
   "outputs": [
    {
     "name": "stdout",
     "output_type": "stream",
     "text": [
      "(0, 3)\n",
      "2000\n",
      "4000\n",
      "6000\n",
      "8000\n",
      "10000\n",
      "12000\n",
      "(13883, 64, 64, 3)\n",
      "(9718, 64, 64, 3) (9718, 3)\n",
      "(4165, 64, 64, 3) (4165, 3)\n"
     ]
    }
   ],
   "source": [
    "import numpy as np\n",
    "import glob\n",
    "import sys\n",
    "from sklearn.model_selection import train_test_split\n",
    "\n",
    "x_train = np.empty((0, 64, 64, 3))\n",
    "y_train = np.empty((0, 3))\n",
    "print(y_train.shape)\n",
    "\n",
    "training_data = glob.glob('/home/pirl/Documents/splited_action_data2/npz_data15/*.npz')\n",
    "#print(training_data)\n",
    "idx=1\n",
    "for single_npz in training_data:\n",
    "    with np.load(single_npz) as data:\n",
    "        #print(data.files)\n",
    "        x = data['train']\n",
    "        y = data['training_labels']\n",
    "        #print(x.shape)\n",
    "    x = np.reshape(x, (-1, 64, 64, 3))\n",
    "    \n",
    "    x_train = np.vstack((x_train, x))\n",
    "    y_train = np.vstack((y_train, y))\n",
    "    if idx % 2000 ==0:\n",
    "        print(idx)\n",
    "    idx+=1\n",
    "print(x_train.shape)\n",
    "# train test split, 7:3\n",
    "x_train, x_test, y_train, y_test = train_test_split(x_train, y_train, test_size=0.3, random_state = 42)\n",
    "\n",
    "y_train = y_train[:,:]\n",
    "y_test = y_test[:,:]\n",
    "\n",
    "print(x_train.shape, y_train.shape)\n",
    "print(x_test.shape, y_test.shape)"
   ]
  },
  {
   "cell_type": "markdown",
   "metadata": {},
   "source": [
    "# 데이터 확인"
   ]
  },
  {
   "cell_type": "code",
   "execution_count": null,
   "metadata": {},
   "outputs": [],
   "source": [
    "#import pandas as pd\n",
    "\n",
    "#y_data = pd.DataFrame(y_total[:, :])"
   ]
  },
  {
   "cell_type": "code",
   "execution_count": null,
   "metadata": {},
   "outputs": [],
   "source": [
    "#y_data.count()"
   ]
  },
  {
   "cell_type": "code",
   "execution_count": null,
   "metadata": {},
   "outputs": [],
   "source": [
    "#left = y_data.loc[y_data[:][0] == 1]"
   ]
  },
  {
   "cell_type": "code",
   "execution_count": null,
   "metadata": {
    "scrolled": true
   },
   "outputs": [],
   "source": [
    "#left.count()"
   ]
  },
  {
   "cell_type": "code",
   "execution_count": null,
   "metadata": {},
   "outputs": [],
   "source": [
    "#right = y_data.loc[y_data[:][1] == 1]"
   ]
  },
  {
   "cell_type": "code",
   "execution_count": null,
   "metadata": {
    "scrolled": true
   },
   "outputs": [],
   "source": [
    "#right.count()"
   ]
  },
  {
   "cell_type": "code",
   "execution_count": null,
   "metadata": {},
   "outputs": [],
   "source": [
    "#forward = y_data.loc[y_data[:][2] == 1]"
   ]
  },
  {
   "cell_type": "code",
   "execution_count": null,
   "metadata": {},
   "outputs": [],
   "source": [
    "#forward.count()"
   ]
  },
  {
   "cell_type": "code",
   "execution_count": 81,
   "metadata": {
    "scrolled": false
   },
   "outputs": [
    {
     "name": "stderr",
     "output_type": "stream",
     "text": [
      "Clipping input data to the valid range for imshow with RGB data ([0..1] for floats or [0..255] for integers).\n",
      "Clipping input data to the valid range for imshow with RGB data ([0..1] for floats or [0..255] for integers).\n",
      "Clipping input data to the valid range for imshow with RGB data ([0..1] for floats or [0..255] for integers).\n",
      "Clipping input data to the valid range for imshow with RGB data ([0..1] for floats or [0..255] for integers).\n",
      "Clipping input data to the valid range for imshow with RGB data ([0..1] for floats or [0..255] for integers).\n",
      "Clipping input data to the valid range for imshow with RGB data ([0..1] for floats or [0..255] for integers).\n",
      "Clipping input data to the valid range for imshow with RGB data ([0..1] for floats or [0..255] for integers).\n",
      "Clipping input data to the valid range for imshow with RGB data ([0..1] for floats or [0..255] for integers).\n",
      "Clipping input data to the valid range for imshow with RGB data ([0..1] for floats or [0..255] for integers).\n",
      "Clipping input data to the valid range for imshow with RGB data ([0..1] for floats or [0..255] for integers).\n",
      "Clipping input data to the valid range for imshow with RGB data ([0..1] for floats or [0..255] for integers).\n",
      "Clipping input data to the valid range for imshow with RGB data ([0..1] for floats or [0..255] for integers).\n",
      "Clipping input data to the valid range for imshow with RGB data ([0..1] for floats or [0..255] for integers).\n",
      "Clipping input data to the valid range for imshow with RGB data ([0..1] for floats or [0..255] for integers).\n",
      "Clipping input data to the valid range for imshow with RGB data ([0..1] for floats or [0..255] for integers).\n",
      "Clipping input data to the valid range for imshow with RGB data ([0..1] for floats or [0..255] for integers).\n",
      "Clipping input data to the valid range for imshow with RGB data ([0..1] for floats or [0..255] for integers).\n",
      "Clipping input data to the valid range for imshow with RGB data ([0..1] for floats or [0..255] for integers).\n",
      "Clipping input data to the valid range for imshow with RGB data ([0..1] for floats or [0..255] for integers).\n",
      "Clipping input data to the valid range for imshow with RGB data ([0..1] for floats or [0..255] for integers).\n",
      "Clipping input data to the valid range for imshow with RGB data ([0..1] for floats or [0..255] for integers).\n",
      "Clipping input data to the valid range for imshow with RGB data ([0..1] for floats or [0..255] for integers).\n",
      "Clipping input data to the valid range for imshow with RGB data ([0..1] for floats or [0..255] for integers).\n",
      "Clipping input data to the valid range for imshow with RGB data ([0..1] for floats or [0..255] for integers).\n",
      "Clipping input data to the valid range for imshow with RGB data ([0..1] for floats or [0..255] for integers).\n"
     ]
    },
    {
     "data": {
      "image/png": "[encoded data removed]",
      "text/plain": [
       "<Figure size 720x720 with 25 Axes>"
      ]
     },
     "metadata": {
      "needs_background": "light"
     },
     "output_type": "display_data"
    }
   ],
   "source": [
    "# 데이터 확인\n",
    "\n",
    "from matplotlib import pyplot as plt\n",
    "%matplotlib inline\n",
    "\n",
    "plt_row = 5\n",
    "plt_col = 5\n",
    "plt.rcParams[\"figure.figsize\"] = (10,10)\n",
    "\n",
    "f, axarr = plt.subplots(plt_row, plt_col)\n",
    "\n",
    "for i in range(plt_row*plt_col):\n",
    "\n",
    "    sub_plt = axarr[int(i/plt_row), int(i%plt_col)]\n",
    "    sub_plt.axis('off')\n",
    "    sub_plt.imshow(x_train[i].reshape(64, 64,3))\n",
    "    \n",
    "    label = np.argmax(y_train[i])\n",
    "                      \n",
    "    if label == 2 :\n",
    "        direction = 'left'\n",
    "    elif label == 1:\n",
    "        direction = 'right'\n",
    "    elif label == 0:\n",
    "        direction = 'forward'\n",
    "#     elif label == 3:\n",
    "#         direction = 'backward'\n",
    "                      \n",
    "    sub_plt_title = str(label) + \" : \" + direction\n",
    "    sub_plt.set_title(sub_plt_title)\n",
    "\n",
    "plt.show()"
   ]
  },
  {
   "cell_type": "markdown",
   "metadata": {},
   "source": [
    "# 3. 모델 생성"
   ]
  },
  {
   "cell_type": "code",
   "execution_count": 82,
   "metadata": {},
   "outputs": [],
   "source": [
    "# image size = 160 x 320\n",
    "def posla_net():\n",
    "    \n",
    "    # model setting\n",
    "    H = 64\n",
    "    W = 64\n",
    "    CH = 3\n",
    "\n",
    "    inputShape = (H, W, CH)\n",
    "\n",
    "    activation = 'relu'\n",
    "    keep_prob_conv = 0.25\n",
    "    keep_prob_dense = 0.5\n",
    "\n",
    "    #init = 'glorot_normal'\n",
    "    #init = 'he_normal'\n",
    "    init = 'he_uniform'\n",
    "    chanDim = -1\n",
    "    classes = 3\n",
    "    \n",
    "    model = Sequential()\n",
    "    \n",
    "    # CONV => RELU => POOL\n",
    "    model.add(Conv2D(3, (3, 3), padding=\"valid\", input_shape=inputShape, kernel_initializer=init, activation=activation))\n",
    "    model.add(BatchNormalization(axis=chanDim))\n",
    "    model.add(MaxPooling2D(pool_size=(2, 2)))\n",
    "    \n",
    "    model.add(Conv2D(9, (3, 3), padding=\"valid\", kernel_initializer=init, activation=activation))\n",
    "    model.add(MaxPooling2D(pool_size=(2, 2)))\n",
    "    \n",
    "    model.add(Conv2D(18, (3, 3), padding=\"valid\", kernel_initializer=init, activation=activation))\n",
    "    model.add(MaxPooling2D(pool_size=(2, 2)))\n",
    "    \n",
    "    model.add(Conv2D(32, (3, 3), padding=\"valid\", kernel_initializer=init, activation=activation))\n",
    "    model.add(MaxPooling2D(pool_size=(2, 2)))\n",
    "    \n",
    "    model.add(Flatten())\n",
    "    \n",
    "    model.add(Dense(80, kernel_initializer=init, activation=activation))\n",
    "    model.add(Dropout(keep_prob_dense))\n",
    "    \n",
    "    model.add(Dense(15, kernel_initializer=init, activation=activation))\n",
    "    model.add(Dropout(keep_prob_dense))\n",
    "    \n",
    "    # softmax classifier\n",
    "    model.add(Dense(classes , activation = 'softmax'))\n",
    "    \n",
    "    return model\n"
   ]
  },
  {
   "cell_type": "code",
   "execution_count": 83,
   "metadata": {
    "scrolled": false
   },
   "outputs": [
    {
     "name": "stdout",
     "output_type": "stream",
     "text": [
      "Model: \"sequential_7\"\n",
      "_________________________________________________________________\n",
      "Layer (type)                 Output Shape              Param #   \n",
      "=================================================================\n",
      "conv2d_28 (Conv2D)           (None, 62, 62, 3)         84        \n",
      "_________________________________________________________________\n",
      "batch_normalization_7 (Batch (None, 62, 62, 3)         12        \n",
      "_________________________________________________________________\n",
      "max_pooling2d_28 (MaxPooling (None, 31, 31, 3)         0         \n",
      "_________________________________________________________________\n",
      "conv2d_29 (Conv2D)           (None, 29, 29, 9)         252       \n",
      "_________________________________________________________________\n",
      "max_pooling2d_29 (MaxPooling (None, 14, 14, 9)         0         \n",
      "_________________________________________________________________\n",
      "conv2d_30 (Conv2D)           (None, 12, 12, 18)        1476      \n",
      "_________________________________________________________________\n",
      "max_pooling2d_30 (MaxPooling (None, 6, 6, 18)          0         \n",
      "_________________________________________________________________\n",
      "conv2d_31 (Conv2D)           (None, 4, 4, 32)          5216      \n",
      "_________________________________________________________________\n",
      "max_pooling2d_31 (MaxPooling (None, 2, 2, 32)          0         \n",
      "_________________________________________________________________\n",
      "flatten_7 (Flatten)          (None, 128)               0         \n",
      "_________________________________________________________________\n",
      "dense_21 (Dense)             (None, 80)                10320     \n",
      "_________________________________________________________________\n",
      "dropout_14 (Dropout)         (None, 80)                0         \n",
      "_________________________________________________________________\n",
      "dense_22 (Dense)             (None, 15)                1215      \n",
      "_________________________________________________________________\n",
      "dropout_15 (Dropout)         (None, 15)                0         \n",
      "_________________________________________________________________\n",
      "dense_23 (Dense)             (None, 3)                 48        \n",
      "=================================================================\n",
      "Total params: 18,623\n",
      "Trainable params: 18,617\n",
      "Non-trainable params: 6\n",
      "_________________________________________________________________\n"
     ]
    }
   ],
   "source": [
    "model = posla_net()\n",
    "model.summary()"
   ]
  },
  {
   "cell_type": "code",
   "execution_count": 84,
   "metadata": {},
   "outputs": [
    {
     "name": "stdout",
     "output_type": "stream",
     "text": [
      "Failed to import pydot. You must install pydot and graphviz for `pydotprint` to work.\n"
     ]
    }
   ],
   "source": [
    "from tensorflow.python.keras.utils import plot_model\n",
    "plot_model(model, to_file= 'video_net_plot.png', show_shapes = True, show_layer_names = True)"
   ]
  },
  {
   "cell_type": "markdown",
   "metadata": {},
   "source": [
    "# 4. 모델 파라미터 셋팅"
   ]
  },
  {
   "cell_type": "markdown",
   "metadata": {},
   "source": [
    "적은 수의 이미지 데이터가 존재할 경우 데이터를 늘리는 용도로 사용"
   ]
  },
  {
   "cell_type": "code",
   "execution_count": 85,
   "metadata": {},
   "outputs": [],
   "source": [
    "aug = ImageDataGenerator(rotation_range=25, width_shift_range=0.1,\n",
    "    height_shift_range=0.1, shear_range=0.2, zoom_range=0.2,\n",
    "    horizontal_flip=True, fill_mode=\"nearest\")"
   ]
  },
  {
   "cell_type": "code",
   "execution_count": 86,
   "metadata": {},
   "outputs": [],
   "source": [
    "early_stopping = EarlyStopping(monitor='val_loss', patience=10)"
   ]
  },
  {
   "cell_type": "code",
   "execution_count": 87,
   "metadata": {},
   "outputs": [],
   "source": [
    "reduce_lr = ReduceLROnPlateau(monitor='val_loss', factor=0.2,\n",
    "                              patience=5, min_lr=0.0001)"
   ]
  },
  {
   "cell_type": "code",
   "execution_count": 88,
   "metadata": {},
   "outputs": [],
   "source": [
    "# initialize the model\n",
    "# EPOCHS = 50\n",
    "# INIT_LR = 1e-3\n",
    "# BS = 32\n",
    "# split_ratio = 0.2"
   ]
  },
  {
   "cell_type": "code",
   "execution_count": 89,
   "metadata": {},
   "outputs": [
    {
     "name": "stdout",
     "output_type": "stream",
     "text": [
      "[INFO] compiling model...\n"
     ]
    }
   ],
   "source": [
    "EPOCHS = 50\n",
    "INIT_LR = 1e-4\n",
    "BS = 256\n",
    "split_ratio = 0.2\n",
    "\n",
    "print(\"[INFO] compiling model...\")\n",
    "opt = Adam(lr=INIT_LR, decay=INIT_LR / EPOCHS)\n",
    "model.compile(loss=\"categorical_crossentropy\", optimizer=opt,\n",
    "    metrics=[\"accuracy\"])\n",
    " "
   ]
  },
  {
   "cell_type": "markdown",
   "metadata": {},
   "source": [
    "# 5. 모델 훈련"
   ]
  },
  {
   "cell_type": "code",
   "execution_count": 90,
   "metadata": {},
   "outputs": [],
   "source": [
    "from tensorflow.keras.utils import to_categorical\n"
   ]
  },
  {
   "cell_type": "code",
   "execution_count": 91,
   "metadata": {},
   "outputs": [],
   "source": [
    "y_binary = to_categorical(y_train)"
   ]
  },
  {
   "cell_type": "code",
   "execution_count": 92,
   "metadata": {
    "scrolled": false
   },
   "outputs": [
    {
     "name": "stdout",
     "output_type": "stream",
     "text": [
      "Train on 7774 samples, validate on 1944 samples\n",
      "Epoch 1/50\n",
      "7774/7774 [==============================] - 282s 36ms/sample - loss: 9.1317 - acc: 0.3418 - val_loss: 0.9776 - val_acc: 0.4516\n",
      "Epoch 2/50\n",
      "7774/7774 [==============================] - 271s 35ms/sample - loss: 2.1409 - acc: 0.4037 - val_loss: 1.0395 - val_acc: 0.4748\n",
      "Epoch 3/50\n",
      "7774/7774 [==============================] - 276s 36ms/sample - loss: 1.4628 - acc: 0.4127 - val_loss: 1.0428 - val_acc: 0.4419\n",
      "Epoch 4/50\n",
      "7774/7774 [==============================] - 280s 36ms/sample - loss: 1.2388 - acc: 0.4350 - val_loss: 1.0259 - val_acc: 0.4470\n",
      "Epoch 5/50\n",
      "7774/7774 [==============================] - 282s 36ms/sample - loss: 1.1642 - acc: 0.4493 - val_loss: 0.9818 - val_acc: 0.5309\n",
      "Epoch 6/50\n",
      "7774/7774 [==============================] - 328s 42ms/sample - loss: 1.0431 - acc: 0.4840 - val_loss: 0.9083 - val_acc: 0.6199\n",
      "Epoch 7/50\n",
      "7774/7774 [==============================] - 437s 56ms/sample - loss: 0.9732 - acc: 0.5187 - val_loss: 0.8011 - val_acc: 0.7243\n",
      "Epoch 8/50\n",
      "7774/7774 [==============================] - 411s 53ms/sample - loss: 0.9206 - acc: 0.5467 - val_loss: 0.6928 - val_acc: 0.7845\n",
      "Epoch 9/50\n",
      "7774/7774 [==============================] - 429s 55ms/sample - loss: 0.8340 - acc: 0.5867 - val_loss: 0.6051 - val_acc: 0.8138\n",
      "Epoch 10/50\n",
      "7774/7774 [==============================] - 426s 55ms/sample - loss: 0.7543 - acc: 0.6330 - val_loss: 0.5144 - val_acc: 0.8704\n",
      "Epoch 11/50\n",
      "7774/7774 [==============================] - 425s 55ms/sample - loss: 0.7086 - acc: 0.6541 - val_loss: 0.4150 - val_acc: 0.8745\n",
      "Epoch 12/50\n",
      "7774/7774 [==============================] - 427s 55ms/sample - loss: 0.6226 - acc: 0.7002 - val_loss: 0.3267 - val_acc: 0.9192\n",
      "Epoch 13/50\n",
      "7774/7774 [==============================] - 420s 54ms/sample - loss: 0.5645 - acc: 0.7377 - val_loss: 0.2882 - val_acc: 0.9414\n",
      "Epoch 14/50\n",
      "7774/7774 [==============================] - 421s 54ms/sample - loss: 0.5119 - acc: 0.7669 - val_loss: 0.2333 - val_acc: 0.9547\n",
      "Epoch 15/50\n",
      "7774/7774 [==============================] - 421s 54ms/sample - loss: 0.4662 - acc: 0.7937 - val_loss: 0.1868 - val_acc: 0.9578\n",
      "Epoch 16/50\n",
      "7774/7774 [==============================] - 423s 54ms/sample - loss: 0.4210 - acc: 0.8150 - val_loss: 0.1604 - val_acc: 0.9640\n",
      "Epoch 17/50\n",
      "7774/7774 [==============================] - 418s 54ms/sample - loss: 0.3818 - acc: 0.8312 - val_loss: 0.1255 - val_acc: 0.9820\n",
      "Epoch 18/50\n",
      "7774/7774 [==============================] - 414s 53ms/sample - loss: 0.3471 - acc: 0.8444 - val_loss: 0.1087 - val_acc: 0.9841\n",
      "Epoch 19/50\n",
      "7774/7774 [==============================] - 401s 52ms/sample - loss: 0.3081 - acc: 0.8618 - val_loss: 0.0793 - val_acc: 0.9877\n",
      "Epoch 20/50\n",
      "7774/7774 [==============================] - 416s 54ms/sample - loss: 0.2912 - acc: 0.8723 - val_loss: 0.0643 - val_acc: 0.9866\n",
      "Epoch 21/50\n",
      "7774/7774 [==============================] - 410s 53ms/sample - loss: 0.2735 - acc: 0.8820 - val_loss: 0.0521 - val_acc: 0.9918\n",
      "Epoch 22/50\n",
      "7774/7774 [==============================] - 424s 55ms/sample - loss: 0.2330 - acc: 0.8971 - val_loss: 0.0416 - val_acc: 0.9938\n",
      "Epoch 23/50\n",
      "7774/7774 [==============================] - 419s 54ms/sample - loss: 0.2163 - acc: 0.9097 - val_loss: 0.0262 - val_acc: 0.9974\n",
      "Epoch 24/50\n",
      "7774/7774 [==============================] - 408s 52ms/sample - loss: 0.1971 - acc: 0.9195 - val_loss: 0.0219 - val_acc: 0.9974\n",
      "Epoch 25/50\n",
      "7774/7774 [==============================] - 433s 56ms/sample - loss: 0.1877 - acc: 0.9172 - val_loss: 0.0151 - val_acc: 0.9985\n",
      "Epoch 26/50\n",
      "7774/7774 [==============================] - 428s 55ms/sample - loss: 0.1802 - acc: 0.9240 - val_loss: 0.0154 - val_acc: 0.9979\n",
      "Epoch 27/50\n",
      "7774/7774 [==============================] - 391s 50ms/sample - loss: 0.1572 - acc: 0.9316 - val_loss: 0.0090 - val_acc: 0.9985\n",
      "Epoch 28/50\n",
      "7774/7774 [==============================] - 379s 49ms/sample - loss: 0.1504 - acc: 0.9354 - val_loss: 0.0077 - val_acc: 0.9990\n",
      "Epoch 29/50\n",
      "7774/7774 [==============================] - 379s 49ms/sample - loss: 0.1469 - acc: 0.9350 - val_loss: 0.0060 - val_acc: 0.9995\n",
      "Epoch 30/50\n",
      "7774/7774 [==============================] - 403s 52ms/sample - loss: 0.1341 - acc: 0.9433 - val_loss: 0.0045 - val_acc: 1.0000\n",
      "Epoch 31/50\n",
      "7774/7774 [==============================] - 410s 53ms/sample - loss: 0.1208 - acc: 0.9457 - val_loss: 0.0033 - val_acc: 0.9995\n",
      "Epoch 32/50\n",
      "7774/7774 [==============================] - 409s 53ms/sample - loss: 0.1142 - acc: 0.9524 - val_loss: 0.0023 - val_acc: 0.9995\n",
      "Epoch 33/50\n",
      "7774/7774 [==============================] - 408s 52ms/sample - loss: 0.1078 - acc: 0.9524 - val_loss: 0.0014 - val_acc: 1.0000\n",
      "Epoch 34/50\n",
      "7774/7774 [==============================] - 409s 53ms/sample - loss: 0.0976 - acc: 0.9573 - val_loss: 0.0011 - val_acc: 0.9995\n",
      "Epoch 35/50\n",
      "7774/7774 [==============================] - 408s 52ms/sample - loss: 0.1067 - acc: 0.9515 - val_loss: 9.4066e-04 - val_acc: 1.0000\n",
      "Epoch 36/50\n",
      "7774/7774 [==============================] - 408s 53ms/sample - loss: 0.0917 - acc: 0.9581 - val_loss: 8.2127e-04 - val_acc: 0.9995\n",
      "Epoch 37/50\n",
      "7774/7774 [==============================] - 409s 53ms/sample - loss: 0.0851 - acc: 0.9603 - val_loss: 9.2882e-04 - val_acc: 1.0000\n",
      "Epoch 38/50\n",
      "7774/7774 [==============================] - 410s 53ms/sample - loss: 0.0932 - acc: 0.9570 - val_loss: 7.6044e-04 - val_acc: 0.9995\n",
      "Epoch 39/50\n",
      "7774/7774 [==============================] - 409s 53ms/sample - loss: 0.0847 - acc: 0.9605 - val_loss: 3.9163e-04 - val_acc: 1.0000\n",
      "Epoch 40/50\n",
      "7774/7774 [==============================] - 410s 53ms/sample - loss: 0.0826 - acc: 0.9605 - val_loss: 3.7783e-04 - val_acc: 1.0000\n",
      "Epoch 41/50\n",
      "7774/7774 [==============================] - 411s 53ms/sample - loss: 0.0807 - acc: 0.9624 - val_loss: 2.0118e-04 - val_acc: 1.0000\n",
      "Epoch 42/50\n",
      "7774/7774 [==============================] - 411s 53ms/sample - loss: 0.0781 - acc: 0.9631 - val_loss: 1.4296e-04 - val_acc: 1.0000\n",
      "Epoch 43/50\n",
      "7774/7774 [==============================] - 390s 50ms/sample - loss: 0.0718 - acc: 0.9654 - val_loss: 1.8799e-04 - val_acc: 1.0000\n",
      "Epoch 44/50\n",
      "7774/7774 [==============================] - 259s 33ms/sample - loss: 0.0685 - acc: 0.9672 - val_loss: 1.0541e-04 - val_acc: 1.0000\n",
      "Epoch 45/50\n",
      "7774/7774 [==============================] - 260s 33ms/sample - loss: 0.0687 - acc: 0.9664 - val_loss: 1.3668e-04 - val_acc: 1.0000\n",
      "Epoch 46/50\n",
      "7774/7774 [==============================] - 259s 33ms/sample - loss: 0.0643 - acc: 0.9699 - val_loss: 1.6260e-04 - val_acc: 1.0000\n",
      "Epoch 47/50\n",
      "7774/7774 [==============================] - 258s 33ms/sample - loss: 0.0638 - acc: 0.9681 - val_loss: 1.3449e-04 - val_acc: 1.0000\n",
      "Epoch 48/50\n",
      "7774/7774 [==============================] - 259s 33ms/sample - loss: 0.0606 - acc: 0.9709 - val_loss: 3.7192e-05 - val_acc: 1.0000\n",
      "Epoch 49/50\n",
      "7774/7774 [==============================] - 259s 33ms/sample - loss: 0.0557 - acc: 0.9732 - val_loss: 4.2649e-05 - val_acc: 1.0000\n",
      "Epoch 50/50\n",
      "7774/7774 [==============================] - 260s 33ms/sample - loss: 0.0564 - acc: 0.9743 - val_loss: 2.1848e-04 - val_acc: 1.0000\n"
     ]
    }
   ],
   "source": [
    "hist = model.fit(x_train, y_train,\n",
    "                 epochs=EPOCHS, validation_steps=BS, \n",
    "                 validation_split=split_ratio, \n",
    "                 verbose = 1\n",
    "                 ,callbacks=[reduce_lr]\n",
    "                )"
   ]
  },
  {
   "cell_type": "code",
   "execution_count": 93,
   "metadata": {
    "scrolled": false
   },
   "outputs": [
    {
     "data": {
      "image/png": "[encoded data removed]",
      "text/plain": [
       "<Figure size 720x720 with 2 Axes>"
      ]
     },
     "metadata": {
      "needs_background": "light"
     },
     "output_type": "display_data"
    }
   ],
   "source": [
    "plt.subplot(1, 2, 1)\n",
    "plt.title('model loss')\n",
    "plt.plot(hist.history['loss'], label=\"loss\")\n",
    "plt.plot(hist.history['val_loss'], label=\"val_loss\")\n",
    "plt.ylabel('loss')\n",
    "plt.xlabel('epoch')\n",
    "plt.legend()\n",
    "plt.ylim((0,2))\n",
    "\n",
    "plt.subplot(1, 2, 2)\n",
    "plt.title('model accuracy')\n",
    "plt.plot(hist.history['acc'], label=\"acc\")\n",
    "plt.plot(hist.history['val_acc'], label=\"val_acc\")\n",
    "plt.ylabel('accuracy')\n",
    "plt.xlabel('epoch')\n",
    "plt.legend()\n",
    "plt.ylim((0.4, 1))\n",
    "\n",
    "\n",
    "plt.show();"
   ]
  },
  {
   "cell_type": "markdown",
   "metadata": {},
   "source": [
    "# 6. 모델 결과 확인"
   ]
  },
  {
   "cell_type": "code",
   "execution_count": 94,
   "metadata": {},
   "outputs": [],
   "source": [
    "#l_model = load_model('./model_data/VGG_model.h5')"
   ]
  },
  {
   "cell_type": "code",
   "execution_count": 95,
   "metadata": {
    "scrolled": false
   },
   "outputs": [
    {
     "name": "stdout",
     "output_type": "stream",
     "text": [
      "4165/4165 [==============================] - 2s 519us/sample - loss: 4.4334e-04 - acc: 0.9998\n",
      "## evaluation loss and_metrics ##\n",
      "[0.0004433369258647911, 0.9997599]\n"
     ]
    }
   ],
   "source": [
    "loss_and_metrics = model.evaluate(x_test, y_test, batch_size=BS)\n",
    "print('## evaluation loss and_metrics ##')\n",
    "print(loss_and_metrics)"
   ]
  },
  {
   "cell_type": "code",
   "execution_count": 96,
   "metadata": {},
   "outputs": [
    {
     "name": "stdout",
     "output_type": "stream",
     "text": [
      "True : 1, Predict : 1\n",
      "True : 2, Predict : 2\n",
      "True : 1, Predict : 1\n",
      "True : 0, Predict : 0\n",
      "True : 1, Predict : 1\n",
      "True : 0, Predict : 0\n",
      "True : 1, Predict : 1\n",
      "True : 2, Predict : 2\n",
      "True : 0, Predict : 0\n",
      "True : 1, Predict : 1\n"
     ]
    }
   ],
   "source": [
    "xhat_idx = np.random.choice(x_test.shape[0], 10)\n",
    "xhat = x_test[xhat_idx]\n",
    "\n",
    "yhat_classes = model.predict_classes(xhat)\n",
    "\n",
    "for i in range(10):\n",
    "    print('True : ' + str(np.argmax(y_test[xhat_idx[i]])) + ', Predict : ' + str(yhat_classes[i]))"
   ]
  },
  {
   "cell_type": "markdown",
   "metadata": {},
   "source": [
    "# 7. 최종 모델 훈련"
   ]
  },
  {
   "cell_type": "code",
   "execution_count": 97,
   "metadata": {},
   "outputs": [
    {
     "name": "stdout",
     "output_type": "stream",
     "text": [
      "(13883, 64, 64, 3)\n",
      "(13883, 3)\n"
     ]
    }
   ],
   "source": [
    "x_total = np.vstack((x_train, x_test))\n",
    "y_total = np.vstack((y_train, y_test))\n",
    "\n",
    "print(x_total.shape)\n",
    "print(y_total.shape)"
   ]
  },
  {
   "cell_type": "code",
   "execution_count": 98,
   "metadata": {},
   "outputs": [],
   "source": [
    "early_stopping = EarlyStopping(monitor='loss', patience=10)"
   ]
  },
  {
   "cell_type": "code",
   "execution_count": 99,
   "metadata": {},
   "outputs": [],
   "source": [
    "reduce_lr = ReduceLROnPlateau(monitor='loss', factor=0.2,\n",
    "                              patience=5, min_lr=0.0001)"
   ]
  },
  {
   "cell_type": "code",
   "execution_count": 100,
   "metadata": {},
   "outputs": [
    {
     "name": "stdout",
     "output_type": "stream",
     "text": [
      "[INFO] compiling model...\n"
     ]
    }
   ],
   "source": [
    "EPOCHS = 50\n",
    "INIT_LR = 1e-4\n",
    "BS = 256\n",
    "split_ratio = 0.2\n",
    "\n",
    "print(\"[INFO] compiling model...\")\n",
    "opt = Adam(lr=INIT_LR, decay=INIT_LR / EPOCHS)\n",
    "model.compile(loss=\"categorical_crossentropy\", optimizer=opt,\n",
    "    metrics=[\"accuracy\"])"
   ]
  },
  {
   "cell_type": "code",
   "execution_count": 101,
   "metadata": {
    "scrolled": false
   },
   "outputs": [
    {
     "name": "stdout",
     "output_type": "stream",
     "text": [
      "Train on 13883 samples\n",
      "Epoch 1/50\n",
      "13883/13883 [==============================] - 19s 1ms/sample - loss: 0.0603 - acc: 0.9685\n",
      "Epoch 2/50\n",
      "13883/13883 [==============================] - 19s 1ms/sample - loss: 0.0525 - acc: 0.9745\n",
      "Epoch 3/50\n",
      "13883/13883 [==============================] - 18s 1ms/sample - loss: 0.0541 - acc: 0.9727\n",
      "Epoch 4/50\n",
      "13883/13883 [==============================] - 19s 1ms/sample - loss: 0.0505 - acc: 0.9740\n",
      "Epoch 5/50\n",
      "13883/13883 [==============================] - 18s 1ms/sample - loss: 0.0532 - acc: 0.9735\n",
      "Epoch 6/50\n",
      "13883/13883 [==============================] - 18s 1ms/sample - loss: 0.0521 - acc: 0.9718\n",
      "Epoch 7/50\n",
      "13883/13883 [==============================] - 19s 1ms/sample - loss: 0.0511 - acc: 0.9744\n",
      "Epoch 8/50\n",
      "13883/13883 [==============================] - 18s 1ms/sample - loss: 0.0492 - acc: 0.9724\n",
      "Epoch 9/50\n",
      "13883/13883 [==============================] - 19s 1ms/sample - loss: 0.0476 - acc: 0.9745\n",
      "Epoch 10/50\n",
      "13883/13883 [==============================] - 18s 1ms/sample - loss: 0.0493 - acc: 0.9734\n",
      "Epoch 11/50\n",
      "13883/13883 [==============================] - 18s 1ms/sample - loss: 0.0479 - acc: 0.9741\n",
      "Epoch 12/50\n",
      "13883/13883 [==============================] - 19s 1ms/sample - loss: 0.0499 - acc: 0.9728\n",
      "Epoch 13/50\n",
      "13883/13883 [==============================] - 18s 1ms/sample - loss: 0.0462 - acc: 0.9754\n",
      "Epoch 14/50\n",
      "13883/13883 [==============================] - 19s 1ms/sample - loss: 0.0495 - acc: 0.9745\n",
      "Epoch 15/50\n",
      "13883/13883 [==============================] - 18s 1ms/sample - loss: 0.0472 - acc: 0.9751\n",
      "Epoch 16/50\n",
      "13883/13883 [==============================] - 18s 1ms/sample - loss: 0.0493 - acc: 0.9732\n",
      "Epoch 17/50\n",
      "13883/13883 [==============================] - 19s 1ms/sample - loss: 0.0478 - acc: 0.9729\n",
      "Epoch 18/50\n",
      "13883/13883 [==============================] - 18s 1ms/sample - loss: 0.0448 - acc: 0.9738\n",
      "Epoch 19/50\n",
      "13883/13883 [==============================] - 19s 1ms/sample - loss: 0.0473 - acc: 0.9739\n",
      "Epoch 20/50\n",
      "13883/13883 [==============================] - 18s 1ms/sample - loss: 0.0433 - acc: 0.9749\n",
      "Epoch 21/50\n",
      "13883/13883 [==============================] - 19s 1ms/sample - loss: 0.0415 - acc: 0.9762\n",
      "Epoch 22/50\n",
      "13883/13883 [==============================] - 18s 1ms/sample - loss: 0.0452 - acc: 0.9741\n",
      "Epoch 23/50\n",
      "13883/13883 [==============================] - 18s 1ms/sample - loss: 0.0446 - acc: 0.9745\n",
      "Epoch 24/50\n",
      "13883/13883 [==============================] - 19s 1ms/sample - loss: 0.0446 - acc: 0.9743\n",
      "Epoch 25/50\n",
      "13883/13883 [==============================] - 18s 1ms/sample - loss: 0.0470 - acc: 0.9748\n",
      "Epoch 26/50\n",
      "13883/13883 [==============================] - 19s 1ms/sample - loss: 0.0447 - acc: 0.9752\n",
      "Epoch 27/50\n",
      "13883/13883 [==============================] - 19s 1ms/sample - loss: 0.0458 - acc: 0.9747\n",
      "Epoch 28/50\n",
      "13883/13883 [==============================] - 18s 1ms/sample - loss: 0.0422 - acc: 0.9764\n",
      "Epoch 29/50\n",
      "13883/13883 [==============================] - 19s 1ms/sample - loss: 0.0413 - acc: 0.9776\n",
      "Epoch 30/50\n",
      "13883/13883 [==============================] - 18s 1ms/sample - loss: 0.0421 - acc: 0.9764\n",
      "Epoch 31/50\n",
      "13883/13883 [==============================] - 19s 1ms/sample - loss: 0.0432 - acc: 0.9770\n",
      "Epoch 32/50\n",
      "13883/13883 [==============================] - 18s 1ms/sample - loss: 0.0435 - acc: 0.9754\n",
      "Epoch 33/50\n",
      "13883/13883 [==============================] - 18s 1ms/sample - loss: 0.0417 - acc: 0.9764\n",
      "Epoch 34/50\n",
      "13883/13883 [==============================] - 18s 1ms/sample - loss: 0.0392 - acc: 0.9782\n",
      "Epoch 35/50\n",
      "13883/13883 [==============================] - 18s 1ms/sample - loss: 0.0381 - acc: 0.9781\n",
      "Epoch 36/50\n",
      "13883/13883 [==============================] - 19s 1ms/sample - loss: 0.0394 - acc: 0.9767\n",
      "Epoch 37/50\n",
      "13883/13883 [==============================] - 18s 1ms/sample - loss: 0.0401 - acc: 0.9766\n",
      "Epoch 38/50\n",
      "13883/13883 [==============================] - 19s 1ms/sample - loss: 0.0392 - acc: 0.9763\n",
      "Epoch 39/50\n",
      "13883/13883 [==============================] - 18s 1ms/sample - loss: 0.0366 - acc: 0.9791\n",
      "Epoch 40/50\n",
      "13883/13883 [==============================] - 19s 1ms/sample - loss: 0.0412 - acc: 0.9767\n",
      "Epoch 41/50\n",
      "13883/13883 [==============================] - 19s 1ms/sample - loss: 0.0395 - acc: 0.9774\n",
      "Epoch 42/50\n",
      "13883/13883 [==============================] - 19s 1ms/sample - loss: 0.0397 - acc: 0.9767\n",
      "Epoch 43/50\n",
      "13883/13883 [==============================] - 19s 1ms/sample - loss: 0.0400 - acc: 0.9776\n",
      "Epoch 44/50\n",
      "13883/13883 [==============================] - 18s 1ms/sample - loss: 0.0375 - acc: 0.9788\n",
      "Epoch 45/50\n",
      "13883/13883 [==============================] - 19s 1ms/sample - loss: 0.0387 - acc: 0.9770\n",
      "Epoch 46/50\n",
      "13883/13883 [==============================] - 19s 1ms/sample - loss: 0.0362 - acc: 0.9775\n",
      "Epoch 47/50\n",
      "13883/13883 [==============================] - 18s 1ms/sample - loss: 0.0367 - acc: 0.9764\n",
      "Epoch 48/50\n",
      "13883/13883 [==============================] - 19s 1ms/sample - loss: 0.0377 - acc: 0.9757\n",
      "Epoch 49/50\n",
      "13883/13883 [==============================] - 18s 1ms/sample - loss: 0.0360 - acc: 0.9769\n",
      "Epoch 50/50\n",
      "13883/13883 [==============================] - 19s 1ms/sample - loss: 0.0391 - acc: 0.9746\n"
     ]
    }
   ],
   "source": [
    "hist = model.fit(x_total, y_total, \n",
    "                 epochs=EPOCHS, batch_size=BS, \n",
    "                 #validation_split=split_ratio, \n",
    "                 verbose = 1\n",
    "                 ,callbacks=[reduce_lr]\n",
    "                )"
   ]
  },
  {
   "cell_type": "code",
   "execution_count": 102,
   "metadata": {
    "scrolled": false
   },
   "outputs": [
    {
     "name": "stdout",
     "output_type": "stream",
     "text": [
      "4165/4165 [==============================] - 2s 533us/sample - loss: 6.0214e-07 - acc: 1.0000\n",
      "## evaluation loss and_metrics ##\n",
      "[6.02141996303638e-07, 1.0]\n"
     ]
    }
   ],
   "source": [
    "loss_and_metrics = model.evaluate(x_test, y_test, batch_size=BS)\n",
    "print('## evaluation loss and_metrics ##')\n",
    "print(loss_and_metrics)"
   ]
  },
  {
   "cell_type": "code",
   "execution_count": 103,
   "metadata": {},
   "outputs": [
    {
     "name": "stdout",
     "output_type": "stream",
     "text": [
      "True : 0, Predict : 0\n",
      "True : 2, Predict : 2\n",
      "True : 0, Predict : 0\n",
      "True : 1, Predict : 1\n",
      "True : 1, Predict : 1\n",
      "True : 1, Predict : 1\n",
      "True : 1, Predict : 1\n",
      "True : 2, Predict : 2\n",
      "True : 1, Predict : 1\n",
      "True : 1, Predict : 1\n"
     ]
    }
   ],
   "source": [
    "xhat_idx = np.random.choice(x_test.shape[0], 10)\n",
    "xhat = x_test[xhat_idx]\n",
    "\n",
    "yhat_classes = model.predict_classes(xhat)\n",
    "\n",
    "for i in range(10):\n",
    "    print('True : ' + str(np.argmax(y_test[xhat_idx[i]])) + ', Predict : ' + str(yhat_classes[i]))"
   ]
  },
  {
   "cell_type": "markdown",
   "metadata": {},
   "source": [
    "# 8. 모델 저장"
   ]
  },
  {
   "cell_type": "code",
   "execution_count": 104,
   "metadata": {},
   "outputs": [
    {
     "name": "stdout",
     "output_type": "stream",
     "text": [
      "Model: \"sequential_7\"\n",
      "_________________________________________________________________\n",
      "Layer (type)                 Output Shape              Param #   \n",
      "=================================================================\n",
      "conv2d_28 (Conv2D)           (None, 62, 62, 3)         84        \n",
      "_________________________________________________________________\n",
      "batch_normalization_7 (Batch (None, 62, 62, 3)         12        \n",
      "_________________________________________________________________\n",
      "max_pooling2d_28 (MaxPooling (None, 31, 31, 3)         0         \n",
      "_________________________________________________________________\n",
      "conv2d_29 (Conv2D)           (None, 29, 29, 9)         252       \n",
      "_________________________________________________________________\n",
      "max_pooling2d_29 (MaxPooling (None, 14, 14, 9)         0         \n",
      "_________________________________________________________________\n",
      "conv2d_30 (Conv2D)           (None, 12, 12, 18)        1476      \n",
      "_________________________________________________________________\n",
      "max_pooling2d_30 (MaxPooling (None, 6, 6, 18)          0         \n",
      "_________________________________________________________________\n",
      "conv2d_31 (Conv2D)           (None, 4, 4, 32)          5216      \n",
      "_________________________________________________________________\n",
      "max_pooling2d_31 (MaxPooling (None, 2, 2, 32)          0         \n",
      "_________________________________________________________________\n",
      "flatten_7 (Flatten)          (None, 128)               0         \n",
      "_________________________________________________________________\n",
      "dense_21 (Dense)             (None, 80)                10320     \n",
      "_________________________________________________________________\n",
      "dropout_14 (Dropout)         (None, 80)                0         \n",
      "_________________________________________________________________\n",
      "dense_22 (Dense)             (None, 15)                1215      \n",
      "_________________________________________________________________\n",
      "dropout_15 (Dropout)         (None, 15)                0         \n",
      "_________________________________________________________________\n",
      "dense_23 (Dense)             (None, 3)                 48        \n",
      "=================================================================\n",
      "Total params: 18,623\n",
      "Trainable params: 18,617\n",
      "Non-trainable params: 6\n",
      "_________________________________________________________________\n"
     ]
    }
   ],
   "source": [
    "model.summary()"
   ]
  },
  {
   "cell_type": "code",
   "execution_count": 105,
   "metadata": {},
   "outputs": [],
   "source": [
    "model.save('video_model_3.h5')"
   ]
  },
  {
   "cell_type": "code",
   "execution_count": 115,
   "metadata": {},
   "outputs": [
    {
     "name": "stdout",
     "output_type": "stream",
     "text": [
      "saved model to disk\n"
     ]
    }
   ],
   "source": [
    "model_json=model.to_json()\n",
    "with open('model1.json','w') as json_file:\n",
    "    json_file.write(model_json)\n",
    "    model.save_weights('model1.h5')\n",
    "print(\"saved model to disk\")"
   ]
  },
  {
   "cell_type": "code",
   "execution_count": 116,
   "metadata": {},
   "outputs": [
    {
     "name": "stdout",
     "output_type": "stream",
     "text": [
      "Saved model to disk\n"
     ]
    }
   ],
   "source": [
    "model_json = model.to_json()\n",
    "with open(\"model_test.json\", \"w\") as json_file:\n",
    "    json_file.write(model_json)\n",
    "# serialize weights to HDF5\n",
    "model.save_weights(\"model_test.h5\")\n",
    "print(\"Saved model to disk\")"
   ]
  },
  {
   "cell_type": "code",
   "execution_count": 113,
   "metadata": {},
   "outputs": [
    {
     "name": "stdout",
     "output_type": "stream",
     "text": [
      "Model: \"sequential_7\"\n",
      "_________________________________________________________________\n",
      "Layer (type)                 Output Shape              Param #   \n",
      "=================================================================\n",
      "conv2d_28 (Conv2D)           (None, 62, 62, 3)         84        \n",
      "_________________________________________________________________\n",
      "batch_normalization_7 (Batch (None, 62, 62, 3)         12        \n",
      "_________________________________________________________________\n",
      "max_pooling2d_28 (MaxPooling (None, 31, 31, 3)         0         \n",
      "_________________________________________________________________\n",
      "conv2d_29 (Conv2D)           (None, 29, 29, 9)         252       \n",
      "_________________________________________________________________\n",
      "max_pooling2d_29 (MaxPooling (None, 14, 14, 9)         0         \n",
      "_________________________________________________________________\n",
      "conv2d_30 (Conv2D)           (None, 12, 12, 18)        1476      \n",
      "_________________________________________________________________\n",
      "max_pooling2d_30 (MaxPooling (None, 6, 6, 18)          0         \n",
      "_________________________________________________________________\n",
      "conv2d_31 (Conv2D)           (None, 4, 4, 32)          5216      \n",
      "_________________________________________________________________\n",
      "max_pooling2d_31 (MaxPooling (None, 2, 2, 32)          0         \n",
      "_________________________________________________________________\n",
      "flatten_7 (Flatten)          (None, 128)               0         \n",
      "_________________________________________________________________\n",
      "dense_21 (Dense)             (None, 80)                10320     \n",
      "_________________________________________________________________\n",
      "dropout_14 (Dropout)         (None, 80)                0         \n",
      "_________________________________________________________________\n",
      "dense_22 (Dense)             (None, 15)                1215      \n",
      "_________________________________________________________________\n",
      "dropout_15 (Dropout)         (None, 15)                0         \n",
      "_________________________________________________________________\n",
      "dense_23 (Dense)             (None, 3)                 48        \n",
      "=================================================================\n",
      "Total params: 18,623\n",
      "Trainable params: 18,617\n",
      "Non-trainable params: 6\n",
      "_________________________________________________________________\n"
     ]
    }
   ],
   "source": [
    "model.summary()"
   ]
  },
  {
   "cell_type": "code",
   "execution_count": null,
   "metadata": {},
   "outputs": [],
   "source": []
  },
  {
   "cell_type": "code",
   "execution_count": 107,
   "metadata": {},
   "outputs": [
    {
     "ename": "TypeError",
     "evalue": "tuple indices must be integers or slices, not list",
     "output_type": "error",
     "traceback": [
      "\u001b[0;31m---------------------------------------------------------------------------\u001b[0m",
      "\u001b[0;31mTypeError\u001b[0m                                 Traceback (most recent call last)",
      "\u001b[0;32m<ipython-input-107-dc8e2422128e>\u001b[0m in \u001b[0;36m<module>\u001b[0;34m\u001b[0m\n\u001b[1;32m      3\u001b[0m \u001b[0mloaded_model_json\u001b[0m \u001b[0;34m=\u001b[0m \u001b[0mjson_file\u001b[0m\u001b[0;34m.\u001b[0m\u001b[0mread\u001b[0m\u001b[0;34m(\u001b[0m\u001b[0;34m)\u001b[0m\u001b[0;34m\u001b[0m\u001b[0;34m\u001b[0m\u001b[0m\n\u001b[1;32m      4\u001b[0m \u001b[0mjson_file\u001b[0m\u001b[0;34m.\u001b[0m\u001b[0mclose\u001b[0m\u001b[0;34m(\u001b[0m\u001b[0;34m)\u001b[0m\u001b[0;34m\u001b[0m\u001b[0;34m\u001b[0m\u001b[0m\n\u001b[0;32m----> 5\u001b[0;31m \u001b[0mloaded_model\u001b[0m \u001b[0;34m=\u001b[0m \u001b[0mmodel_from_json\u001b[0m\u001b[0;34m(\u001b[0m\u001b[0mloaded_model_json\u001b[0m\u001b[0;34m)\u001b[0m\u001b[0;34m\u001b[0m\u001b[0;34m\u001b[0m\u001b[0m\n\u001b[0m",
      "\u001b[0;32m~/anaconda3/lib/python3.7/site-packages/keras/engine/saving.py\u001b[0m in \u001b[0;36mmodel_from_json\u001b[0;34m(json_string, custom_objects)\u001b[0m\n\u001b[1;32m    662\u001b[0m     \u001b[0mconfig\u001b[0m \u001b[0;34m=\u001b[0m \u001b[0mjson\u001b[0m\u001b[0;34m.\u001b[0m\u001b[0mloads\u001b[0m\u001b[0;34m(\u001b[0m\u001b[0mjson_string\u001b[0m\u001b[0;34m)\u001b[0m\u001b[0;34m\u001b[0m\u001b[0;34m\u001b[0m\u001b[0m\n\u001b[1;32m    663\u001b[0m     \u001b[0;32mfrom\u001b[0m \u001b[0;34m.\u001b[0m\u001b[0;34m.\u001b[0m\u001b[0mlayers\u001b[0m \u001b[0;32mimport\u001b[0m \u001b[0mdeserialize\u001b[0m\u001b[0;34m\u001b[0m\u001b[0;34m\u001b[0m\u001b[0m\n\u001b[0;32m--> 664\u001b[0;31m     \u001b[0;32mreturn\u001b[0m \u001b[0mdeserialize\u001b[0m\u001b[0;34m(\u001b[0m\u001b[0mconfig\u001b[0m\u001b[0;34m,\u001b[0m \u001b[0mcustom_objects\u001b[0m\u001b[0;34m=\u001b[0m\u001b[0mcustom_objects\u001b[0m\u001b[0;34m)\u001b[0m\u001b[0;34m\u001b[0m\u001b[0;34m\u001b[0m\u001b[0m\n\u001b[0m\u001b[1;32m    665\u001b[0m \u001b[0;34m\u001b[0m\u001b[0m\n\u001b[1;32m    666\u001b[0m \u001b[0;34m\u001b[0m\u001b[0m\n",
      "\u001b[0;32m~/anaconda3/lib/python3.7/site-packages/keras/layers/__init__.py\u001b[0m in \u001b[0;36mdeserialize\u001b[0;34m(config, custom_objects)\u001b[0m\n\u001b[1;32m    166\u001b[0m                                     \u001b[0mmodule_objects\u001b[0m\u001b[0;34m=\u001b[0m\u001b[0mglobs\u001b[0m\u001b[0;34m,\u001b[0m\u001b[0;34m\u001b[0m\u001b[0;34m\u001b[0m\u001b[0m\n\u001b[1;32m    167\u001b[0m                                     \u001b[0mcustom_objects\u001b[0m\u001b[0;34m=\u001b[0m\u001b[0mcustom_objects\u001b[0m\u001b[0;34m,\u001b[0m\u001b[0;34m\u001b[0m\u001b[0;34m\u001b[0m\u001b[0m\n\u001b[0;32m--> 168\u001b[0;31m                                     printable_module_name='layer')\n\u001b[0m",
      "\u001b[0;32m~/anaconda3/lib/python3.7/site-packages/keras/utils/generic_utils.py\u001b[0m in \u001b[0;36mdeserialize_keras_object\u001b[0;34m(identifier, module_objects, custom_objects, printable_module_name)\u001b[0m\n\u001b[1;32m    145\u001b[0m                     \u001b[0mconfig\u001b[0m\u001b[0;34m[\u001b[0m\u001b[0;34m'config'\u001b[0m\u001b[0;34m]\u001b[0m\u001b[0;34m,\u001b[0m\u001b[0;34m\u001b[0m\u001b[0;34m\u001b[0m\u001b[0m\n\u001b[1;32m    146\u001b[0m                     custom_objects=dict(list(_GLOBAL_CUSTOM_OBJECTS.items()) +\n\u001b[0;32m--> 147\u001b[0;31m                                         list(custom_objects.items())))\n\u001b[0m\u001b[1;32m    148\u001b[0m             \u001b[0;32mwith\u001b[0m \u001b[0mCustomObjectScope\u001b[0m\u001b[0;34m(\u001b[0m\u001b[0mcustom_objects\u001b[0m\u001b[0;34m)\u001b[0m\u001b[0;34m:\u001b[0m\u001b[0;34m\u001b[0m\u001b[0;34m\u001b[0m\u001b[0m\n\u001b[1;32m    149\u001b[0m                 \u001b[0;32mreturn\u001b[0m \u001b[0mcls\u001b[0m\u001b[0;34m.\u001b[0m\u001b[0mfrom_config\u001b[0m\u001b[0;34m(\u001b[0m\u001b[0mconfig\u001b[0m\u001b[0;34m[\u001b[0m\u001b[0;34m'config'\u001b[0m\u001b[0;34m]\u001b[0m\u001b[0;34m)\u001b[0m\u001b[0;34m\u001b[0m\u001b[0;34m\u001b[0m\u001b[0m\n",
      "\u001b[0;32m~/anaconda3/lib/python3.7/site-packages/keras/engine/sequential.py\u001b[0m in \u001b[0;36mfrom_config\u001b[0;34m(cls, config, custom_objects)\u001b[0m\n\u001b[1;32m    300\u001b[0m             layer = layer_module.deserialize(conf,\n\u001b[1;32m    301\u001b[0m                                              custom_objects=custom_objects)\n\u001b[0;32m--> 302\u001b[0;31m             \u001b[0mmodel\u001b[0m\u001b[0;34m.\u001b[0m\u001b[0madd\u001b[0m\u001b[0;34m(\u001b[0m\u001b[0mlayer\u001b[0m\u001b[0;34m)\u001b[0m\u001b[0;34m\u001b[0m\u001b[0;34m\u001b[0m\u001b[0m\n\u001b[0m\u001b[1;32m    303\u001b[0m         \u001b[0;32mif\u001b[0m \u001b[0;32mnot\u001b[0m \u001b[0mmodel\u001b[0m\u001b[0;34m.\u001b[0m\u001b[0minputs\u001b[0m \u001b[0;32mand\u001b[0m \u001b[0mbuild_input_shape\u001b[0m\u001b[0;34m:\u001b[0m\u001b[0;34m\u001b[0m\u001b[0;34m\u001b[0m\u001b[0m\n\u001b[1;32m    304\u001b[0m             \u001b[0mmodel\u001b[0m\u001b[0;34m.\u001b[0m\u001b[0mbuild\u001b[0m\u001b[0;34m(\u001b[0m\u001b[0mbuild_input_shape\u001b[0m\u001b[0;34m)\u001b[0m\u001b[0;34m\u001b[0m\u001b[0;34m\u001b[0m\u001b[0m\n",
      "\u001b[0;32m~/anaconda3/lib/python3.7/site-packages/keras/engine/sequential.py\u001b[0m in \u001b[0;36madd\u001b[0;34m(self, layer)\u001b[0m\n\u001b[1;32m    180\u001b[0m                 \u001b[0mself\u001b[0m\u001b[0;34m.\u001b[0m\u001b[0minputs\u001b[0m \u001b[0;34m=\u001b[0m \u001b[0mnetwork\u001b[0m\u001b[0;34m.\u001b[0m\u001b[0mget_source_inputs\u001b[0m\u001b[0;34m(\u001b[0m\u001b[0mself\u001b[0m\u001b[0;34m.\u001b[0m\u001b[0moutputs\u001b[0m\u001b[0;34m[\u001b[0m\u001b[0;36m0\u001b[0m\u001b[0;34m]\u001b[0m\u001b[0;34m)\u001b[0m\u001b[0;34m\u001b[0m\u001b[0;34m\u001b[0m\u001b[0m\n\u001b[1;32m    181\u001b[0m         \u001b[0;32melif\u001b[0m \u001b[0mself\u001b[0m\u001b[0;34m.\u001b[0m\u001b[0moutputs\u001b[0m\u001b[0;34m:\u001b[0m\u001b[0;34m\u001b[0m\u001b[0;34m\u001b[0m\u001b[0m\n\u001b[0;32m--> 182\u001b[0;31m             \u001b[0moutput_tensor\u001b[0m \u001b[0;34m=\u001b[0m \u001b[0mlayer\u001b[0m\u001b[0;34m(\u001b[0m\u001b[0mself\u001b[0m\u001b[0;34m.\u001b[0m\u001b[0moutputs\u001b[0m\u001b[0;34m[\u001b[0m\u001b[0;36m0\u001b[0m\u001b[0;34m]\u001b[0m\u001b[0;34m)\u001b[0m\u001b[0;34m\u001b[0m\u001b[0;34m\u001b[0m\u001b[0m\n\u001b[0m\u001b[1;32m    183\u001b[0m             \u001b[0;32mif\u001b[0m \u001b[0misinstance\u001b[0m\u001b[0;34m(\u001b[0m\u001b[0moutput_tensor\u001b[0m\u001b[0;34m,\u001b[0m \u001b[0mlist\u001b[0m\u001b[0;34m)\u001b[0m\u001b[0;34m:\u001b[0m\u001b[0;34m\u001b[0m\u001b[0;34m\u001b[0m\u001b[0m\n\u001b[1;32m    184\u001b[0m                 raise TypeError('All layers in a Sequential model '\n",
      "\u001b[0;32m~/anaconda3/lib/python3.7/site-packages/keras/engine/base_layer.py\u001b[0m in \u001b[0;36m__call__\u001b[0;34m(self, inputs, **kwargs)\u001b[0m\n\u001b[1;32m    461\u001b[0m                                          \u001b[0;34m'You can build it manually via: '\u001b[0m\u001b[0;34m\u001b[0m\u001b[0;34m\u001b[0m\u001b[0m\n\u001b[1;32m    462\u001b[0m                                          '`layer.build(batch_input_shape)`')\n\u001b[0;32m--> 463\u001b[0;31m                 \u001b[0mself\u001b[0m\u001b[0;34m.\u001b[0m\u001b[0mbuild\u001b[0m\u001b[0;34m(\u001b[0m\u001b[0munpack_singleton\u001b[0m\u001b[0;34m(\u001b[0m\u001b[0minput_shapes\u001b[0m\u001b[0;34m)\u001b[0m\u001b[0;34m)\u001b[0m\u001b[0;34m\u001b[0m\u001b[0;34m\u001b[0m\u001b[0m\n\u001b[0m\u001b[1;32m    464\u001b[0m                 \u001b[0mself\u001b[0m\u001b[0;34m.\u001b[0m\u001b[0mbuilt\u001b[0m \u001b[0;34m=\u001b[0m \u001b[0;32mTrue\u001b[0m\u001b[0;34m\u001b[0m\u001b[0;34m\u001b[0m\u001b[0m\n\u001b[1;32m    465\u001b[0m \u001b[0;34m\u001b[0m\u001b[0m\n",
      "\u001b[0;32m~/anaconda3/lib/python3.7/site-packages/keras/layers/normalization.py\u001b[0m in \u001b[0;36mbuild\u001b[0;34m(self, input_shape)\u001b[0m\n\u001b[1;32m     92\u001b[0m \u001b[0;34m\u001b[0m\u001b[0m\n\u001b[1;32m     93\u001b[0m     \u001b[0;32mdef\u001b[0m \u001b[0mbuild\u001b[0m\u001b[0;34m(\u001b[0m\u001b[0mself\u001b[0m\u001b[0;34m,\u001b[0m \u001b[0minput_shape\u001b[0m\u001b[0;34m)\u001b[0m\u001b[0;34m:\u001b[0m\u001b[0;34m\u001b[0m\u001b[0;34m\u001b[0m\u001b[0m\n\u001b[0;32m---> 94\u001b[0;31m         \u001b[0mdim\u001b[0m \u001b[0;34m=\u001b[0m \u001b[0minput_shape\u001b[0m\u001b[0;34m[\u001b[0m\u001b[0mself\u001b[0m\u001b[0;34m.\u001b[0m\u001b[0maxis\u001b[0m\u001b[0;34m]\u001b[0m\u001b[0;34m\u001b[0m\u001b[0;34m\u001b[0m\u001b[0m\n\u001b[0m\u001b[1;32m     95\u001b[0m         \u001b[0;32mif\u001b[0m \u001b[0mdim\u001b[0m \u001b[0;32mis\u001b[0m \u001b[0;32mNone\u001b[0m\u001b[0;34m:\u001b[0m\u001b[0;34m\u001b[0m\u001b[0;34m\u001b[0m\u001b[0m\n\u001b[1;32m     96\u001b[0m             raise ValueError('Axis ' + str(self.axis) + ' of '\n",
      "\u001b[0;31mTypeError\u001b[0m: tuple indices must be integers or slices, not list"
     ]
    }
   ],
   "source": [
    "from keras.models import model_from_json\n",
    "json_file = open('model1.json','r')\n",
    "loaded_model_json = json_file.read()\n",
    "json_file.close()\n",
    "loaded_model = model_from_json(loaded_model_json)"
   ]
  },
  {
   "cell_type": "code",
   "execution_count": null,
   "metadata": {},
   "outputs": [],
   "source": []
  }
 ],
 "metadata": {
  "kernelspec": {
   "display_name": "Python 3",
   "language": "python",
   "name": "python3"
  },
  "language_info": {
   "codemirror_mode": {
    "name": "ipython",
    "version": 3
   },
   "file_extension": ".py",
   "mimetype": "text/x-python",
   "name": "python",
   "nbconvert_exporter": "python",
   "pygments_lexer": "ipython3",
   "version": "3.7.3"
  }
 },
 "nbformat": 4,
 "nbformat_minor": 2
}
