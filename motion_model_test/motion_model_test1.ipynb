{
 "cells": [
  {
   "cell_type": "markdown",
   "metadata": {},
   "source": [
    "# 0. 사용할 패키지 불러오기"
   ]
  },
  {
   "cell_type": "code",
   "execution_count": 43,
   "metadata": {},
   "outputs": [],
   "source": [
    "from tensorflow.python.keras.models import Sequential\n",
    "from tensorflow.python.keras.layers.normalization import BatchNormalization\n",
    "from tensorflow.python.keras.layers.convolutional import Conv2D\n",
    "from tensorflow.python.keras.layers.convolutional import MaxPooling2D\n",
    "from tensorflow.python.keras.layers.core import Activation\n",
    "from tensorflow.python.keras.layers.core import Flatten\n",
    "from tensorflow.python.keras.layers.core import Dropout\n",
    "from tensorflow.python.keras.layers.core import Dense\n",
    "from tensorflow.python.keras import backend as K\n",
    "from tensorflow.python.keras.preprocessing.image import ImageDataGenerator\n",
    "from tensorflow.python.keras.optimizers import Adam\n",
    "from tensorflow.python.keras.callbacks import EarlyStopping, ReduceLROnPlateau\n",
    "from tensorflow.python.keras.models import load_model"
   ]
  },
  {
   "cell_type": "markdown",
   "metadata": {},
   "source": [
    "# 1. 데이터 불러오기"
   ]
  },
  {
   "cell_type": "code",
   "execution_count": 44,
   "metadata": {},
   "outputs": [
    {
     "name": "stdout",
     "output_type": "stream",
     "text": [
      "[name: \"/device:CPU:0\"\n",
      "device_type: \"CPU\"\n",
      "memory_limit: 268435456\n",
      "locality {\n",
      "}\n",
      "incarnation: 2570501045140657975\n",
      ", name: \"/device:XLA_CPU:0\"\n",
      "device_type: \"XLA_CPU\"\n",
      "memory_limit: 17179869184\n",
      "locality {\n",
      "}\n",
      "incarnation: 17100414550947858036\n",
      "physical_device_desc: \"device: XLA_CPU device\"\n",
      ", name: \"/device:GPU:0\"\n",
      "device_type: \"GPU\"\n",
      "memory_limit: 7554842624\n",
      "locality {\n",
      "  bus_id: 1\n",
      "  links {\n",
      "  }\n",
      "}\n",
      "incarnation: 1371912965084248098\n",
      "physical_device_desc: \"device: 0, name: GeForce RTX 2080, pci bus id: 0000:17:00.0, compute capability: 7.5\"\n",
      ", name: \"/device:GPU:1\"\n",
      "device_type: \"GPU\"\n",
      "memory_limit: 6732958925\n",
      "locality {\n",
      "  bus_id: 1\n",
      "  links {\n",
      "  }\n",
      "}\n",
      "incarnation: 14256344624910917709\n",
      "physical_device_desc: \"device: 1, name: GeForce RTX 2080, pci bus id: 0000:b3:00.0, compute capability: 7.5\"\n",
      ", name: \"/device:XLA_GPU:0\"\n",
      "device_type: \"XLA_GPU\"\n",
      "memory_limit: 17179869184\n",
      "locality {\n",
      "}\n",
      "incarnation: 7889936604465062004\n",
      "physical_device_desc: \"device: XLA_GPU device\"\n",
      "]\n"
     ]
    }
   ],
   "source": [
    "from tensorflow.python.client import device_lib\n",
    "\n",
    "print(device_lib.list_local_devices())\n"
   ]
  },
  {
   "cell_type": "code",
   "execution_count": 45,
   "metadata": {},
   "outputs": [
    {
     "name": "stdout",
     "output_type": "stream",
     "text": [
      "(0, 3)\n",
      "(1, 320, 320, 3)\n",
      "(1, 320, 320, 3)\n",
      "(1, 320, 320, 3)\n",
      "(1, 320, 320, 3)\n",
      "(1, 320, 320, 3)\n",
      "(1, 320, 320, 3)\n",
      "(1, 320, 320, 3)\n",
      "(1, 320, 320, 3)\n",
      "(1, 320, 320, 3)\n",
      "(1, 320, 320, 3)\n",
      "(1, 320, 320, 3)\n",
      "(1, 320, 320, 3)\n",
      "(1, 320, 320, 3)\n",
      "(1, 320, 320, 3)\n",
      "(1, 320, 320, 3)\n",
      "(1, 320, 320, 3)\n",
      "(1, 320, 320, 3)\n",
      "(1, 320, 320, 3)\n",
      "(1, 320, 320, 3)\n",
      "(1, 320, 320, 3)\n",
      "(1, 320, 320, 3)\n",
      "(1, 320, 320, 3)\n",
      "(1, 320, 320, 3)\n",
      "(1, 320, 320, 3)\n",
      "(1, 320, 320, 3)\n",
      "(1, 320, 320, 3)\n",
      "(1, 320, 320, 3)\n",
      "(1, 320, 320, 3)\n",
      "(1, 320, 320, 3)\n",
      "(1, 320, 320, 3)\n",
      "(1, 320, 320, 3)\n",
      "(1, 320, 320, 3)\n",
      "(1, 320, 320, 3)\n",
      "(1, 320, 320, 3)\n",
      "(1, 320, 320, 3)\n",
      "(1, 320, 320, 3)\n",
      "(1, 320, 320, 3)\n",
      "(1, 320, 320, 3)\n",
      "(1, 320, 320, 3)\n",
      "(1, 320, 320, 3)\n",
      "(1, 320, 320, 3)\n",
      "(1, 320, 320, 3)\n",
      "(1, 320, 320, 3)\n",
      "(1, 320, 320, 3)\n",
      "(1, 320, 320, 3)\n",
      "(1, 320, 320, 3)\n",
      "(1, 320, 320, 3)\n",
      "(1, 320, 320, 3)\n",
      "(1, 320, 320, 3)\n",
      "(1, 320, 320, 3)\n",
      "(1, 320, 320, 3)\n",
      "(1, 320, 320, 3)\n",
      "(1, 320, 320, 3)\n",
      "(1, 320, 320, 3)\n",
      "(1, 320, 320, 3)\n",
      "(1, 320, 320, 3)\n",
      "(1, 320, 320, 3)\n",
      "(1, 320, 320, 3)\n",
      "(1, 320, 320, 3)\n",
      "(1, 320, 320, 3)\n",
      "(1, 320, 320, 3)\n",
      "(1, 320, 320, 3)\n",
      "(1, 320, 320, 3)\n",
      "(1, 320, 320, 3)\n",
      "(1, 320, 320, 3)\n",
      "(1, 320, 320, 3)\n"
     ]
    },
    {
     "ename": "KeyboardInterrupt",
     "evalue": "",
     "output_type": "error",
     "traceback": [
      "\u001b[0;31m---------------------------------------------------------------------------\u001b[0m",
      "\u001b[0;31mKeyboardInterrupt\u001b[0m                         Traceback (most recent call last)",
      "\u001b[0;32m<ipython-input-45-60d8defde96d>\u001b[0m in \u001b[0;36m<module>\u001b[0;34m\u001b[0m\n\u001b[1;32m     19\u001b[0m     \u001b[0mx\u001b[0m \u001b[0;34m=\u001b[0m \u001b[0mnp\u001b[0m\u001b[0;34m.\u001b[0m\u001b[0mreshape\u001b[0m\u001b[0;34m(\u001b[0m\u001b[0mx\u001b[0m\u001b[0;34m,\u001b[0m \u001b[0;34m(\u001b[0m\u001b[0;34m-\u001b[0m\u001b[0;36m1\u001b[0m\u001b[0;34m,\u001b[0m \u001b[0;36m320\u001b[0m\u001b[0;34m,\u001b[0m \u001b[0;36m320\u001b[0m\u001b[0;34m,\u001b[0m \u001b[0;36m3\u001b[0m\u001b[0;34m)\u001b[0m\u001b[0;34m)\u001b[0m\u001b[0;34m\u001b[0m\u001b[0;34m\u001b[0m\u001b[0m\n\u001b[1;32m     20\u001b[0m \u001b[0;34m\u001b[0m\u001b[0m\n\u001b[0;32m---> 21\u001b[0;31m     \u001b[0mx_train\u001b[0m \u001b[0;34m=\u001b[0m \u001b[0mnp\u001b[0m\u001b[0;34m.\u001b[0m\u001b[0mvstack\u001b[0m\u001b[0;34m(\u001b[0m\u001b[0;34m(\u001b[0m\u001b[0mx_train\u001b[0m\u001b[0;34m,\u001b[0m \u001b[0mx\u001b[0m\u001b[0;34m)\u001b[0m\u001b[0;34m)\u001b[0m\u001b[0;34m\u001b[0m\u001b[0;34m\u001b[0m\u001b[0m\n\u001b[0m\u001b[1;32m     22\u001b[0m     \u001b[0my_train\u001b[0m \u001b[0;34m=\u001b[0m \u001b[0mnp\u001b[0m\u001b[0;34m.\u001b[0m\u001b[0mvstack\u001b[0m\u001b[0;34m(\u001b[0m\u001b[0;34m(\u001b[0m\u001b[0my_train\u001b[0m\u001b[0;34m,\u001b[0m \u001b[0my\u001b[0m\u001b[0;34m)\u001b[0m\u001b[0;34m)\u001b[0m\u001b[0;34m\u001b[0m\u001b[0;34m\u001b[0m\u001b[0m\n\u001b[1;32m     23\u001b[0m     \u001b[0;31m#print(idx)\u001b[0m\u001b[0;34m\u001b[0m\u001b[0;34m\u001b[0m\u001b[0;34m\u001b[0m\u001b[0m\n",
      "\u001b[0;32m~/anaconda3/envs/frcnn1/lib/python3.6/site-packages/numpy/core/shape_base.py\u001b[0m in \u001b[0;36mvstack\u001b[0;34m(tup)\u001b[0m\n\u001b[1;32m    281\u001b[0m     \"\"\"\n\u001b[1;32m    282\u001b[0m     \u001b[0m_warn_for_nonsequence\u001b[0m\u001b[0;34m(\u001b[0m\u001b[0mtup\u001b[0m\u001b[0;34m)\u001b[0m\u001b[0;34m\u001b[0m\u001b[0;34m\u001b[0m\u001b[0m\n\u001b[0;32m--> 283\u001b[0;31m     \u001b[0;32mreturn\u001b[0m \u001b[0m_nx\u001b[0m\u001b[0;34m.\u001b[0m\u001b[0mconcatenate\u001b[0m\u001b[0;34m(\u001b[0m\u001b[0;34m[\u001b[0m\u001b[0matleast_2d\u001b[0m\u001b[0;34m(\u001b[0m\u001b[0m_m\u001b[0m\u001b[0;34m)\u001b[0m \u001b[0;32mfor\u001b[0m \u001b[0m_m\u001b[0m \u001b[0;32min\u001b[0m \u001b[0mtup\u001b[0m\u001b[0;34m]\u001b[0m\u001b[0;34m,\u001b[0m \u001b[0;36m0\u001b[0m\u001b[0;34m)\u001b[0m\u001b[0;34m\u001b[0m\u001b[0;34m\u001b[0m\u001b[0m\n\u001b[0m\u001b[1;32m    284\u001b[0m \u001b[0;34m\u001b[0m\u001b[0m\n\u001b[1;32m    285\u001b[0m \u001b[0;34m\u001b[0m\u001b[0m\n",
      "\u001b[0;31mKeyboardInterrupt\u001b[0m: "
     ]
    }
   ],
   "source": [
    "import numpy as np\n",
    "import glob\n",
    "import sys\n",
    "from sklearn.model_selection import train_test_split\n",
    "\n",
    "x_train = np.empty((0, 320, 320, 3))\n",
    "y_train = np.empty((0, 3))\n",
    "print(y_train.shape)\n",
    "\n",
    "training_data = glob.glob('/home/pirl/Documents/final_motion_npz_22/*.npz')\n",
    "#print(training_data)\n",
    "idx=1\n",
    "for single_npz in training_data:\n",
    "    with np.load(single_npz) as data:\n",
    "        #print(data.files)\n",
    "        x = data['train']\n",
    "        y = data['training_labels']\n",
    "        print(x.shape)\n",
    "    x = np.reshape(x, (-1, 320, 320, 3))\n",
    "    \n",
    "    x_train = np.vstack((x_train, x))\n",
    "    y_train = np.vstack((y_train, y))\n",
    "    #print(idx)\n",
    "    idx+=1\n",
    "print(x_train.shape)\n",
    "# train test split, 7:3\n",
    "x_train, x_test, y_train, y_test = train_test_split(x_train, y_train, test_size=0.3, random_state = 42)\n",
    "\n",
    "y_train = y_train[:,:]\n",
    "y_test = y_test[:,:]\n",
    "\n",
    "print(x_train.shape, y_train.shape)\n",
    "print(x_test.shape, y_test.shape)"
   ]
  },
  {
   "cell_type": "markdown",
   "metadata": {},
   "source": [
    "# 데이터 확인"
   ]
  },
  {
   "cell_type": "code",
   "execution_count": null,
   "metadata": {},
   "outputs": [],
   "source": [
    "#import pandas as pd\n",
    "\n",
    "#y_data = pd.DataFrame(y_total[:, :])"
   ]
  },
  {
   "cell_type": "code",
   "execution_count": null,
   "metadata": {},
   "outputs": [],
   "source": [
    "#y_data.count()"
   ]
  },
  {
   "cell_type": "code",
   "execution_count": null,
   "metadata": {},
   "outputs": [],
   "source": [
    "#left = y_data.loc[y_data[:][0] == 1]"
   ]
  },
  {
   "cell_type": "code",
   "execution_count": null,
   "metadata": {
    "scrolled": true
   },
   "outputs": [],
   "source": [
    "#left.count()"
   ]
  },
  {
   "cell_type": "code",
   "execution_count": null,
   "metadata": {},
   "outputs": [],
   "source": [
    "#right = y_data.loc[y_data[:][1] == 1]"
   ]
  },
  {
   "cell_type": "code",
   "execution_count": null,
   "metadata": {
    "scrolled": true
   },
   "outputs": [],
   "source": [
    "#right.count()"
   ]
  },
  {
   "cell_type": "code",
   "execution_count": null,
   "metadata": {},
   "outputs": [],
   "source": [
    "#forward = y_data.loc[y_data[:][2] == 1]"
   ]
  },
  {
   "cell_type": "code",
   "execution_count": null,
   "metadata": {},
   "outputs": [],
   "source": [
    "#forward.count()"
   ]
  },
  {
   "cell_type": "code",
   "execution_count": 7,
   "metadata": {
    "scrolled": false
   },
   "outputs": [
    {
     "name": "stderr",
     "output_type": "stream",
     "text": [
      "Clipping input data to the valid range for imshow with RGB data ([0..1] for floats or [0..255] for integers).\n",
      "Clipping input data to the valid range for imshow with RGB data ([0..1] for floats or [0..255] for integers).\n",
      "Clipping input data to the valid range for imshow with RGB data ([0..1] for floats or [0..255] for integers).\n",
      "Clipping input data to the valid range for imshow with RGB data ([0..1] for floats or [0..255] for integers).\n",
      "Clipping input data to the valid range for imshow with RGB data ([0..1] for floats or [0..255] for integers).\n",
      "Clipping input data to the valid range for imshow with RGB data ([0..1] for floats or [0..255] for integers).\n",
      "Clipping input data to the valid range for imshow with RGB data ([0..1] for floats or [0..255] for integers).\n",
      "Clipping input data to the valid range for imshow with RGB data ([0..1] for floats or [0..255] for integers).\n",
      "Clipping input data to the valid range for imshow with RGB data ([0..1] for floats or [0..255] for integers).\n",
      "Clipping input data to the valid range for imshow with RGB data ([0..1] for floats or [0..255] for integers).\n",
      "Clipping input data to the valid range for imshow with RGB data ([0..1] for floats or [0..255] for integers).\n",
      "Clipping input data to the valid range for imshow with RGB data ([0..1] for floats or [0..255] for integers).\n",
      "Clipping input data to the valid range for imshow with RGB data ([0..1] for floats or [0..255] for integers).\n",
      "Clipping input data to the valid range for imshow with RGB data ([0..1] for floats or [0..255] for integers).\n",
      "Clipping input data to the valid range for imshow with RGB data ([0..1] for floats or [0..255] for integers).\n",
      "Clipping input data to the valid range for imshow with RGB data ([0..1] for floats or [0..255] for integers).\n",
      "Clipping input data to the valid range for imshow with RGB data ([0..1] for floats or [0..255] for integers).\n",
      "Clipping input data to the valid range for imshow with RGB data ([0..1] for floats or [0..255] for integers).\n",
      "Clipping input data to the valid range for imshow with RGB data ([0..1] for floats or [0..255] for integers).\n",
      "Clipping input data to the valid range for imshow with RGB data ([0..1] for floats or [0..255] for integers).\n",
      "Clipping input data to the valid range for imshow with RGB data ([0..1] for floats or [0..255] for integers).\n",
      "Clipping input data to the valid range for imshow with RGB data ([0..1] for floats or [0..255] for integers).\n",
      "Clipping input data to the valid range for imshow with RGB data ([0..1] for floats or [0..255] for integers).\n",
      "Clipping input data to the valid range for imshow with RGB data ([0..1] for floats or [0..255] for integers).\n",
      "Clipping input data to the valid range for imshow with RGB data ([0..1] for floats or [0..255] for integers).\n"
     ]
    },
    {
     "data": {
      "image/png": "[encoded data removed]",
      "text/plain": [
       "<Figure size 720x720 with 25 Axes>"
      ]
     },
     "metadata": {
      "needs_background": "light"
     },
     "output_type": "display_data"
    }
   ],
   "source": [
    "# 데이터 확인\n",
    "\n",
    "from matplotlib import pyplot as plt\n",
    "%matplotlib inline\n",
    "\n",
    "plt_row = 5\n",
    "plt_col = 5\n",
    "plt.rcParams[\"figure.figsize\"] = (10,10)\n",
    "\n",
    "f, axarr = plt.subplots(plt_row, plt_col)\n",
    "\n",
    "for i in range(plt_row*plt_col):\n",
    "\n",
    "    sub_plt = axarr[int(i/plt_row), int(i%plt_col)]\n",
    "    sub_plt.axis('off')\n",
    "    sub_plt.imshow(x_train[i].reshape(320, 320,3))\n",
    "    \n",
    "    label = np.argmax(y_train[i])\n",
    "                      \n",
    "    if label == 2 :\n",
    "        direction = 'left'\n",
    "    elif label == 1:\n",
    "        direction = 'right'\n",
    "    elif label == 0:\n",
    "        direction = 'forward'\n",
    "#     elif label == 3:\n",
    "#         direction = 'backward'\n",
    "                      \n",
    "    sub_plt_title = str(label) + \" : \" + direction\n",
    "    sub_plt.set_title(sub_plt_title)\n",
    "\n",
    "plt.show()"
   ]
  },
  {
   "cell_type": "markdown",
   "metadata": {},
   "source": [
    "# 3. 모델 생성"
   ]
  },
  {
   "cell_type": "code",
   "execution_count": 18,
   "metadata": {},
   "outputs": [],
   "source": [
    "# image size = 160 x 320\n",
    "def posla_net():\n",
    "    \n",
    "    # model setting\n",
    "    H = 320\n",
    "    W = 320\n",
    "    CH = 3\n",
    "\n",
    "    inputShape = (H, W, CH)\n",
    "\n",
    "    activation = 'relu'\n",
    "    keep_prob_conv = 0.25\n",
    "    keep_prob_dense = 0.5\n",
    "\n",
    "    #init = 'glorot_normal'\n",
    "    #init = 'he_normal'\n",
    "    init = 'he_uniform'\n",
    "    chanDim = -1\n",
    "    classes = 3\n",
    "    \n",
    "    model = Sequential()\n",
    "    \n",
    "    # CONV => RELU => POOL\n",
    "    model.add(Conv2D(3, (3, 3), padding=\"valid\", input_shape=inputShape, kernel_initializer=init, activation=activation))\n",
    "    model.add(BatchNormalization(axis=chanDim))\n",
    "    model.add(MaxPooling2D(pool_size=(2, 2)))\n",
    "    \n",
    "    model.add(Conv2D(9, (3, 3), padding=\"valid\", kernel_initializer=init, activation=activation))\n",
    "    model.add(MaxPooling2D(pool_size=(2, 2)))\n",
    "    \n",
    "    model.add(Conv2D(18, (3, 3), padding=\"valid\", kernel_initializer=init, activation=activation))\n",
    "    model.add(MaxPooling2D(pool_size=(2, 2)))\n",
    "    \n",
    "    model.add(Conv2D(32, (3, 3), padding=\"valid\", kernel_initializer=init, activation=activation))\n",
    "    model.add(MaxPooling2D(pool_size=(2, 2)))\n",
    "    \n",
    "    model.add(Flatten())\n",
    "    \n",
    "    model.add(Dense(80, kernel_initializer=init, activation=activation))\n",
    "    model.add(Dropout(keep_prob_dense))\n",
    "    \n",
    "    model.add(Dense(15, kernel_initializer=init, activation=activation))\n",
    "    model.add(Dropout(keep_prob_dense))\n",
    "    \n",
    "    # softmax classifier\n",
    "    model.add(Dense(classes , activation = 'softmax'))\n",
    "    \n",
    "    return model"
   ]
  },
  {
   "cell_type": "code",
   "execution_count": 19,
   "metadata": {
    "scrolled": true
   },
   "outputs": [
    {
     "name": "stdout",
     "output_type": "stream",
     "text": [
      "_________________________________________________________________\n",
      "Layer (type)                 Output Shape              Param #   \n",
      "=================================================================\n",
      "conv2d_4 (Conv2D)            (None, 318, 318, 3)       84        \n",
      "_________________________________________________________________\n",
      "batch_normalization_1 (Batch (None, 318, 318, 3)       12        \n",
      "_________________________________________________________________\n",
      "max_pooling2d_4 (MaxPooling2 (None, 159, 159, 3)       0         \n",
      "_________________________________________________________________\n",
      "conv2d_5 (Conv2D)            (None, 157, 157, 9)       252       \n",
      "_________________________________________________________________\n",
      "max_pooling2d_5 (MaxPooling2 (None, 78, 78, 9)         0         \n",
      "_________________________________________________________________\n",
      "conv2d_6 (Conv2D)            (None, 76, 76, 18)        1476      \n",
      "_________________________________________________________________\n",
      "max_pooling2d_6 (MaxPooling2 (None, 38, 38, 18)        0         \n",
      "_________________________________________________________________\n",
      "conv2d_7 (Conv2D)            (None, 36, 36, 32)        5216      \n",
      "_________________________________________________________________\n",
      "max_pooling2d_7 (MaxPooling2 (None, 18, 18, 32)        0         \n",
      "_________________________________________________________________\n",
      "flatten_1 (Flatten)          (None, 10368)             0         \n",
      "_________________________________________________________________\n",
      "dense_3 (Dense)              (None, 80)                829520    \n",
      "_________________________________________________________________\n",
      "dropout_2 (Dropout)          (None, 80)                0         \n",
      "_________________________________________________________________\n",
      "dense_4 (Dense)              (None, 15)                1215      \n",
      "_________________________________________________________________\n",
      "dropout_3 (Dropout)          (None, 15)                0         \n",
      "_________________________________________________________________\n",
      "dense_5 (Dense)              (None, 3)                 48        \n",
      "=================================================================\n",
      "Total params: 837,823\n",
      "Trainable params: 837,817\n",
      "Non-trainable params: 6\n",
      "_________________________________________________________________\n"
     ]
    }
   ],
   "source": [
    "model = posla_net()\n",
    "model.summary()"
   ]
  },
  {
   "cell_type": "code",
   "execution_count": 20,
   "metadata": {},
   "outputs": [],
   "source": [
    "from tensorflow.python.keras.utils import plot_model\n",
    "plot_model(model, to_file= 'video_net_plot.png', show_shapes = True, show_layer_names = True)"
   ]
  },
  {
   "cell_type": "markdown",
   "metadata": {},
   "source": [
    "# 4. 모델 파라미터 셋팅"
   ]
  },
  {
   "cell_type": "markdown",
   "metadata": {},
   "source": [
    "적은 수의 이미지 데이터가 존재할 경우 데이터를 늘리는 용도로 사용"
   ]
  },
  {
   "cell_type": "code",
   "execution_count": 21,
   "metadata": {},
   "outputs": [],
   "source": [
    "aug = ImageDataGenerator(rotation_range=25, width_shift_range=0.1,\n",
    "    height_shift_range=0.1, shear_range=0.2, zoom_range=0.2,\n",
    "    horizontal_flip=True, fill_mode=\"nearest\")"
   ]
  },
  {
   "cell_type": "code",
   "execution_count": 22,
   "metadata": {},
   "outputs": [],
   "source": [
    "early_stopping = EarlyStopping(monitor='val_loss', patience=10)"
   ]
  },
  {
   "cell_type": "code",
   "execution_count": 23,
   "metadata": {},
   "outputs": [],
   "source": [
    "reduce_lr = ReduceLROnPlateau(monitor='val_loss', factor=0.2,\n",
    "                              patience=5, min_lr=0.0001)"
   ]
  },
  {
   "cell_type": "code",
   "execution_count": 24,
   "metadata": {},
   "outputs": [],
   "source": [
    "# initialize the model\n",
    "# EPOCHS = 50\n",
    "# INIT_LR = 1e-3\n",
    "# BS = 32\n",
    "# split_ratio = 0.2"
   ]
  },
  {
   "cell_type": "code",
   "execution_count": 25,
   "metadata": {},
   "outputs": [
    {
     "name": "stdout",
     "output_type": "stream",
     "text": [
      "[INFO] compiling model...\n"
     ]
    }
   ],
   "source": [
    "EPOCHS = 50\n",
    "INIT_LR = 1e-4\n",
    "BS = 256\n",
    "split_ratio = 0.2\n",
    "\n",
    "print(\"[INFO] compiling model...\")\n",
    "opt = Adam(lr=INIT_LR, decay=INIT_LR / EPOCHS)\n",
    "model.compile(loss=\"categorical_crossentropy\", optimizer=opt,\n",
    "    metrics=[\"accuracy\"])\n",
    " "
   ]
  },
  {
   "cell_type": "markdown",
   "metadata": {},
   "source": [
    "# 5. 모델 훈련"
   ]
  },
  {
   "cell_type": "code",
   "execution_count": 26,
   "metadata": {},
   "outputs": [],
   "source": [
    "from tensorflow.keras.utils import to_categorical\n"
   ]
  },
  {
   "cell_type": "code",
   "execution_count": 27,
   "metadata": {},
   "outputs": [],
   "source": [
    "y_binary = to_categorical(y_train)"
   ]
  },
  {
   "cell_type": "code",
   "execution_count": 29,
   "metadata": {
    "scrolled": false
   },
   "outputs": [
    {
     "name": "stdout",
     "output_type": "stream",
     "text": [
      "Train on 57 samples, validate on 15 samples\n",
      "Epoch 1/50\n",
      "57/57 [==============================] - 12s 217ms/step - loss: 4.5065 - acc: 0.4386 - val_loss: 13.8975 - val_acc: 0.1333\n",
      "Epoch 2/50\n",
      "57/57 [==============================] - 0s 6ms/step - loss: 5.1917 - acc: 0.3333 - val_loss: 13.2504 - val_acc: 0.1333\n",
      "Epoch 3/50\n",
      "57/57 [==============================] - 0s 5ms/step - loss: 3.8670 - acc: 0.3684 - val_loss: 12.3775 - val_acc: 0.1333\n",
      "Epoch 4/50\n",
      "57/57 [==============================] - 0s 5ms/step - loss: 3.4400 - acc: 0.3860 - val_loss: 9.2599 - val_acc: 0.2000\n",
      "Epoch 5/50\n",
      "57/57 [==============================] - 0s 5ms/step - loss: 3.4434 - acc: 0.3158 - val_loss: 4.7132 - val_acc: 0.4000\n",
      "Epoch 6/50\n",
      "57/57 [==============================] - 0s 6ms/step - loss: 2.3971 - acc: 0.3684 - val_loss: 2.6374 - val_acc: 0.6667\n",
      "Epoch 7/50\n",
      "57/57 [==============================] - 0s 6ms/step - loss: 2.1599 - acc: 0.4035 - val_loss: 2.0013 - val_acc: 0.6667\n",
      "Epoch 8/50\n",
      "57/57 [==============================] - 0s 7ms/step - loss: 2.3198 - acc: 0.5263 - val_loss: 1.9026 - val_acc: 0.6000\n",
      "Epoch 9/50\n",
      "57/57 [==============================] - 0s 5ms/step - loss: 1.8951 - acc: 0.4737 - val_loss: 2.1389 - val_acc: 0.5333\n",
      "Epoch 10/50\n",
      "57/57 [==============================] - 0s 5ms/step - loss: 2.3974 - acc: 0.3860 - val_loss: 2.4282 - val_acc: 0.6000\n",
      "Epoch 11/50\n",
      "57/57 [==============================] - 0s 5ms/step - loss: 1.7083 - acc: 0.4035 - val_loss: 2.8216 - val_acc: 0.6000\n",
      "Epoch 12/50\n",
      "57/57 [==============================] - 0s 5ms/step - loss: 1.5945 - acc: 0.3684 - val_loss: 3.0752 - val_acc: 0.4667\n",
      "Epoch 13/50\n",
      "57/57 [==============================] - 0s 5ms/step - loss: 1.6664 - acc: 0.4912 - val_loss: 3.2092 - val_acc: 0.4000\n",
      "Epoch 14/50\n",
      "57/57 [==============================] - 0s 5ms/step - loss: 1.8135 - acc: 0.3684 - val_loss: 3.3352 - val_acc: 0.4000\n",
      "Epoch 15/50\n",
      "57/57 [==============================] - 0s 6ms/step - loss: 1.6260 - acc: 0.4211 - val_loss: 3.6072 - val_acc: 0.3333\n",
      "Epoch 16/50\n",
      "57/57 [==============================] - 0s 5ms/step - loss: 1.5459 - acc: 0.3860 - val_loss: 3.6111 - val_acc: 0.3333\n",
      "Epoch 17/50\n",
      "57/57 [==============================] - 0s 5ms/step - loss: 1.4035 - acc: 0.3684 - val_loss: 3.3729 - val_acc: 0.3333\n",
      "Epoch 18/50\n",
      "57/57 [==============================] - 0s 5ms/step - loss: 1.3086 - acc: 0.4035 - val_loss: 3.0022 - val_acc: 0.3333\n",
      "Epoch 19/50\n",
      "57/57 [==============================] - 0s 5ms/step - loss: 1.8890 - acc: 0.4211 - val_loss: 2.5369 - val_acc: 0.2667\n",
      "Epoch 20/50\n",
      "57/57 [==============================] - 0s 5ms/step - loss: 1.1383 - acc: 0.5439 - val_loss: 2.0539 - val_acc: 0.2000\n",
      "Epoch 21/50\n",
      "57/57 [==============================] - 0s 5ms/step - loss: 1.1572 - acc: 0.4211 - val_loss: 1.5915 - val_acc: 0.1333\n",
      "Epoch 22/50\n",
      "57/57 [==============================] - 0s 5ms/step - loss: 1.3376 - acc: 0.3860 - val_loss: 1.3516 - val_acc: 0.2667\n",
      "Epoch 23/50\n",
      "57/57 [==============================] - 0s 5ms/step - loss: 1.1279 - acc: 0.5088 - val_loss: 1.2200 - val_acc: 0.2667\n",
      "Epoch 24/50\n",
      "57/57 [==============================] - 0s 5ms/step - loss: 1.7008 - acc: 0.2632 - val_loss: 1.1444 - val_acc: 0.3333\n",
      "Epoch 25/50\n",
      "57/57 [==============================] - 0s 6ms/step - loss: 1.2364 - acc: 0.4211 - val_loss: 1.1354 - val_acc: 0.3333\n",
      "Epoch 26/50\n",
      "57/57 [==============================] - 0s 5ms/step - loss: 1.5591 - acc: 0.3333 - val_loss: 1.1387 - val_acc: 0.3333\n",
      "Epoch 27/50\n",
      "57/57 [==============================] - 0s 5ms/step - loss: 1.3869 - acc: 0.3158 - val_loss: 1.1387 - val_acc: 0.3333\n",
      "Epoch 28/50\n",
      "57/57 [==============================] - 0s 5ms/step - loss: 1.1765 - acc: 0.4737 - val_loss: 1.1422 - val_acc: 0.3333\n",
      "Epoch 29/50\n",
      "57/57 [==============================] - 0s 5ms/step - loss: 1.6326 - acc: 0.3509 - val_loss: 1.1456 - val_acc: 0.3333\n",
      "Epoch 30/50\n",
      "57/57 [==============================] - 0s 5ms/step - loss: 1.2615 - acc: 0.5965 - val_loss: 1.1448 - val_acc: 0.4667\n",
      "Epoch 31/50\n",
      "57/57 [==============================] - 0s 5ms/step - loss: 1.0711 - acc: 0.4912 - val_loss: 1.1326 - val_acc: 0.5333\n",
      "Epoch 32/50\n",
      "57/57 [==============================] - 0s 5ms/step - loss: 1.0650 - acc: 0.4211 - val_loss: 1.1196 - val_acc: 0.6000\n",
      "Epoch 33/50\n",
      "57/57 [==============================] - 0s 5ms/step - loss: 1.2442 - acc: 0.4912 - val_loss: 1.1209 - val_acc: 0.6000\n",
      "Epoch 34/50\n",
      "57/57 [==============================] - 0s 5ms/step - loss: 1.3997 - acc: 0.4035 - val_loss: 1.1325 - val_acc: 0.6000\n",
      "Epoch 35/50\n",
      "57/57 [==============================] - 0s 6ms/step - loss: 1.2506 - acc: 0.3158 - val_loss: 1.1402 - val_acc: 0.6000\n",
      "Epoch 36/50\n",
      "57/57 [==============================] - 0s 5ms/step - loss: 1.2306 - acc: 0.3509 - val_loss: 1.1400 - val_acc: 0.6000\n",
      "Epoch 37/50\n",
      "57/57 [==============================] - 0s 5ms/step - loss: 1.0879 - acc: 0.4737 - val_loss: 1.1379 - val_acc: 0.5333\n",
      "Epoch 38/50\n",
      "57/57 [==============================] - 0s 5ms/step - loss: 1.1649 - acc: 0.4035 - val_loss: 1.1305 - val_acc: 0.4667\n",
      "Epoch 39/50\n",
      "57/57 [==============================] - 0s 5ms/step - loss: 1.1326 - acc: 0.4912 - val_loss: 1.1135 - val_acc: 0.4667\n",
      "Epoch 40/50\n",
      "57/57 [==============================] - 0s 5ms/step - loss: 1.0303 - acc: 0.3860 - val_loss: 1.1345 - val_acc: 0.4667\n",
      "Epoch 41/50\n",
      "57/57 [==============================] - 0s 5ms/step - loss: 1.0845 - acc: 0.3684 - val_loss: 1.1534 - val_acc: 0.4667\n",
      "Epoch 42/50\n",
      "57/57 [==============================] - 0s 5ms/step - loss: 1.0277 - acc: 0.4386 - val_loss: 1.1549 - val_acc: 0.5333\n",
      "Epoch 43/50\n",
      "57/57 [==============================] - 0s 5ms/step - loss: 1.0884 - acc: 0.4386 - val_loss: 1.1626 - val_acc: 0.4667\n",
      "Epoch 44/50\n",
      "57/57 [==============================] - 0s 5ms/step - loss: 1.1800 - acc: 0.3684 - val_loss: 1.1809 - val_acc: 0.4000\n",
      "Epoch 45/50\n",
      "57/57 [==============================] - 0s 5ms/step - loss: 1.0034 - acc: 0.5088 - val_loss: 1.2265 - val_acc: 0.3333\n",
      "Epoch 46/50\n",
      "57/57 [==============================] - 0s 5ms/step - loss: 0.9535 - acc: 0.5088 - val_loss: 1.2644 - val_acc: 0.3333\n",
      "Epoch 47/50\n",
      "57/57 [==============================] - 0s 5ms/step - loss: 0.9115 - acc: 0.4386 - val_loss: 1.3266 - val_acc: 0.3333\n",
      "Epoch 48/50\n",
      "57/57 [==============================] - 0s 5ms/step - loss: 1.0541 - acc: 0.4737 - val_loss: 1.3641 - val_acc: 0.3333\n",
      "Epoch 49/50\n",
      "57/57 [==============================] - 0s 5ms/step - loss: 1.1612 - acc: 0.3860 - val_loss: 1.3724 - val_acc: 0.3333\n",
      "Epoch 50/50\n",
      "57/57 [==============================] - 0s 5ms/step - loss: 1.0256 - acc: 0.4737 - val_loss: 1.4004 - val_acc: 0.3333\n"
     ]
    }
   ],
   "source": [
    "\n",
    "hist = model.fit(x_train, y_train, \n",
    "                 epochs=EPOCHS, batch_size=BS, \n",
    "                 validation_split=split_ratio, \n",
    "                 verbose = 1\n",
    "                 ,callbacks=[reduce_lr]\n",
    "                )"
   ]
  },
  {
   "cell_type": "code",
   "execution_count": 30,
   "metadata": {
    "scrolled": false
   },
   "outputs": [
    {
     "data": {
      "image/png": "[encoded data removed]",
      "text/plain": [
       "<Figure size 720x720 with 2 Axes>"
      ]
     },
     "metadata": {
      "needs_background": "light"
     },
     "output_type": "display_data"
    }
   ],
   "source": [
    "plt.subplot(1, 2, 1)\n",
    "plt.title('model loss')\n",
    "plt.plot(hist.history['loss'], label=\"loss\")\n",
    "plt.plot(hist.history['val_loss'], label=\"val_loss\")\n",
    "plt.ylabel('loss')\n",
    "plt.xlabel('epoch')\n",
    "plt.legend()\n",
    "plt.ylim((0,2))\n",
    "\n",
    "plt.subplot(1, 2, 2)\n",
    "plt.title('model accuracy')\n",
    "plt.plot(hist.history['acc'], label=\"acc\")\n",
    "plt.plot(hist.history['val_acc'], label=\"val_acc\")\n",
    "plt.ylabel('accuracy')\n",
    "plt.xlabel('epoch')\n",
    "plt.legend()\n",
    "plt.ylim((0.4, 1))\n",
    "\n",
    "\n",
    "plt.show();"
   ]
  },
  {
   "cell_type": "markdown",
   "metadata": {},
   "source": [
    "# 6. 모델 결과 확인"
   ]
  },
  {
   "cell_type": "code",
   "execution_count": 31,
   "metadata": {},
   "outputs": [],
   "source": [
    "#l_model = load_model('./model_data/VGG_model.h5')"
   ]
  },
  {
   "cell_type": "code",
   "execution_count": 32,
   "metadata": {
    "scrolled": false
   },
   "outputs": [
    {
     "name": "stdout",
     "output_type": "stream",
     "text": [
      "138/138 [==============================] - 1s 6ms/step\n",
      "## evaluation loss and_metrics ##\n",
      "[1.026841402053833, 0.5]\n"
     ]
    }
   ],
   "source": [
    "loss_and_metrics = model.evaluate(x_test, y_test, batch_size=BS)\n",
    "print('## evaluation loss and_metrics ##')\n",
    "print(loss_and_metrics)"
   ]
  },
  {
   "cell_type": "code",
   "execution_count": 33,
   "metadata": {},
   "outputs": [
    {
     "name": "stdout",
     "output_type": "stream",
     "text": [
      "True : 0, Predict : 2\n",
      "True : 1, Predict : 2\n",
      "True : 2, Predict : 1\n",
      "True : 0, Predict : 0\n",
      "True : 2, Predict : 2\n",
      "True : 2, Predict : 2\n",
      "True : 2, Predict : 2\n",
      "True : 1, Predict : 2\n",
      "True : 1, Predict : 0\n",
      "True : 0, Predict : 2\n"
     ]
    }
   ],
   "source": [
    "xhat_idx = np.random.choice(x_test.shape[0], 10)\n",
    "xhat = x_test[xhat_idx]\n",
    "\n",
    "yhat_classes = model.predict_classes(xhat)\n",
    "\n",
    "for i in range(10):\n",
    "    print('True : ' + str(np.argmax(y_test[xhat_idx[i]])) + ', Predict : ' + str(yhat_classes[i]))"
   ]
  },
  {
   "cell_type": "markdown",
   "metadata": {},
   "source": [
    "# 7. 최종 모델 훈련"
   ]
  },
  {
   "cell_type": "code",
   "execution_count": 34,
   "metadata": {},
   "outputs": [
    {
     "name": "stdout",
     "output_type": "stream",
     "text": [
      "(210, 320, 320, 3)\n",
      "(210, 3)\n"
     ]
    }
   ],
   "source": [
    "x_total = np.vstack((x_train, x_test))\n",
    "y_total = np.vstack((y_train, y_test))\n",
    "\n",
    "print(x_total.shape)\n",
    "print(y_total.shape)"
   ]
  },
  {
   "cell_type": "code",
   "execution_count": 35,
   "metadata": {},
   "outputs": [],
   "source": [
    "early_stopping = EarlyStopping(monitor='loss', patience=10)"
   ]
  },
  {
   "cell_type": "code",
   "execution_count": 36,
   "metadata": {},
   "outputs": [],
   "source": [
    "reduce_lr = ReduceLROnPlateau(monitor='loss', factor=0.2,\n",
    "                              patience=5, min_lr=0.0001)"
   ]
  },
  {
   "cell_type": "code",
   "execution_count": 37,
   "metadata": {},
   "outputs": [
    {
     "name": "stdout",
     "output_type": "stream",
     "text": [
      "[INFO] compiling model...\n"
     ]
    }
   ],
   "source": [
    "EPOCHS = 50\n",
    "INIT_LR = 1e-4\n",
    "BS = 256\n",
    "split_ratio = 0.2\n",
    "\n",
    "print(\"[INFO] compiling model...\")\n",
    "opt = Adam(lr=INIT_LR, decay=INIT_LR / EPOCHS)\n",
    "model.compile(loss=\"categorical_crossentropy\", optimizer=opt,\n",
    "    metrics=[\"accuracy\"])"
   ]
  },
  {
   "cell_type": "code",
   "execution_count": 38,
   "metadata": {
    "scrolled": false
   },
   "outputs": [
    {
     "name": "stdout",
     "output_type": "stream",
     "text": [
      "Epoch 1/50\n",
      "210/210 [==============================] - 3s 14ms/step - loss: 1.2879 - acc: 0.3524\n",
      "Epoch 2/50\n",
      "210/210 [==============================] - 1s 4ms/step - loss: 1.1754 - acc: 0.4333\n",
      "Epoch 3/50\n",
      "210/210 [==============================] - 1s 4ms/step - loss: 1.0065 - acc: 0.5000\n",
      "Epoch 4/50\n",
      "210/210 [==============================] - 1s 4ms/step - loss: 1.1085 - acc: 0.4476\n",
      "Epoch 5/50\n",
      "210/210 [==============================] - 1s 4ms/step - loss: 0.9772 - acc: 0.4810\n",
      "Epoch 6/50\n",
      "210/210 [==============================] - 1s 4ms/step - loss: 0.9540 - acc: 0.5667\n",
      "Epoch 7/50\n",
      "210/210 [==============================] - 1s 4ms/step - loss: 1.0606 - acc: 0.4524\n",
      "Epoch 8/50\n",
      "210/210 [==============================] - 1s 4ms/step - loss: 0.9319 - acc: 0.5190\n",
      "Epoch 9/50\n",
      "210/210 [==============================] - 1s 4ms/step - loss: 0.9413 - acc: 0.5286\n",
      "Epoch 10/50\n",
      "210/210 [==============================] - 1s 4ms/step - loss: 0.9686 - acc: 0.5143\n",
      "Epoch 11/50\n",
      "210/210 [==============================] - 1s 4ms/step - loss: 0.8756 - acc: 0.5190\n",
      "Epoch 12/50\n",
      "210/210 [==============================] - 1s 4ms/step - loss: 0.9056 - acc: 0.5190\n",
      "Epoch 13/50\n",
      "210/210 [==============================] - 1s 4ms/step - loss: 0.8800 - acc: 0.5333\n",
      "Epoch 14/50\n",
      "210/210 [==============================] - 1s 4ms/step - loss: 0.8323 - acc: 0.6143\n",
      "Epoch 15/50\n",
      "210/210 [==============================] - 1s 4ms/step - loss: 0.8439 - acc: 0.5667\n",
      "Epoch 16/50\n",
      "210/210 [==============================] - 1s 4ms/step - loss: 0.8895 - acc: 0.5476\n",
      "Epoch 17/50\n",
      "210/210 [==============================] - 1s 4ms/step - loss: 0.8903 - acc: 0.5238\n",
      "Epoch 18/50\n",
      "210/210 [==============================] - 1s 4ms/step - loss: 0.8434 - acc: 0.5333\n",
      "Epoch 19/50\n",
      "210/210 [==============================] - 1s 4ms/step - loss: 0.8058 - acc: 0.5667\n",
      "Epoch 20/50\n",
      "210/210 [==============================] - 1s 4ms/step - loss: 0.8627 - acc: 0.5381\n",
      "Epoch 21/50\n",
      "210/210 [==============================] - 1s 4ms/step - loss: 0.8036 - acc: 0.6000\n",
      "Epoch 22/50\n",
      "210/210 [==============================] - 1s 4ms/step - loss: 0.7669 - acc: 0.6000\n",
      "Epoch 23/50\n",
      "210/210 [==============================] - 1s 4ms/step - loss: 0.7837 - acc: 0.5762\n",
      "Epoch 24/50\n",
      "210/210 [==============================] - 1s 4ms/step - loss: 0.7808 - acc: 0.6238\n",
      "Epoch 25/50\n",
      "210/210 [==============================] - 1s 4ms/step - loss: 0.8196 - acc: 0.5905\n",
      "Epoch 26/50\n",
      "210/210 [==============================] - 1s 4ms/step - loss: 0.7479 - acc: 0.5952\n",
      "Epoch 27/50\n",
      "210/210 [==============================] - 1s 4ms/step - loss: 0.7540 - acc: 0.6286\n",
      "Epoch 28/50\n",
      "210/210 [==============================] - 1s 4ms/step - loss: 0.7197 - acc: 0.6762\n",
      "Epoch 29/50\n",
      "210/210 [==============================] - 1s 4ms/step - loss: 0.7019 - acc: 0.6333\n",
      "Epoch 30/50\n",
      "210/210 [==============================] - 1s 4ms/step - loss: 0.6939 - acc: 0.6429\n",
      "Epoch 31/50\n",
      "210/210 [==============================] - 1s 4ms/step - loss: 0.7631 - acc: 0.6095\n",
      "Epoch 32/50\n",
      "210/210 [==============================] - 1s 4ms/step - loss: 0.7159 - acc: 0.6286\n",
      "Epoch 33/50\n",
      "210/210 [==============================] - 1s 4ms/step - loss: 0.7552 - acc: 0.6381\n",
      "Epoch 34/50\n",
      "210/210 [==============================] - 1s 4ms/step - loss: 0.7867 - acc: 0.5857\n",
      "Epoch 35/50\n",
      "210/210 [==============================] - 1s 4ms/step - loss: 0.7248 - acc: 0.5905\n",
      "Epoch 36/50\n",
      "210/210 [==============================] - 1s 4ms/step - loss: 0.7369 - acc: 0.6286\n",
      "Epoch 37/50\n",
      "210/210 [==============================] - 1s 4ms/step - loss: 0.7071 - acc: 0.6619\n",
      "Epoch 38/50\n",
      "210/210 [==============================] - 1s 4ms/step - loss: 0.7071 - acc: 0.6238\n",
      "Epoch 39/50\n",
      "210/210 [==============================] - 1s 4ms/step - loss: 0.6748 - acc: 0.6476\n",
      "Epoch 40/50\n",
      "210/210 [==============================] - 1s 4ms/step - loss: 0.6669 - acc: 0.6524\n",
      "Epoch 41/50\n",
      "210/210 [==============================] - 1s 4ms/step - loss: 0.6512 - acc: 0.6857\n",
      "Epoch 42/50\n",
      "210/210 [==============================] - 1s 4ms/step - loss: 0.7498 - acc: 0.5952\n",
      "Epoch 43/50\n",
      "210/210 [==============================] - 1s 4ms/step - loss: 0.6580 - acc: 0.6524\n",
      "Epoch 44/50\n",
      "210/210 [==============================] - 1s 4ms/step - loss: 0.6307 - acc: 0.6714\n",
      "Epoch 45/50\n",
      "210/210 [==============================] - 1s 4ms/step - loss: 0.6479 - acc: 0.6381\n",
      "Epoch 46/50\n",
      "210/210 [==============================] - 1s 4ms/step - loss: 0.7265 - acc: 0.6238\n",
      "Epoch 47/50\n",
      "210/210 [==============================] - 1s 4ms/step - loss: 0.6597 - acc: 0.6667\n",
      "Epoch 48/50\n",
      "210/210 [==============================] - 1s 4ms/step - loss: 0.5924 - acc: 0.6905\n",
      "Epoch 49/50\n",
      "210/210 [==============================] - 1s 4ms/step - loss: 0.6403 - acc: 0.7095\n",
      "Epoch 50/50\n",
      "210/210 [==============================] - 1s 4ms/step - loss: 0.5998 - acc: 0.6810\n"
     ]
    }
   ],
   "source": [
    "hist = model.fit(x_total, y_total, \n",
    "                 epochs=EPOCHS, batch_size=BS, \n",
    "                 #validation_split=split_ratio, \n",
    "                 verbose = 1\n",
    "                 ,callbacks=[reduce_lr]\n",
    "                )"
   ]
  },
  {
   "cell_type": "code",
   "execution_count": 39,
   "metadata": {
    "scrolled": false
   },
   "outputs": [
    {
     "name": "stdout",
     "output_type": "stream",
     "text": [
      "138/138 [==============================] - 1s 5ms/step\n",
      "## evaluation loss and_metrics ##\n",
      "[0.39110952615737915, 0.9202898740768433]\n"
     ]
    }
   ],
   "source": [
    "loss_and_metrics = model.evaluate(x_test, y_test, batch_size=BS)\n",
    "print('## evaluation loss and_metrics ##')\n",
    "print(loss_and_metrics)"
   ]
  },
  {
   "cell_type": "code",
   "execution_count": 40,
   "metadata": {},
   "outputs": [
    {
     "name": "stdout",
     "output_type": "stream",
     "text": [
      "True : 2, Predict : 2\n",
      "True : 0, Predict : 0\n",
      "True : 2, Predict : 1\n",
      "True : 2, Predict : 2\n",
      "True : 0, Predict : 0\n",
      "True : 2, Predict : 2\n",
      "True : 2, Predict : 2\n",
      "True : 2, Predict : 2\n",
      "True : 2, Predict : 2\n",
      "True : 1, Predict : 1\n"
     ]
    }
   ],
   "source": [
    "xhat_idx = np.random.choice(x_test.shape[0], 10)\n",
    "xhat = x_test[xhat_idx]\n",
    "\n",
    "yhat_classes = model.predict_classes(xhat)\n",
    "\n",
    "for i in range(10):\n",
    "    print('True : ' + str(np.argmax(y_test[xhat_idx[i]])) + ', Predict : ' + str(yhat_classes[i]))"
   ]
  },
  {
   "cell_type": "markdown",
   "metadata": {},
   "source": [
    "# 8. 모델 저장"
   ]
  },
  {
   "cell_type": "code",
   "execution_count": 42,
   "metadata": {},
   "outputs": [
    {
     "name": "stdout",
     "output_type": "stream",
     "text": [
      "Saved model to disk\n"
     ]
    }
   ],
   "source": [
    "from tensorflow.python.keras.models import model_from_yaml\n",
    "\n",
    "model_yaml = model.to_yaml()\n",
    "with open(\"motion_model_demoV0.yaml\", \"w\") as yaml_file:\n",
    "    yaml_file.write(model_yaml)\n",
    "# serialize weights to HDF5\n",
    "model.save_weights(\"motion_model_demoV0.h5\")\n",
    "print(\"Saved model to disk\")"
   ]
  },
  {
   "cell_type": "code",
   "execution_count": null,
   "metadata": {},
   "outputs": [],
   "source": []
  }
 ],
 "metadata": {
  "kernelspec": {
   "display_name": "Python 3",
   "language": "python",
   "name": "python3"
  },
  "language_info": {
   "codemirror_mode": {
    "name": "ipython",
    "version": 3
   },
   "file_extension": ".py",
   "mimetype": "text/x-python",
   "name": "python",
   "nbconvert_exporter": "python",
   "pygments_lexer": "ipython3",
   "version": "3.6.9"
  }
 },
 "nbformat": 4,
 "nbformat_minor": 2
}
