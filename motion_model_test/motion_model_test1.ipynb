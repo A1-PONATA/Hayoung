{
 "cells": [
  {
   "cell_type": "markdown",
   "metadata": {},
   "source": [
    "# 0. 사용할 패키지 불러오기"
   ]
  },
  {
   "cell_type": "code",
   "execution_count": 1,
   "metadata": {},
   "outputs": [],
   "source": [
    "from tensorflow.python.keras.models import Sequential\n",
    "from tensorflow.python.keras.layers.normalization import BatchNormalization\n",
    "from tensorflow.python.keras.layers.convolutional import Conv2D\n",
    "from tensorflow.python.keras.layers.convolutional import MaxPooling2D\n",
    "from tensorflow.python.keras.layers.core import Activation\n",
    "from tensorflow.python.keras.layers.core import Flatten\n",
    "from tensorflow.python.keras.layers.core import Dropout\n",
    "from tensorflow.python.keras.layers.core import Dense\n",
    "from tensorflow.python.keras import backend as K\n",
    "from tensorflow.python.keras.preprocessing.image import ImageDataGenerator\n",
    "from tensorflow.python.keras.optimizers import Adam\n",
    "from tensorflow.python.keras.callbacks import EarlyStopping, ReduceLROnPlateau\n",
    "from tensorflow.python.keras.models import load_model"
   ]
  },
  {
   "cell_type": "markdown",
   "metadata": {},
   "source": [
    "# 1. 데이터 불러오기"
   ]
  },
  {
   "cell_type": "code",
   "execution_count": 2,
   "metadata": {},
   "outputs": [
    {
     "name": "stdout",
     "output_type": "stream",
     "text": [
      "(0, 3)\n",
      "(1000, 180, 240, 3) (3,)\n",
      "(1000, 180, 240, 3) (3,)\n",
      "(1000, 180, 240, 3) (3,)\n",
      "(3000, 180, 240, 3)\n",
      "(2100, 180, 240, 3) (2100, 3)\n",
      "(900, 180, 240, 3) (900, 3)\n"
     ]
    }
   ],
   "source": [
    "import numpy as np\n",
    "import glob\n",
    "import sys\n",
    "from sklearn.model_selection import train_test_split\n",
    "\n",
    "x_train = np.empty((0, 180, 240, 3))\n",
    "y_train = np.empty((0, 3))\n",
    "print(y_train.shape)\n",
    "\n",
    "training_data = glob.glob('/home/pirl/Desktop/motion_prepro_fin2/*.npz')\n",
    "#print(training_data)\n",
    "idx=1\n",
    "for single_npz in training_data:\n",
    "    with np.load(single_npz) as data:\n",
    "        #print(data.files)\n",
    "        x = data['train']\n",
    "        y = data['training_labels']\n",
    "        print(x.shape, y.shape)\n",
    "    x = np.reshape(x, (-1, 180, 240, 3))\n",
    "    y_temp=np.empty((0,3))\n",
    "    for i in range(1000):\n",
    "        y_temp=np.vstack((y_temp,y))\n",
    "        \n",
    "    x_train = np.vstack((x_train, x))\n",
    "    y_train = np.vstack((y_train, y_temp))\n",
    "    #print(idx)\n",
    "    idx+=1\n",
    "print(x_train.shape)\n",
    "#train test split, 7:3\n",
    "x_train, x_test, y_train, y_test = train_test_split(x_train, y_train, test_size=0.3, random_state = 42)\n",
    "\n",
    "y_train = y_train[:,:]\n",
    "y_test = y_test[:,:]\n",
    "\n",
    "print(x_train.shape, y_train.shape)\n",
    "print(x_test.shape, y_test.shape)"
   ]
  },
  {
   "cell_type": "markdown",
   "metadata": {},
   "source": [
    "# 데이터 확인"
   ]
  },
  {
   "cell_type": "code",
   "execution_count": 3,
   "metadata": {},
   "outputs": [],
   "source": [
    "#import pandas as pd\n",
    "\n",
    "#y_data = pd.DataFrame(y_total[:, :])"
   ]
  },
  {
   "cell_type": "code",
   "execution_count": 4,
   "metadata": {},
   "outputs": [],
   "source": [
    "#y_data.count()"
   ]
  },
  {
   "cell_type": "code",
   "execution_count": 5,
   "metadata": {},
   "outputs": [],
   "source": [
    "#left = y_data.loc[y_data[:][0] == 1]"
   ]
  },
  {
   "cell_type": "code",
   "execution_count": 6,
   "metadata": {
    "scrolled": true
   },
   "outputs": [],
   "source": [
    "#left.count()"
   ]
  },
  {
   "cell_type": "code",
   "execution_count": 7,
   "metadata": {},
   "outputs": [],
   "source": [
    "#right = y_data.loc[y_data[:][1] == 1]"
   ]
  },
  {
   "cell_type": "code",
   "execution_count": 8,
   "metadata": {
    "scrolled": true
   },
   "outputs": [],
   "source": [
    "#right.count()"
   ]
  },
  {
   "cell_type": "code",
   "execution_count": 9,
   "metadata": {},
   "outputs": [],
   "source": [
    "#forward = y_data.loc[y_data[:][2] == 1]"
   ]
  },
  {
   "cell_type": "code",
   "execution_count": 10,
   "metadata": {},
   "outputs": [],
   "source": [
    "#forward.count()"
   ]
  },
  {
   "cell_type": "code",
   "execution_count": 11,
   "metadata": {
    "scrolled": false
   },
   "outputs": [
    {
     "name": "stderr",
     "output_type": "stream",
     "text": [
      "Clipping input data to the valid range for imshow with RGB data ([0..1] for floats or [0..255] for integers).\n",
      "Clipping input data to the valid range for imshow with RGB data ([0..1] for floats or [0..255] for integers).\n",
      "Clipping input data to the valid range for imshow with RGB data ([0..1] for floats or [0..255] for integers).\n",
      "Clipping input data to the valid range for imshow with RGB data ([0..1] for floats or [0..255] for integers).\n",
      "Clipping input data to the valid range for imshow with RGB data ([0..1] for floats or [0..255] for integers).\n",
      "Clipping input data to the valid range for imshow with RGB data ([0..1] for floats or [0..255] for integers).\n",
      "Clipping input data to the valid range for imshow with RGB data ([0..1] for floats or [0..255] for integers).\n",
      "Clipping input data to the valid range for imshow with RGB data ([0..1] for floats or [0..255] for integers).\n",
      "Clipping input data to the valid range for imshow with RGB data ([0..1] for floats or [0..255] for integers).\n",
      "Clipping input data to the valid range for imshow with RGB data ([0..1] for floats or [0..255] for integers).\n",
      "Clipping input data to the valid range for imshow with RGB data ([0..1] for floats or [0..255] for integers).\n",
      "Clipping input data to the valid range for imshow with RGB data ([0..1] for floats or [0..255] for integers).\n",
      "Clipping input data to the valid range for imshow with RGB data ([0..1] for floats or [0..255] for integers).\n",
      "Clipping input data to the valid range for imshow with RGB data ([0..1] for floats or [0..255] for integers).\n",
      "Clipping input data to the valid range for imshow with RGB data ([0..1] for floats or [0..255] for integers).\n",
      "Clipping input data to the valid range for imshow with RGB data ([0..1] for floats or [0..255] for integers).\n",
      "Clipping input data to the valid range for imshow with RGB data ([0..1] for floats or [0..255] for integers).\n",
      "Clipping input data to the valid range for imshow with RGB data ([0..1] for floats or [0..255] for integers).\n",
      "Clipping input data to the valid range for imshow with RGB data ([0..1] for floats or [0..255] for integers).\n",
      "Clipping input data to the valid range for imshow with RGB data ([0..1] for floats or [0..255] for integers).\n",
      "Clipping input data to the valid range for imshow with RGB data ([0..1] for floats or [0..255] for integers).\n",
      "Clipping input data to the valid range for imshow with RGB data ([0..1] for floats or [0..255] for integers).\n",
      "Clipping input data to the valid range for imshow with RGB data ([0..1] for floats or [0..255] for integers).\n",
      "Clipping input data to the valid range for imshow with RGB data ([0..1] for floats or [0..255] for integers).\n",
      "Clipping input data to the valid range for imshow with RGB data ([0..1] for floats or [0..255] for integers).\n"
     ]
    },
    {
     "data": {
      "image/png": "[encoded data removed]",
      "text/plain": [
       "<Figure size 720x720 with 25 Axes>"
      ]
     },
     "metadata": {
      "needs_background": "light"
     },
     "output_type": "display_data"
    }
   ],
   "source": [
    "# 데이터 확인\n",
    "\n",
    "from matplotlib import pyplot as plt\n",
    "%matplotlib inline\n",
    "\n",
    "plt_row = 5\n",
    "plt_col = 5\n",
    "plt.rcParams[\"figure.figsize\"] = (10,10)\n",
    "\n",
    "f, axarr = plt.subplots(plt_row, plt_col)\n",
    "\n",
    "for i in range(plt_row*plt_col):\n",
    "    #print(x_train[i])\n",
    "    sub_plt = axarr[int(i/plt_row), int(i%plt_col)]\n",
    "    sub_plt.axis('off')\n",
    "    sub_plt.imshow(x_train[i].reshape(180, 240,3))\n",
    "    \n",
    "    label = np.argmax(y_train)\n",
    "                      \n",
    "    if label == 2 :\n",
    "        direction = 'left'\n",
    "    elif label == 1:\n",
    "        direction = 'right'\n",
    "    elif label == 0:\n",
    "        direction = 'forward'\n",
    "#     elif label == 3:\n",
    "#         direction = 'backward'\n",
    "                      \n",
    "    sub_plt_title = str(label) + \" : \" + direction\n",
    "    sub_plt.set_title(sub_plt_title)\n",
    "\n",
    "plt.show()"
   ]
  },
  {
   "cell_type": "markdown",
   "metadata": {},
   "source": [
    "# 3. 모델 생성"
   ]
  },
  {
   "cell_type": "code",
   "execution_count": 12,
   "metadata": {},
   "outputs": [],
   "source": [
    "# image size = 160 x 320\n",
    "def posla_net():\n",
    "    \n",
    "    # model setting\n",
    "    H = 180\n",
    "    W = 240\n",
    "    CH = 3\n",
    "\n",
    "    inputShape = (H, W, CH)\n",
    "\n",
    "    activation = 'relu'\n",
    "    keep_prob_conv = 0.25\n",
    "    keep_prob_dense = 0.5\n",
    "\n",
    "    #init = 'glorot_normal'\n",
    "    #init = 'he_normal'\n",
    "    init = 'he_uniform'\n",
    "    chanDim = -1\n",
    "    classes = 3\n",
    "    \n",
    "    model = Sequential()\n",
    "    \n",
    "    # CONV => RELU => POOL\n",
    "    model.add(Conv2D(3, (3, 3), padding=\"valid\", input_shape=inputShape, kernel_initializer=init, activation=activation))\n",
    "    model.add(BatchNormalization(axis=chanDim))\n",
    "    model.add(MaxPooling2D(pool_size=(2, 2)))\n",
    "    \n",
    "    model.add(Conv2D(9, (3, 3), padding=\"valid\", kernel_initializer=init, activation=activation))\n",
    "    model.add(MaxPooling2D(pool_size=(2, 2)))\n",
    "    \n",
    "    model.add(Conv2D(18, (3, 3), padding=\"valid\", kernel_initializer=init, activation=activation))\n",
    "    model.add(MaxPooling2D(pool_size=(2, 2)))\n",
    "    \n",
    "    model.add(Conv2D(32, (3, 3), padding=\"valid\", kernel_initializer=init, activation=activation))\n",
    "    model.add(MaxPooling2D(pool_size=(2, 2)))\n",
    "    \n",
    "    model.add(Flatten())\n",
    "    \n",
    "    model.add(Dense(80, kernel_initializer=init, activation=activation))\n",
    "    model.add(Dropout(keep_prob_dense))\n",
    "    \n",
    "    model.add(Dense(15, kernel_initializer=init, activation=activation))\n",
    "    model.add(Dropout(keep_prob_dense))\n",
    "    \n",
    "    # softmax classifier\n",
    "    model.add(Dense(classes , activation = 'softmax'))\n",
    "    \n",
    "    return model"
   ]
  },
  {
   "cell_type": "code",
   "execution_count": 13,
   "metadata": {
    "scrolled": true
   },
   "outputs": [
    {
     "name": "stdout",
     "output_type": "stream",
     "text": [
      "WARNING:tensorflow:From /home/pirl/anaconda3/lib/python3.7/site-packages/tensorflow_core/python/ops/resource_variable_ops.py:1630: calling BaseResourceVariable.__init__ (from tensorflow.python.ops.resource_variable_ops) with constraint is deprecated and will be removed in a future version.\n",
      "Instructions for updating:\n",
      "If using Keras pass *_constraint arguments to layers.\n",
      "Model: \"sequential\"\n",
      "_________________________________________________________________\n",
      "Layer (type)                 Output Shape              Param #   \n",
      "=================================================================\n",
      "conv2d (Conv2D)              (None, 178, 238, 3)       84        \n",
      "_________________________________________________________________\n",
      "batch_normalization (BatchNo (None, 178, 238, 3)       12        \n",
      "_________________________________________________________________\n",
      "max_pooling2d (MaxPooling2D) (None, 89, 119, 3)        0         \n",
      "_________________________________________________________________\n",
      "conv2d_1 (Conv2D)            (None, 87, 117, 9)        252       \n",
      "_________________________________________________________________\n",
      "max_pooling2d_1 (MaxPooling2 (None, 43, 58, 9)         0         \n",
      "_________________________________________________________________\n",
      "conv2d_2 (Conv2D)            (None, 41, 56, 18)        1476      \n",
      "_________________________________________________________________\n",
      "max_pooling2d_2 (MaxPooling2 (None, 20, 28, 18)        0         \n",
      "_________________________________________________________________\n",
      "conv2d_3 (Conv2D)            (None, 18, 26, 32)        5216      \n",
      "_________________________________________________________________\n",
      "max_pooling2d_3 (MaxPooling2 (None, 9, 13, 32)         0         \n",
      "_________________________________________________________________\n",
      "flatten (Flatten)            (None, 3744)              0         \n",
      "_________________________________________________________________\n",
      "dense (Dense)                (None, 80)                299600    \n",
      "_________________________________________________________________\n",
      "dropout (Dropout)            (None, 80)                0         \n",
      "_________________________________________________________________\n",
      "dense_1 (Dense)              (None, 15)                1215      \n",
      "_________________________________________________________________\n",
      "dropout_1 (Dropout)          (None, 15)                0         \n",
      "_________________________________________________________________\n",
      "dense_2 (Dense)              (None, 3)                 48        \n",
      "=================================================================\n",
      "Total params: 307,903\n",
      "Trainable params: 307,897\n",
      "Non-trainable params: 6\n",
      "_________________________________________________________________\n"
     ]
    }
   ],
   "source": [
    "model = posla_net()\n",
    "model.summary()"
   ]
  },
  {
   "cell_type": "code",
   "execution_count": 14,
   "metadata": {},
   "outputs": [
    {
     "name": "stdout",
     "output_type": "stream",
     "text": [
      "Failed to import pydot. You must install pydot and graphviz for `pydotprint` to work.\n"
     ]
    }
   ],
   "source": [
    "from tensorflow.python.keras.utils import plot_model\n",
    "plot_model(model, to_file= 'video_net_plot.png', show_shapes = True, show_layer_names = True)"
   ]
  },
  {
   "cell_type": "markdown",
   "metadata": {},
   "source": [
    "# 4. 모델 파라미터 셋팅"
   ]
  },
  {
   "cell_type": "markdown",
   "metadata": {},
   "source": [
    "적은 수의 이미지 데이터가 존재할 경우 데이터를 늘리는 용도로 사용"
   ]
  },
  {
   "cell_type": "code",
   "execution_count": 15,
   "metadata": {},
   "outputs": [],
   "source": [
    "aug = ImageDataGenerator(rotation_range=25, width_shift_range=0.1,\n",
    "    height_shift_range=0.1, shear_range=0.2, zoom_range=0.2,\n",
    "    horizontal_flip=True, fill_mode=\"nearest\")"
   ]
  },
  {
   "cell_type": "code",
   "execution_count": 16,
   "metadata": {},
   "outputs": [],
   "source": [
    "early_stopping = EarlyStopping(monitor='val_loss', patience=10)"
   ]
  },
  {
   "cell_type": "code",
   "execution_count": 17,
   "metadata": {},
   "outputs": [],
   "source": [
    "reduce_lr = ReduceLROnPlateau(monitor='val_loss', factor=0.2,\n",
    "                              patience=5, min_lr=0.0001)"
   ]
  },
  {
   "cell_type": "code",
   "execution_count": 18,
   "metadata": {},
   "outputs": [],
   "source": [
    "# initialize the model\n",
    "# EPOCHS = 50\n",
    "# INIT_LR = 1e-3\n",
    "# BS = 32\n",
    "# split_ratio = 0.2"
   ]
  },
  {
   "cell_type": "code",
   "execution_count": 19,
   "metadata": {},
   "outputs": [
    {
     "name": "stdout",
     "output_type": "stream",
     "text": [
      "[INFO] compiling model...\n"
     ]
    }
   ],
   "source": [
    "EPOCHS = 50\n",
    "INIT_LR = 1e-4\n",
    "BS = 256\n",
    "split_ratio = 0.2\n",
    "\n",
    "print(\"[INFO] compiling model...\")\n",
    "opt = Adam(lr=INIT_LR, decay=INIT_LR / EPOCHS)\n",
    "model.compile(loss=\"categorical_crossentropy\", optimizer=opt,\n",
    "    metrics=[\"accuracy\"])\n",
    " "
   ]
  },
  {
   "cell_type": "markdown",
   "metadata": {},
   "source": [
    "# 5. 모델 훈련"
   ]
  },
  {
   "cell_type": "code",
   "execution_count": 20,
   "metadata": {},
   "outputs": [],
   "source": [
    "from tensorflow.keras.utils import to_categorical\n"
   ]
  },
  {
   "cell_type": "code",
   "execution_count": 21,
   "metadata": {},
   "outputs": [],
   "source": [
    "y_binary = to_categorical(y_train)"
   ]
  },
  {
   "cell_type": "code",
   "execution_count": 22,
   "metadata": {
    "scrolled": true
   },
   "outputs": [
    {
     "name": "stdout",
     "output_type": "stream",
     "text": [
      "Train on 1680 samples, validate on 420 samples\n",
      "Epoch 1/50\n",
      "1680/1680 [==============================] - 25s 15ms/sample - loss: 2.8228 - acc: 0.3696 - val_loss: 1.1518 - val_acc: 0.4929\n",
      "Epoch 2/50\n",
      "1680/1680 [==============================] - 24s 14ms/sample - loss: 1.2668 - acc: 0.4744 - val_loss: 0.8771 - val_acc: 0.5667\n",
      "Epoch 3/50\n",
      "1680/1680 [==============================] - 24s 14ms/sample - loss: 0.9861 - acc: 0.5685 - val_loss: 0.2542 - val_acc: 0.9143\n",
      "Epoch 4/50\n",
      "1680/1680 [==============================] - 23s 14ms/sample - loss: 0.7501 - acc: 0.6321 - val_loss: 0.1604 - val_acc: 0.9881\n",
      "Epoch 5/50\n",
      "1680/1680 [==============================] - 24s 14ms/sample - loss: 0.6027 - acc: 0.7155 - val_loss: 0.1130 - val_acc: 0.9929\n",
      "Epoch 6/50\n",
      "1680/1680 [==============================] - 24s 14ms/sample - loss: 0.5520 - acc: 0.7429 - val_loss: 0.0812 - val_acc: 0.9952\n",
      "Epoch 7/50\n",
      "1680/1680 [==============================] - 25s 15ms/sample - loss: 0.5277 - acc: 0.7649 - val_loss: 0.0839 - val_acc: 0.9952\n",
      "Epoch 8/50\n",
      "1680/1680 [==============================] - 27s 16ms/sample - loss: 0.5144 - acc: 0.7613 - val_loss: 0.0970 - val_acc: 0.9952\n",
      "Epoch 9/50\n",
      "1680/1680 [==============================] - 26s 15ms/sample - loss: 0.5007 - acc: 0.7696 - val_loss: 0.1024 - val_acc: 0.9952\n",
      "Epoch 10/50\n",
      "1680/1680 [==============================] - 28s 17ms/sample - loss: 0.4530 - acc: 0.8042 - val_loss: 0.0929 - val_acc: 0.9952\n",
      "Epoch 11/50\n",
      "1680/1680 [==============================] - 25s 15ms/sample - loss: 0.4548 - acc: 0.7881 - val_loss: 0.0796 - val_acc: 0.9952\n",
      "Epoch 12/50\n",
      "1680/1680 [==============================] - 25s 15ms/sample - loss: 0.4616 - acc: 0.7810 - val_loss: 0.0847 - val_acc: 0.9952\n",
      "Epoch 13/50\n",
      "1680/1680 [==============================] - 26s 16ms/sample - loss: 0.4436 - acc: 0.7881 - val_loss: 0.0927 - val_acc: 0.9952\n",
      "Epoch 14/50\n",
      "1680/1680 [==============================] - 25s 15ms/sample - loss: 0.4306 - acc: 0.8024 - val_loss: 0.0967 - val_acc: 0.9952\n",
      "Epoch 15/50\n",
      "1680/1680 [==============================] - 26s 16ms/sample - loss: 0.4247 - acc: 0.7982 - val_loss: 0.0898 - val_acc: 0.9952\n",
      "Epoch 16/50\n",
      "1680/1680 [==============================] - 27s 16ms/sample - loss: 0.4190 - acc: 0.8137 - val_loss: 0.0815 - val_acc: 0.9952\n",
      "Epoch 17/50\n",
      "1680/1680 [==============================] - 27s 16ms/sample - loss: 0.4086 - acc: 0.8119 - val_loss: 0.0784 - val_acc: 0.9952\n",
      "Epoch 18/50\n",
      "1680/1680 [==============================] - 27s 16ms/sample - loss: 0.4110 - acc: 0.8185 - val_loss: 0.0774 - val_acc: 0.9952\n",
      "Epoch 19/50\n",
      "1680/1680 [==============================] - 27s 16ms/sample - loss: 0.4322 - acc: 0.8077 - val_loss: 0.0870 - val_acc: 0.9952\n",
      "Epoch 20/50\n",
      "1680/1680 [==============================] - 26s 16ms/sample - loss: 0.3939 - acc: 0.8173 - val_loss: 0.0893 - val_acc: 0.9952\n",
      "Epoch 21/50\n",
      "1680/1680 [==============================] - 25s 15ms/sample - loss: 0.3959 - acc: 0.8131 - val_loss: 0.0885 - val_acc: 0.9952\n",
      "Epoch 22/50\n",
      "1680/1680 [==============================] - 25s 15ms/sample - loss: 0.3743 - acc: 0.8238 - val_loss: 0.0845 - val_acc: 0.9952\n",
      "Epoch 23/50\n",
      "1680/1680 [==============================] - 26s 16ms/sample - loss: 0.3842 - acc: 0.8173 - val_loss: 0.0773 - val_acc: 0.9952\n",
      "Epoch 24/50\n",
      "1680/1680 [==============================] - 26s 16ms/sample - loss: 0.3546 - acc: 0.8393 - val_loss: 0.0693 - val_acc: 0.9952\n",
      "Epoch 25/50\n",
      "1680/1680 [==============================] - 26s 15ms/sample - loss: 0.3694 - acc: 0.8321 - val_loss: 0.0648 - val_acc: 0.9952\n",
      "Epoch 26/50\n",
      "1680/1680 [==============================] - 26s 16ms/sample - loss: 0.3422 - acc: 0.8470 - val_loss: 0.0686 - val_acc: 0.9952\n",
      "Epoch 27/50\n",
      "1680/1680 [==============================] - 25s 15ms/sample - loss: 0.3557 - acc: 0.8363 - val_loss: 0.0663 - val_acc: 0.9952\n",
      "Epoch 28/50\n",
      "1680/1680 [==============================] - 25s 15ms/sample - loss: 0.3464 - acc: 0.8363 - val_loss: 0.0616 - val_acc: 0.9952\n",
      "Epoch 29/50\n",
      "1680/1680 [==============================] - 25s 15ms/sample - loss: 0.3525 - acc: 0.8357 - val_loss: 0.0660 - val_acc: 0.9952\n",
      "Epoch 30/50\n",
      "1680/1680 [==============================] - 24s 15ms/sample - loss: 0.3527 - acc: 0.8375 - val_loss: 0.0635 - val_acc: 0.9952\n",
      "Epoch 31/50\n",
      "1680/1680 [==============================] - 24s 15ms/sample - loss: 0.3470 - acc: 0.8387 - val_loss: 0.0591 - val_acc: 0.9952\n",
      "Epoch 32/50\n",
      "1680/1680 [==============================] - 24s 15ms/sample - loss: 0.3369 - acc: 0.8446 - val_loss: 0.0552 - val_acc: 0.9952\n",
      "Epoch 33/50\n",
      "1680/1680 [==============================] - 24s 14ms/sample - loss: 0.3140 - acc: 0.8583 - val_loss: 0.0497 - val_acc: 0.9952\n",
      "Epoch 34/50\n",
      "1680/1680 [==============================] - 26s 15ms/sample - loss: 0.3059 - acc: 0.8536 - val_loss: 0.0489 - val_acc: 0.9952\n",
      "Epoch 35/50\n",
      "1680/1680 [==============================] - 24s 15ms/sample - loss: 0.3130 - acc: 0.8512 - val_loss: 0.0450 - val_acc: 0.9952\n",
      "Epoch 36/50\n",
      "1680/1680 [==============================] - 25s 15ms/sample - loss: 0.3257 - acc: 0.8518 - val_loss: 0.0460 - val_acc: 0.9952\n",
      "Epoch 37/50\n",
      "1680/1680 [==============================] - 26s 15ms/sample - loss: 0.3278 - acc: 0.8512 - val_loss: 0.0444 - val_acc: 0.9952\n",
      "Epoch 38/50\n",
      "1680/1680 [==============================] - 25s 15ms/sample - loss: 0.3026 - acc: 0.8631 - val_loss: 0.0445 - val_acc: 0.9952\n",
      "Epoch 39/50\n",
      "1680/1680 [==============================] - 25s 15ms/sample - loss: 0.2914 - acc: 0.8655 - val_loss: 0.0383 - val_acc: 0.9952\n",
      "Epoch 40/50\n",
      "1680/1680 [==============================] - 26s 15ms/sample - loss: 0.3114 - acc: 0.8560 - val_loss: 0.0361 - val_acc: 0.9952\n",
      "Epoch 41/50\n",
      "1680/1680 [==============================] - 26s 15ms/sample - loss: 0.3016 - acc: 0.8607 - val_loss: 0.0361 - val_acc: 0.9952\n",
      "Epoch 42/50\n",
      "1680/1680 [==============================] - 26s 15ms/sample - loss: 0.2849 - acc: 0.8643 - val_loss: 0.0347 - val_acc: 0.9952\n",
      "Epoch 43/50\n",
      "1680/1680 [==============================] - 26s 16ms/sample - loss: 0.2808 - acc: 0.8690 - val_loss: 0.0332 - val_acc: 0.9952\n",
      "Epoch 44/50\n",
      "1680/1680 [==============================] - 26s 16ms/sample - loss: 0.3128 - acc: 0.8661 - val_loss: 0.0367 - val_acc: 0.9952\n",
      "Epoch 45/50\n",
      "1680/1680 [==============================] - 26s 15ms/sample - loss: 0.2744 - acc: 0.8851 - val_loss: 0.0369 - val_acc: 0.9952\n",
      "Epoch 46/50\n",
      "1680/1680 [==============================] - 25s 15ms/sample - loss: 0.2979 - acc: 0.8601 - val_loss: 0.0375 - val_acc: 0.9952\n",
      "Epoch 47/50\n",
      "1680/1680 [==============================] - 27s 16ms/sample - loss: 0.2719 - acc: 0.8762 - val_loss: 0.0312 - val_acc: 0.9952\n",
      "Epoch 48/50\n",
      "1680/1680 [==============================] - 26s 15ms/sample - loss: 0.2723 - acc: 0.8869 - val_loss: 0.0263 - val_acc: 0.9952\n",
      "Epoch 49/50\n",
      "1680/1680 [==============================] - 26s 15ms/sample - loss: 0.2620 - acc: 0.8768 - val_loss: 0.0271 - val_acc: 0.9952\n",
      "Epoch 50/50\n",
      "1680/1680 [==============================] - 25s 15ms/sample - loss: 0.2341 - acc: 0.9000 - val_loss: 0.0286 - val_acc: 0.9952\n"
     ]
    }
   ],
   "source": [
    "\n",
    "hist = model.fit(x_train, y_train, \n",
    "                 epochs=EPOCHS, batch_size=BS, \n",
    "                 validation_split=split_ratio, \n",
    "                 verbose = 1\n",
    "                 ,callbacks=[reduce_lr]\n",
    "                )"
   ]
  },
  {
   "cell_type": "code",
   "execution_count": 23,
   "metadata": {
    "scrolled": false
   },
   "outputs": [
    {
     "data": {
      "image/png": "[encoded data removed]",
      "text/plain": [
       "<Figure size 432x288 with 2 Axes>"
      ]
     },
     "metadata": {
      "needs_background": "light"
     },
     "output_type": "display_data"
    }
   ],
   "source": [
    "plt.subplot(1, 2, 1)\n",
    "plt.title('model loss')\n",
    "plt.plot(hist.history['loss'], label=\"loss\")\n",
    "plt.plot(hist.history['val_loss'], label=\"val_loss\")\n",
    "plt.ylabel('loss')\n",
    "plt.xlabel('epoch')\n",
    "plt.legend()\n",
    "plt.ylim((0,2))\n",
    "\n",
    "plt.subplot(1, 2, 2)\n",
    "plt.title('model accuracy')\n",
    "plt.plot(hist.history['acc'], label=\"acc\")\n",
    "plt.plot(hist.history['val_acc'], label=\"val_acc\")\n",
    "plt.ylabel('accuracy')\n",
    "plt.xlabel('epoch')\n",
    "plt.legend()\n",
    "plt.ylim((0.4, 1))\n",
    "\n",
    "\n",
    "plt.show();"
   ]
  },
  {
   "cell_type": "markdown",
   "metadata": {},
   "source": [
    "# 6. 모델 결과 확인"
   ]
  },
  {
   "cell_type": "code",
   "execution_count": 31,
   "metadata": {},
   "outputs": [],
   "source": [
    "#l_model = load_model('./model_data/VGG_model.h5')"
   ]
  },
  {
   "cell_type": "code",
   "execution_count": 24,
   "metadata": {
    "scrolled": false
   },
   "outputs": [
    {
     "name": "stdout",
     "output_type": "stream",
     "text": [
      "900/900 [==============================] - 5s 5ms/sample - loss: 0.0269 - acc: 0.9978\n",
      "## evaluation loss and_metrics ##\n",
      "[0.026867600174413787, 0.99777776]\n"
     ]
    }
   ],
   "source": [
    "loss_and_metrics = model.evaluate(x_test, y_test, batch_size=BS)\n",
    "print('## evaluation loss and_metrics ##')\n",
    "print(loss_and_metrics)"
   ]
  },
  {
   "cell_type": "code",
   "execution_count": 25,
   "metadata": {},
   "outputs": [
    {
     "name": "stdout",
     "output_type": "stream",
     "text": [
      "True : 0, Predict : 0\n",
      "True : 0, Predict : 0\n",
      "True : 0, Predict : 0\n",
      "True : 1, Predict : 1\n",
      "True : 1, Predict : 1\n",
      "True : 2, Predict : 2\n",
      "True : 2, Predict : 2\n",
      "True : 0, Predict : 0\n",
      "True : 1, Predict : 1\n",
      "True : 1, Predict : 1\n"
     ]
    }
   ],
   "source": [
    "xhat_idx = np.random.choice(x_test.shape[0], 10)\n",
    "xhat = x_test[xhat_idx]\n",
    "\n",
    "yhat_classes = model.predict_classes(xhat)\n",
    "\n",
    "for i in range(10):\n",
    "    print('True : ' + str(np.argmax(y_test[xhat_idx[i]])) + ', Predict : ' + str(yhat_classes[i]))"
   ]
  },
  {
   "cell_type": "markdown",
   "metadata": {},
   "source": [
    "# 7. 최종 모델 훈련"
   ]
  },
  {
   "cell_type": "code",
   "execution_count": 26,
   "metadata": {},
   "outputs": [
    {
     "name": "stdout",
     "output_type": "stream",
     "text": [
      "(3000, 180, 240, 3)\n",
      "(3000, 3)\n"
     ]
    }
   ],
   "source": [
    "x_total = np.vstack((x_train, x_test))\n",
    "y_total = np.vstack((y_train, y_test))\n",
    "\n",
    "print(x_total.shape)\n",
    "print(y_total.shape)"
   ]
  },
  {
   "cell_type": "code",
   "execution_count": 27,
   "metadata": {},
   "outputs": [],
   "source": [
    "early_stopping = EarlyStopping(monitor='loss', patience=10)"
   ]
  },
  {
   "cell_type": "code",
   "execution_count": 28,
   "metadata": {},
   "outputs": [],
   "source": [
    "reduce_lr = ReduceLROnPlateau(monitor='loss', factor=0.2,\n",
    "                              patience=5, min_lr=0.0001)"
   ]
  },
  {
   "cell_type": "code",
   "execution_count": 29,
   "metadata": {},
   "outputs": [
    {
     "name": "stdout",
     "output_type": "stream",
     "text": [
      "[INFO] compiling model...\n"
     ]
    }
   ],
   "source": [
    "EPOCHS = 50\n",
    "INIT_LR = 1e-4\n",
    "BS = 256\n",
    "split_ratio = 0.2\n",
    "\n",
    "print(\"[INFO] compiling model...\")\n",
    "opt = Adam(lr=INIT_LR, decay=INIT_LR / EPOCHS)\n",
    "model.compile(loss=\"categorical_crossentropy\", optimizer=opt,\n",
    "    metrics=[\"accuracy\"])"
   ]
  },
  {
   "cell_type": "code",
   "execution_count": 30,
   "metadata": {
    "scrolled": false
   },
   "outputs": [
    {
     "name": "stdout",
     "output_type": "stream",
     "text": [
      "Train on 3000 samples\n",
      "Epoch 1/50\n",
      "3000/3000 [==============================] - 42s 14ms/sample - loss: 0.2829 - acc: 0.8723\n",
      "Epoch 2/50\n",
      "3000/3000 [==============================] - 40s 13ms/sample - loss: 0.2611 - acc: 0.8727\n",
      "Epoch 3/50\n",
      "3000/3000 [==============================] - 41s 14ms/sample - loss: 0.2531 - acc: 0.8873\n",
      "Epoch 4/50\n",
      "3000/3000 [==============================] - 40s 13ms/sample - loss: 0.2678 - acc: 0.8700\n",
      "Epoch 5/50\n",
      "3000/3000 [==============================] - 40s 13ms/sample - loss: 0.2304 - acc: 0.8900\n",
      "Epoch 6/50\n",
      "3000/3000 [==============================] - 40s 13ms/sample - loss: 0.2368 - acc: 0.8877\n",
      "Epoch 7/50\n",
      "3000/3000 [==============================] - 40s 13ms/sample - loss: 0.2255 - acc: 0.8947\n",
      "Epoch 8/50\n",
      "3000/3000 [==============================] - 41s 14ms/sample - loss: 0.2243 - acc: 0.8963\n",
      "Epoch 9/50\n",
      "3000/3000 [==============================] - 40s 13ms/sample - loss: 0.2116 - acc: 0.8963\n",
      "Epoch 10/50\n",
      "3000/3000 [==============================] - 40s 13ms/sample - loss: 0.2045 - acc: 0.9020\n",
      "Epoch 11/50\n",
      "3000/3000 [==============================] - 39s 13ms/sample - loss: 0.2095 - acc: 0.9037\n",
      "Epoch 12/50\n",
      "3000/3000 [==============================] - 40s 13ms/sample - loss: 0.1870 - acc: 0.9103\n",
      "Epoch 13/50\n",
      "3000/3000 [==============================] - 40s 13ms/sample - loss: 0.1862 - acc: 0.9183\n",
      "Epoch 14/50\n",
      "3000/3000 [==============================] - 40s 13ms/sample - loss: 0.1942 - acc: 0.9137\n",
      "Epoch 15/50\n",
      "3000/3000 [==============================] - 41s 14ms/sample - loss: 0.1959 - acc: 0.9040\n",
      "Epoch 16/50\n",
      "3000/3000 [==============================] - 40s 13ms/sample - loss: 0.1906 - acc: 0.9047\n",
      "Epoch 17/50\n",
      "3000/3000 [==============================] - 41s 14ms/sample - loss: 0.1840 - acc: 0.9110\n",
      "Epoch 18/50\n",
      "3000/3000 [==============================] - 40s 13ms/sample - loss: 0.1843 - acc: 0.9063\n",
      "Epoch 19/50\n",
      "3000/3000 [==============================] - 41s 14ms/sample - loss: 0.1779 - acc: 0.9093\n",
      "Epoch 20/50\n",
      "3000/3000 [==============================] - 41s 14ms/sample - loss: 0.1578 - acc: 0.9250\n",
      "Epoch 21/50\n",
      "3000/3000 [==============================] - 40s 13ms/sample - loss: 0.1602 - acc: 0.9237\n",
      "Epoch 22/50\n",
      "3000/3000 [==============================] - 41s 14ms/sample - loss: 0.1683 - acc: 0.9220\n",
      "Epoch 23/50\n",
      "3000/3000 [==============================] - 40s 13ms/sample - loss: 0.1604 - acc: 0.9207\n",
      "Epoch 24/50\n",
      "3000/3000 [==============================] - 41s 14ms/sample - loss: 0.1566 - acc: 0.9217\n",
      "Epoch 25/50\n",
      "3000/3000 [==============================] - 40s 13ms/sample - loss: 0.1504 - acc: 0.9263\n",
      "Epoch 26/50\n",
      "3000/3000 [==============================] - 41s 14ms/sample - loss: 0.1451 - acc: 0.9287\n",
      "Epoch 27/50\n",
      "3000/3000 [==============================] - 41s 14ms/sample - loss: 0.1498 - acc: 0.9263\n",
      "Epoch 28/50\n",
      "3000/3000 [==============================] - 41s 14ms/sample - loss: 0.1532 - acc: 0.9257\n",
      "Epoch 29/50\n",
      "3000/3000 [==============================] - 41s 14ms/sample - loss: 0.1489 - acc: 0.9303\n",
      "Epoch 30/50\n",
      "3000/3000 [==============================] - 41s 14ms/sample - loss: 0.1402 - acc: 0.9353\n",
      "Epoch 31/50\n",
      "3000/3000 [==============================] - 40s 13ms/sample - loss: 0.1414 - acc: 0.9307\n",
      "Epoch 32/50\n",
      "3000/3000 [==============================] - 40s 13ms/sample - loss: 0.1563 - acc: 0.9197\n",
      "Epoch 33/50\n",
      "3000/3000 [==============================] - 41s 14ms/sample - loss: 0.1463 - acc: 0.9310\n",
      "Epoch 34/50\n",
      "3000/3000 [==============================] - 41s 14ms/sample - loss: 0.1321 - acc: 0.9340\n",
      "Epoch 35/50\n",
      "3000/3000 [==============================] - 38s 13ms/sample - loss: 0.1376 - acc: 0.9323\n",
      "Epoch 36/50\n",
      "3000/3000 [==============================] - 38s 13ms/sample - loss: 0.1357 - acc: 0.9343\n",
      "Epoch 37/50\n",
      "3000/3000 [==============================] - 39s 13ms/sample - loss: 0.1238 - acc: 0.9407\n",
      "Epoch 38/50\n",
      "3000/3000 [==============================] - 38s 13ms/sample - loss: 0.1395 - acc: 0.9367\n",
      "Epoch 39/50\n",
      "3000/3000 [==============================] - 38s 13ms/sample - loss: 0.1315 - acc: 0.9360\n",
      "Epoch 40/50\n",
      "3000/3000 [==============================] - 38s 13ms/sample - loss: 0.1253 - acc: 0.9373\n",
      "Epoch 41/50\n",
      "3000/3000 [==============================] - 39s 13ms/sample - loss: 0.1280 - acc: 0.9393\n",
      "Epoch 42/50\n",
      "3000/3000 [==============================] - 39s 13ms/sample - loss: 0.1285 - acc: 0.9353\n",
      "Epoch 43/50\n",
      "3000/3000 [==============================] - 38s 13ms/sample - loss: 0.1110 - acc: 0.9450\n",
      "Epoch 44/50\n",
      "3000/3000 [==============================] - 39s 13ms/sample - loss: 0.1318 - acc: 0.9333\n",
      "Epoch 45/50\n",
      "3000/3000 [==============================] - 39s 13ms/sample - loss: 0.1078 - acc: 0.9460\n",
      "Epoch 46/50\n",
      "3000/3000 [==============================] - 38s 13ms/sample - loss: 0.1122 - acc: 0.9440\n",
      "Epoch 47/50\n",
      "3000/3000 [==============================] - 38s 13ms/sample - loss: 0.1197 - acc: 0.9473\n",
      "Epoch 48/50\n",
      "3000/3000 [==============================] - 39s 13ms/sample - loss: 0.1178 - acc: 0.9457\n",
      "Epoch 49/50\n",
      "3000/3000 [==============================] - 38s 13ms/sample - loss: 0.1236 - acc: 0.9423\n",
      "Epoch 50/50\n",
      "3000/3000 [==============================] - 38s 13ms/sample - loss: 0.1146 - acc: 0.9510\n"
     ]
    }
   ],
   "source": [
    "hist = model.fit(x_total, y_total, \n",
    "                 epochs=EPOCHS, batch_size=BS, \n",
    "                 #validation_split=split_ratio, \n",
    "                 verbose = 1\n",
    "                 ,callbacks=[reduce_lr]\n",
    "                )"
   ]
  },
  {
   "cell_type": "code",
   "execution_count": 31,
   "metadata": {
    "scrolled": false
   },
   "outputs": [
    {
     "name": "stdout",
     "output_type": "stream",
     "text": [
      "900/900 [==============================] - 5s 5ms/sample - loss: 5.8915e-05 - acc: 1.0000\n",
      "## evaluation loss and_metrics ##\n",
      "[5.891495497457476e-05, 1.0]\n"
     ]
    }
   ],
   "source": [
    "loss_and_metrics = model.evaluate(x_test, y_test, batch_size=BS)\n",
    "print('## evaluation loss and_metrics ##')\n",
    "print(loss_and_metrics)"
   ]
  },
  {
   "cell_type": "code",
   "execution_count": 32,
   "metadata": {},
   "outputs": [
    {
     "name": "stdout",
     "output_type": "stream",
     "text": [
      "True : 1, Predict : 1\n",
      "True : 1, Predict : 1\n",
      "True : 2, Predict : 2\n",
      "True : 1, Predict : 1\n",
      "True : 0, Predict : 0\n",
      "True : 0, Predict : 0\n",
      "True : 0, Predict : 0\n",
      "True : 2, Predict : 2\n",
      "True : 1, Predict : 1\n",
      "True : 0, Predict : 0\n"
     ]
    }
   ],
   "source": [
    "xhat_idx = np.random.choice(x_test.shape[0], 10)\n",
    "xhat = x_test[xhat_idx]\n",
    "\n",
    "yhat_classes = model.predict_classes(xhat)\n",
    "\n",
    "for i in range(10):\n",
    "    print('True : ' + str(np.argmax(y_test[xhat_idx[i]])) + ', Predict : ' + str(yhat_classes[i]))"
   ]
  },
  {
   "cell_type": "markdown",
   "metadata": {},
   "source": [
    "# 8. 모델 저장"
   ]
  },
  {
   "cell_type": "code",
   "execution_count": 42,
   "metadata": {},
   "outputs": [
    {
     "name": "stdout",
     "output_type": "stream",
     "text": [
      "Saved model to disk\n"
     ]
    }
   ],
   "source": [
    "from tensorflow.python.keras.models import model_from_yaml\n",
    "\n",
    "model_yaml = model.to_yaml()\n",
    "with open(\"motion_model_demoV0.yaml\", \"w\") as yaml_file:\n",
    "    yaml_file.write(model_yaml)\n",
    "# serialize weights to HDF5\n",
    "model.save_weights(\"motion_model_demoV0.h5\")\n",
    "print(\"Saved model to disk\")"
   ]
  },
  {
   "cell_type": "code",
   "execution_count": null,
   "metadata": {},
   "outputs": [],
   "source": []
  }
 ],
 "metadata": {
  "kernelspec": {
   "display_name": "Python 3",
   "language": "python",
   "name": "python3"
  },
  "language_info": {
   "codemirror_mode": {
    "name": "ipython",
    "version": 3
   },
   "file_extension": ".py",
   "mimetype": "text/x-python",
   "name": "python",
   "nbconvert_exporter": "python",
   "pygments_lexer": "ipython3",
   "version": "3.7.3"
  }
 },
 "nbformat": 4,
 "nbformat_minor": 2
}
