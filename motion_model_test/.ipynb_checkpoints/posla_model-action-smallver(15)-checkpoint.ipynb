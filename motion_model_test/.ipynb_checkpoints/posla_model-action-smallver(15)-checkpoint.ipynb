{
 "cells": [
  {
   "cell_type": "markdown",
   "metadata": {},
   "source": [
    "# 0. 사용할 패키지 불러오기"
   ]
  },
  {
   "cell_type": "code",
   "execution_count": 1,
   "metadata": {},
   "outputs": [],
   "source": [
    "from tensorflow.python.keras.models import Sequential\n",
    "from tensorflow.python.keras.layers.normalization import BatchNormalization\n",
    "from tensorflow.python.keras.layers.convolutional import Conv2D\n",
    "from tensorflow.python.keras.layers.convolutional import MaxPooling2D\n",
    "from tensorflow.python.keras.layers.core import Activation\n",
    "from tensorflow.python.keras.layers.core import Flatten\n",
    "from tensorflow.python.keras.layers.core import Dropout\n",
    "from tensorflow.python.keras.layers.core import Dense\n",
    "from tensorflow.python.keras import backend as K\n",
    "from tensorflow.python.keras.preprocessing.image import ImageDataGenerator\n",
    "from tensorflow.python.keras.optimizers import Adam\n",
    "from tensorflow.python.keras.callbacks import EarlyStopping, ReduceLROnPlateau\n",
    "from tensorflow.python.keras.models import load_model"
   ]
  },
  {
   "cell_type": "markdown",
   "metadata": {},
   "source": [
    "# 1. 데이터 불러오기"
   ]
  },
  {
   "cell_type": "code",
   "execution_count": 4,
   "metadata": {},
   "outputs": [
    {
     "name": "stdout",
     "output_type": "stream",
     "text": [
      "(0, 3)\n",
      "2000\n",
      "4000\n",
      "6000\n",
      "8000\n",
      "10000\n",
      "12000\n",
      "(13883, 64, 64, 3)\n",
      "(9718, 64, 64, 3) (9718, 3)\n",
      "(4165, 64, 64, 3) (4165, 3)\n"
     ]
    }
   ],
   "source": [
    "import numpy as np\n",
    "import glob\n",
    "import sys\n",
    "from sklearn.model_selection import train_test_split\n",
    "\n",
    "x_train = np.empty((0, 64, 64, 3))\n",
    "y_train = np.empty((0, 3))\n",
    "print(y_train.shape)\n",
    "\n",
    "training_data = glob.glob('/home/pirl/Documents/splited_action_data2/npz_data15/*.npz')\n",
    "#print(training_data)\n",
    "idx=1\n",
    "for single_npz in training_data:\n",
    "    with np.load(single_npz) as data:\n",
    "        #print(data.files)\n",
    "        x = data['train']\n",
    "        y = data['training_labels']\n",
    "        #print(x.shape)\n",
    "    x = np.reshape(x, (-1, 64, 64, 3))\n",
    "    \n",
    "    x_train = np.vstack((x_train, x))\n",
    "    y_train = np.vstack((y_train, y))\n",
    "    if idx % 2000 ==0:\n",
    "        print(idx)\n",
    "    idx+=1\n",
    "print(x_train.shape)\n",
    "# train test split, 7:3\n",
    "x_train, x_test, y_train, y_test = train_test_split(x_train, y_train, test_size=0.3, random_state = 42)\n",
    "\n",
    "y_train = y_train[:,:]\n",
    "y_test = y_test[:,:]\n",
    "\n",
    "print(x_train.shape, y_train.shape)\n",
    "print(x_test.shape, y_test.shape)"
   ]
  },
  {
   "cell_type": "markdown",
   "metadata": {},
   "source": [
    "# 데이터 확인"
   ]
  },
  {
   "cell_type": "code",
   "execution_count": null,
   "metadata": {},
   "outputs": [],
   "source": [
    "#import pandas as pd\n",
    "\n",
    "#y_data = pd.DataFrame(y_total[:, :])"
   ]
  },
  {
   "cell_type": "code",
   "execution_count": null,
   "metadata": {},
   "outputs": [],
   "source": [
    "#y_data.count()"
   ]
  },
  {
   "cell_type": "code",
   "execution_count": null,
   "metadata": {},
   "outputs": [],
   "source": [
    "#left = y_data.loc[y_data[:][0] == 1]"
   ]
  },
  {
   "cell_type": "code",
   "execution_count": null,
   "metadata": {
    "scrolled": true
   },
   "outputs": [],
   "source": [
    "#left.count()"
   ]
  },
  {
   "cell_type": "code",
   "execution_count": null,
   "metadata": {},
   "outputs": [],
   "source": [
    "#right = y_data.loc[y_data[:][1] == 1]"
   ]
  },
  {
   "cell_type": "code",
   "execution_count": null,
   "metadata": {
    "scrolled": true
   },
   "outputs": [],
   "source": [
    "#right.count()"
   ]
  },
  {
   "cell_type": "code",
   "execution_count": null,
   "metadata": {},
   "outputs": [],
   "source": [
    "#forward = y_data.loc[y_data[:][2] == 1]"
   ]
  },
  {
   "cell_type": "code",
   "execution_count": null,
   "metadata": {},
   "outputs": [],
   "source": [
    "#forward.count()"
   ]
  },
  {
   "cell_type": "code",
   "execution_count": 6,
   "metadata": {
    "scrolled": false
   },
   "outputs": [
    {
     "name": "stderr",
     "output_type": "stream",
     "text": [
      "Clipping input data to the valid range for imshow with RGB data ([0..1] for floats or [0..255] for integers).\n",
      "Clipping input data to the valid range for imshow with RGB data ([0..1] for floats or [0..255] for integers).\n",
      "Clipping input data to the valid range for imshow with RGB data ([0..1] for floats or [0..255] for integers).\n",
      "Clipping input data to the valid range for imshow with RGB data ([0..1] for floats or [0..255] for integers).\n",
      "Clipping input data to the valid range for imshow with RGB data ([0..1] for floats or [0..255] for integers).\n",
      "Clipping input data to the valid range for imshow with RGB data ([0..1] for floats or [0..255] for integers).\n",
      "Clipping input data to the valid range for imshow with RGB data ([0..1] for floats or [0..255] for integers).\n",
      "Clipping input data to the valid range for imshow with RGB data ([0..1] for floats or [0..255] for integers).\n",
      "Clipping input data to the valid range for imshow with RGB data ([0..1] for floats or [0..255] for integers).\n",
      "Clipping input data to the valid range for imshow with RGB data ([0..1] for floats or [0..255] for integers).\n",
      "Clipping input data to the valid range for imshow with RGB data ([0..1] for floats or [0..255] for integers).\n",
      "Clipping input data to the valid range for imshow with RGB data ([0..1] for floats or [0..255] for integers).\n",
      "Clipping input data to the valid range for imshow with RGB data ([0..1] for floats or [0..255] for integers).\n",
      "Clipping input data to the valid range for imshow with RGB data ([0..1] for floats or [0..255] for integers).\n",
      "Clipping input data to the valid range for imshow with RGB data ([0..1] for floats or [0..255] for integers).\n",
      "Clipping input data to the valid range for imshow with RGB data ([0..1] for floats or [0..255] for integers).\n",
      "Clipping input data to the valid range for imshow with RGB data ([0..1] for floats or [0..255] for integers).\n",
      "Clipping input data to the valid range for imshow with RGB data ([0..1] for floats or [0..255] for integers).\n",
      "Clipping input data to the valid range for imshow with RGB data ([0..1] for floats or [0..255] for integers).\n",
      "Clipping input data to the valid range for imshow with RGB data ([0..1] for floats or [0..255] for integers).\n",
      "Clipping input data to the valid range for imshow with RGB data ([0..1] for floats or [0..255] for integers).\n",
      "Clipping input data to the valid range for imshow with RGB data ([0..1] for floats or [0..255] for integers).\n",
      "Clipping input data to the valid range for imshow with RGB data ([0..1] for floats or [0..255] for integers).\n",
      "Clipping input data to the valid range for imshow with RGB data ([0..1] for floats or [0..255] for integers).\n",
      "Clipping input data to the valid range for imshow with RGB data ([0..1] for floats or [0..255] for integers).\n"
     ]
    },
    {
     "data": {
      "image/png": "[encoded data removed]",
      "text/plain": [
       "<Figure size 720x720 with 25 Axes>"
      ]
     },
     "metadata": {
      "needs_background": "light"
     },
     "output_type": "display_data"
    }
   ],
   "source": [
    "# 데이터 확인\n",
    "\n",
    "from matplotlib import pyplot as plt\n",
    "%matplotlib inline\n",
    "\n",
    "plt_row = 5\n",
    "plt_col = 5\n",
    "plt.rcParams[\"figure.figsize\"] = (10,10)\n",
    "\n",
    "f, axarr = plt.subplots(plt_row, plt_col)\n",
    "\n",
    "for i in range(plt_row*plt_col):\n",
    "\n",
    "    sub_plt = axarr[int(i/plt_row), int(i%plt_col)]\n",
    "    sub_plt.axis('off')\n",
    "    sub_plt.imshow(x_train[i].reshape(64, 64,3))\n",
    "    \n",
    "    label = np.argmax(y_train[i])\n",
    "                      \n",
    "    if label == 2 :\n",
    "        direction = 'left'\n",
    "    elif label == 1:\n",
    "        direction = 'right'\n",
    "    elif label == 0:\n",
    "        direction = 'forward'\n",
    "#     elif label == 3:\n",
    "#         direction = 'backward'\n",
    "                      \n",
    "    sub_plt_title = str(label) + \" : \" + direction\n",
    "    sub_plt.set_title(sub_plt_title)\n",
    "\n",
    "plt.show()"
   ]
  },
  {
   "cell_type": "markdown",
   "metadata": {},
   "source": [
    "# 3. 모델 생성"
   ]
  },
  {
   "cell_type": "code",
   "execution_count": 18,
   "metadata": {},
   "outputs": [],
   "source": [
    "# image size = 160 x 320\n",
    "def posla_net():\n",
    "    \n",
    "    # model setting\n",
    "    H = 64\n",
    "    W = 64\n",
    "    CH = 3\n",
    "\n",
    "    inputShape = (H, W, CH)\n",
    "\n",
    "    activation = 'relu'\n",
    "    keep_prob_conv = 0.25\n",
    "    keep_prob_dense = 0.5\n",
    "\n",
    "    #init = 'glorot_normal'\n",
    "    #init = 'he_normal'\n",
    "    init = 'he_uniform'\n",
    "    chanDim = -1\n",
    "    classes = 3\n",
    "    \n",
    "    model = Sequential()\n",
    "    \n",
    "    # CONV => RELU => POOL\n",
    "    model.add(Conv2D(3, (3, 3), padding=\"valid\", input_shape=inputShape, kernel_initializer=init, activation=activation))\n",
    "    model.add(BatchNormalization(axis=chanDim))\n",
    "    model.add(MaxPooling2D(pool_size=(2, 2)))\n",
    "    \n",
    "    model.add(Conv2D(9, (3, 3), padding=\"valid\", kernel_initializer=init, activation=activation))\n",
    "    model.add(MaxPooling2D(pool_size=(2, 2)))\n",
    "    \n",
    "    model.add(Conv2D(18, (3, 3), padding=\"valid\", kernel_initializer=init, activation=activation))\n",
    "    model.add(MaxPooling2D(pool_size=(2, 2)))\n",
    "    \n",
    "    model.add(Conv2D(32, (3, 3), padding=\"valid\", kernel_initializer=init, activation=activation))\n",
    "    model.add(MaxPooling2D(pool_size=(2, 2)))\n",
    "    \n",
    "    model.add(Flatten())\n",
    "    \n",
    "    model.add(Dense(80, kernel_initializer=init, activation=activation))\n",
    "    model.add(Dropout(keep_prob_dense))\n",
    "    \n",
    "    model.add(Dense(15, kernel_initializer=init, activation=activation))\n",
    "    model.add(Dropout(keep_prob_dense))\n",
    "    \n",
    "    # softmax classifier\n",
    "    model.add(Dense(classes , activation = 'softmax'))\n",
    "    \n",
    "    return model"
   ]
  },
  {
   "cell_type": "code",
   "execution_count": 19,
   "metadata": {
    "scrolled": false
   },
   "outputs": [
    {
     "name": "stdout",
     "output_type": "stream",
     "text": [
      "Model: \"sequential_1\"\n",
      "_________________________________________________________________\n",
      "Layer (type)                 Output Shape              Param #   \n",
      "=================================================================\n",
      "conv2d_4 (Conv2D)            (None, 62, 62, 3)         84        \n",
      "_________________________________________________________________\n",
      "batch_normalization_1 (Batch (None, 62, 62, 3)         12        \n",
      "_________________________________________________________________\n",
      "max_pooling2d_4 (MaxPooling2 (None, 31, 31, 3)         0         \n",
      "_________________________________________________________________\n",
      "conv2d_5 (Conv2D)            (None, 29, 29, 9)         252       \n",
      "_________________________________________________________________\n",
      "max_pooling2d_5 (MaxPooling2 (None, 14, 14, 9)         0         \n",
      "_________________________________________________________________\n",
      "conv2d_6 (Conv2D)            (None, 12, 12, 18)        1476      \n",
      "_________________________________________________________________\n",
      "max_pooling2d_6 (MaxPooling2 (None, 6, 6, 18)          0         \n",
      "_________________________________________________________________\n",
      "conv2d_7 (Conv2D)            (None, 4, 4, 32)          5216      \n",
      "_________________________________________________________________\n",
      "max_pooling2d_7 (MaxPooling2 (None, 2, 2, 32)          0         \n",
      "_________________________________________________________________\n",
      "flatten_1 (Flatten)          (None, 128)               0         \n",
      "_________________________________________________________________\n",
      "dense_3 (Dense)              (None, 80)                10320     \n",
      "_________________________________________________________________\n",
      "dropout_2 (Dropout)          (None, 80)                0         \n",
      "_________________________________________________________________\n",
      "dense_4 (Dense)              (None, 15)                1215      \n",
      "_________________________________________________________________\n",
      "dropout_3 (Dropout)          (None, 15)                0         \n",
      "_________________________________________________________________\n",
      "dense_5 (Dense)              (None, 3)                 48        \n",
      "=================================================================\n",
      "Total params: 18,623\n",
      "Trainable params: 18,617\n",
      "Non-trainable params: 6\n",
      "_________________________________________________________________\n"
     ]
    }
   ],
   "source": [
    "model = posla_net()\n",
    "model.summary()"
   ]
  },
  {
   "cell_type": "code",
   "execution_count": 20,
   "metadata": {},
   "outputs": [
    {
     "name": "stdout",
     "output_type": "stream",
     "text": [
      "Failed to import pydot. You must install pydot and graphviz for `pydotprint` to work.\n"
     ]
    }
   ],
   "source": [
    "from tensorflow.python.keras.utils import plot_model\n",
    "plot_model(model, to_file= 'video_net_plot.png', show_shapes = True, show_layer_names = True)"
   ]
  },
  {
   "cell_type": "markdown",
   "metadata": {},
   "source": [
    "# 4. 모델 파라미터 셋팅"
   ]
  },
  {
   "cell_type": "markdown",
   "metadata": {},
   "source": [
    "적은 수의 이미지 데이터가 존재할 경우 데이터를 늘리는 용도로 사용"
   ]
  },
  {
   "cell_type": "code",
   "execution_count": 21,
   "metadata": {},
   "outputs": [],
   "source": [
    "aug = ImageDataGenerator(rotation_range=25, width_shift_range=0.1,\n",
    "    height_shift_range=0.1, shear_range=0.2, zoom_range=0.2,\n",
    "    horizontal_flip=True, fill_mode=\"nearest\")"
   ]
  },
  {
   "cell_type": "code",
   "execution_count": 22,
   "metadata": {},
   "outputs": [],
   "source": [
    "early_stopping = EarlyStopping(monitor='val_loss', patience=10)"
   ]
  },
  {
   "cell_type": "code",
   "execution_count": 23,
   "metadata": {},
   "outputs": [],
   "source": [
    "reduce_lr = ReduceLROnPlateau(monitor='val_loss', factor=0.2,\n",
    "                              patience=5, min_lr=0.0001)"
   ]
  },
  {
   "cell_type": "code",
   "execution_count": 24,
   "metadata": {},
   "outputs": [],
   "source": [
    "# initialize the model\n",
    "# EPOCHS = 50\n",
    "# INIT_LR = 1e-3\n",
    "# BS = 32\n",
    "# split_ratio = 0.2"
   ]
  },
  {
   "cell_type": "code",
   "execution_count": 25,
   "metadata": {},
   "outputs": [
    {
     "name": "stdout",
     "output_type": "stream",
     "text": [
      "[INFO] compiling model...\n"
     ]
    }
   ],
   "source": [
    "EPOCHS = 50\n",
    "INIT_LR = 1e-4\n",
    "BS = 256\n",
    "split_ratio = 0.2\n",
    "\n",
    "print(\"[INFO] compiling model...\")\n",
    "opt = Adam(lr=INIT_LR, decay=INIT_LR / EPOCHS)\n",
    "model.compile(loss=\"categorical_crossentropy\", optimizer=opt,\n",
    "    metrics=[\"accuracy\"])\n",
    " "
   ]
  },
  {
   "cell_type": "markdown",
   "metadata": {},
   "source": [
    "# 5. 모델 훈련"
   ]
  },
  {
   "cell_type": "code",
   "execution_count": 26,
   "metadata": {},
   "outputs": [],
   "source": [
    "from tensorflow.keras.utils import to_categorical\n"
   ]
  },
  {
   "cell_type": "code",
   "execution_count": 27,
   "metadata": {},
   "outputs": [],
   "source": [
    "y_binary = to_categorical(y_train)"
   ]
  },
  {
   "cell_type": "code",
   "execution_count": 28,
   "metadata": {
    "scrolled": false
   },
   "outputs": [
    {
     "name": "stdout",
     "output_type": "stream",
     "text": [
      "Train on 7774 samples, validate on 1944 samples\n",
      "Epoch 1/50\n",
      "7774/7774 [==============================] - 237s 30ms/sample - loss: 1.7158 - acc: 0.3456 - val_loss: 1.0937 - val_acc: 0.2778\n",
      "Epoch 2/50\n",
      "7774/7774 [==============================] - 237s 30ms/sample - loss: 1.1310 - acc: 0.3552 - val_loss: 1.0735 - val_acc: 0.4306\n",
      "Epoch 3/50\n",
      "7774/7774 [==============================] - 237s 30ms/sample - loss: 1.0577 - acc: 0.4154 - val_loss: 0.9851 - val_acc: 0.5849\n",
      "Epoch 4/50\n",
      "7774/7774 [==============================] - 245s 32ms/sample - loss: 0.9651 - acc: 0.4871 - val_loss: 0.8064 - val_acc: 0.8349\n",
      "Epoch 5/50\n",
      "7774/7774 [==============================] - 242s 31ms/sample - loss: 0.8535 - acc: 0.5753 - val_loss: 0.6050 - val_acc: 0.9228\n",
      "Epoch 6/50\n",
      "7774/7774 [==============================] - 238s 31ms/sample - loss: 0.7019 - acc: 0.6779 - val_loss: 0.4003 - val_acc: 0.9666\n",
      "Epoch 7/50\n",
      "7774/7774 [==============================] - 236s 30ms/sample - loss: 0.5525 - acc: 0.7595 - val_loss: 0.2657 - val_acc: 0.9851\n",
      "Epoch 8/50\n",
      "7774/7774 [==============================] - 235s 30ms/sample - loss: 0.4552 - acc: 0.8170 - val_loss: 0.1746 - val_acc: 0.9928\n",
      "Epoch 9/50\n",
      "7774/7774 [==============================] - 235s 30ms/sample - loss: 0.3739 - acc: 0.8531 - val_loss: 0.1153 - val_acc: 0.9969\n",
      "Epoch 10/50\n",
      "7774/7774 [==============================] - 236s 30ms/sample - loss: 0.2986 - acc: 0.8847 - val_loss: 0.0687 - val_acc: 0.9985\n",
      "Epoch 11/50\n",
      "7774/7774 [==============================] - 235s 30ms/sample - loss: 0.2596 - acc: 0.9038 - val_loss: 0.0487 - val_acc: 0.9995\n",
      "Epoch 12/50\n",
      "7774/7774 [==============================] - 236s 30ms/sample - loss: 0.2141 - acc: 0.9263 - val_loss: 0.0227 - val_acc: 1.0000\n",
      "Epoch 13/50\n",
      "7774/7774 [==============================] - 235s 30ms/sample - loss: 0.1853 - acc: 0.9361 - val_loss: 0.0132 - val_acc: 1.0000\n",
      "Epoch 14/50\n",
      "7774/7774 [==============================] - 236s 30ms/sample - loss: 0.1580 - acc: 0.9455 - val_loss: 0.0072 - val_acc: 1.0000\n",
      "Epoch 15/50\n",
      "7774/7774 [==============================] - 236s 30ms/sample - loss: 0.1497 - acc: 0.9497 - val_loss: 0.0047 - val_acc: 1.0000\n",
      "Epoch 16/50\n",
      "7774/7774 [==============================] - 235s 30ms/sample - loss: 0.1248 - acc: 0.9565 - val_loss: 0.0031 - val_acc: 1.0000\n",
      "Epoch 17/50\n",
      "7774/7774 [==============================] - 236s 30ms/sample - loss: 0.1136 - acc: 0.9610 - val_loss: 0.0021 - val_acc: 1.0000\n",
      "Epoch 18/50\n",
      "7774/7774 [==============================] - 236s 30ms/sample - loss: 0.1094 - acc: 0.9622 - val_loss: 0.0013 - val_acc: 1.0000\n",
      "Epoch 19/50\n",
      "7774/7774 [==============================] - 236s 30ms/sample - loss: 0.0992 - acc: 0.9649 - val_loss: 6.3133e-04 - val_acc: 1.0000\n",
      "Epoch 20/50\n",
      "7774/7774 [==============================] - 237s 31ms/sample - loss: 0.0942 - acc: 0.9660 - val_loss: 6.0732e-04 - val_acc: 1.0000\n",
      "Epoch 21/50\n",
      "7774/7774 [==============================] - 235s 30ms/sample - loss: 0.0885 - acc: 0.9662 - val_loss: 2.4246e-04 - val_acc: 1.0000\n",
      "Epoch 22/50\n",
      "7774/7774 [==============================] - 236s 30ms/sample - loss: 0.0795 - acc: 0.9711 - val_loss: 3.2712e-04 - val_acc: 1.0000\n",
      "Epoch 23/50\n",
      "7774/7774 [==============================] - 236s 30ms/sample - loss: 0.0797 - acc: 0.9720 - val_loss: 1.4796e-04 - val_acc: 1.0000\n",
      "Epoch 24/50\n",
      "7774/7774 [==============================] - 235s 30ms/sample - loss: 0.0746 - acc: 0.9727 - val_loss: 1.0780e-04 - val_acc: 1.0000\n",
      "Epoch 25/50\n",
      "7774/7774 [==============================] - 236s 30ms/sample - loss: 0.0720 - acc: 0.9727 - val_loss: 8.6089e-05 - val_acc: 1.0000\n",
      "Epoch 26/50\n",
      "7774/7774 [==============================] - 235s 30ms/sample - loss: 0.0660 - acc: 0.9732 - val_loss: 3.5454e-05 - val_acc: 1.0000\n",
      "Epoch 27/50\n",
      "7774/7774 [==============================] - 236s 30ms/sample - loss: 0.0653 - acc: 0.9767 - val_loss: 4.2020e-05 - val_acc: 1.0000\n",
      "Epoch 28/50\n",
      "7774/7774 [==============================] - 236s 30ms/sample - loss: 0.0624 - acc: 0.9775 - val_loss: 4.9008e-05 - val_acc: 1.0000\n",
      "Epoch 29/50\n",
      "7774/7774 [==============================] - 235s 30ms/sample - loss: 0.0611 - acc: 0.9783 - val_loss: 3.2063e-05 - val_acc: 1.0000\n",
      "Epoch 30/50\n",
      "7774/7774 [==============================] - 241s 31ms/sample - loss: 0.0595 - acc: 0.9780 - val_loss: 1.8782e-05 - val_acc: 1.0000\n",
      "Epoch 31/50\n",
      "7774/7774 [==============================] - 236s 30ms/sample - loss: 0.0534 - acc: 0.9812 - val_loss: 1.5912e-05 - val_acc: 1.0000\n",
      "Epoch 32/50\n",
      "7774/7774 [==============================] - 235s 30ms/sample - loss: 0.0568 - acc: 0.9806 - val_loss: 2.2752e-05 - val_acc: 1.0000\n",
      "Epoch 33/50\n",
      "7774/7774 [==============================] - 236s 30ms/sample - loss: 0.0563 - acc: 0.9816 - val_loss: 5.5127e-06 - val_acc: 1.0000\n",
      "Epoch 34/50\n",
      "7774/7774 [==============================] - 245s 31ms/sample - loss: 0.0480 - acc: 0.9830 - val_loss: 2.2297e-06 - val_acc: 1.0000\n",
      "Epoch 35/50\n",
      "7774/7774 [==============================] - 245s 32ms/sample - loss: 0.0472 - acc: 0.9835 - val_loss: 7.0896e-06 - val_acc: 1.0000\n",
      "Epoch 36/50\n",
      "7774/7774 [==============================] - 259s 33ms/sample - loss: 0.0473 - acc: 0.9828 - val_loss: 6.3453e-07 - val_acc: 1.0000\n",
      "Epoch 37/50\n",
      "7774/7774 [==============================] - 278s 36ms/sample - loss: 0.0492 - acc: 0.9835 - val_loss: 3.0267e-06 - val_acc: 1.0000\n",
      "Epoch 38/50\n",
      "7774/7774 [==============================] - 275s 35ms/sample - loss: 0.0480 - acc: 0.9835 - val_loss: 2.5212e-06 - val_acc: 1.0000\n",
      "Epoch 39/50\n",
      "7774/7774 [==============================] - 273s 35ms/sample - loss: 0.0428 - acc: 0.9853 - val_loss: 3.6196e-07 - val_acc: 1.0000\n",
      "Epoch 40/50\n",
      "7774/7774 [==============================] - 271s 35ms/sample - loss: 0.0421 - acc: 0.9860 - val_loss: 1.2059e-06 - val_acc: 1.0000\n",
      "Epoch 41/50\n",
      "7774/7774 [==============================] - 278s 36ms/sample - loss: 0.0444 - acc: 0.9844 - val_loss: 7.6602e-07 - val_acc: 1.0000\n",
      "Epoch 42/50\n",
      "7774/7774 [==============================] - 288s 37ms/sample - loss: 0.0411 - acc: 0.9865 - val_loss: 2.9291e-07 - val_acc: 1.0000\n",
      "Epoch 43/50\n",
      "7774/7774 [==============================] - 274s 35ms/sample - loss: 0.0442 - acc: 0.9848 - val_loss: 2.9728e-06 - val_acc: 1.0000\n",
      "Epoch 44/50\n",
      "7774/7774 [==============================] - 281s 36ms/sample - loss: 0.0392 - acc: 0.9869 - val_loss: 5.5085e-07 - val_acc: 1.0000\n",
      "Epoch 45/50\n",
      "7774/7774 [==============================] - 277s 36ms/sample - loss: 0.0430 - acc: 0.9851 - val_loss: 7.4793e-07 - val_acc: 1.0000\n",
      "Epoch 46/50\n",
      "7774/7774 [==============================] - 267s 34ms/sample - loss: 0.0387 - acc: 0.9868 - val_loss: 7.2810e-07 - val_acc: 1.0000\n",
      "Epoch 47/50\n",
      "7774/7774 [==============================] - 265s 34ms/sample - loss: 0.0374 - acc: 0.9862 - val_loss: 1.3791e-07 - val_acc: 1.0000\n",
      "Epoch 48/50\n",
      "7774/7774 [==============================] - 266s 34ms/sample - loss: 0.0391 - acc: 0.9877 - val_loss: 4.1085e-08 - val_acc: 1.0000\n",
      "Epoch 49/50\n",
      "7774/7774 [==============================] - 265s 34ms/sample - loss: 0.0382 - acc: 0.9855 - val_loss: 4.4355e-07 - val_acc: 1.0000\n",
      "Epoch 50/50\n",
      "7774/7774 [==============================] - 267s 34ms/sample - loss: 0.0367 - acc: 0.9878 - val_loss: 1.0304e-06 - val_acc: 1.0000\n"
     ]
    }
   ],
   "source": [
    "hist = model.fit(x_train, y_train,\n",
    "                 epochs=EPOCHS, validation_steps=BS, \n",
    "                 validation_split=split_ratio, \n",
    "                 verbose = 1\n",
    "                 ,callbacks=[reduce_lr]\n",
    "                )"
   ]
  },
  {
   "cell_type": "code",
   "execution_count": 29,
   "metadata": {
    "scrolled": false
   },
   "outputs": [
    {
     "data": {
      "image/png": "[encoded data removed]",
      "text/plain": [
       "<Figure size 720x720 with 2 Axes>"
      ]
     },
     "metadata": {
      "needs_background": "light"
     },
     "output_type": "display_data"
    }
   ],
   "source": [
    "plt.subplot(1, 2, 1)\n",
    "plt.title('model loss')\n",
    "plt.plot(hist.history['loss'], label=\"loss\")\n",
    "plt.plot(hist.history['val_loss'], label=\"val_loss\")\n",
    "plt.ylabel('loss')\n",
    "plt.xlabel('epoch')\n",
    "plt.legend()\n",
    "plt.ylim((0,2))\n",
    "\n",
    "plt.subplot(1, 2, 2)\n",
    "plt.title('model accuracy')\n",
    "plt.plot(hist.history['acc'], label=\"acc\")\n",
    "plt.plot(hist.history['val_acc'], label=\"val_acc\")\n",
    "plt.ylabel('accuracy')\n",
    "plt.xlabel('epoch')\n",
    "plt.legend()\n",
    "plt.ylim((0.4, 1))\n",
    "\n",
    "\n",
    "plt.show();"
   ]
  },
  {
   "cell_type": "markdown",
   "metadata": {},
   "source": [
    "# 6. 모델 결과 확인"
   ]
  },
  {
   "cell_type": "code",
   "execution_count": 67,
   "metadata": {},
   "outputs": [],
   "source": [
    "#l_model = load_model('./model_data/VGG_model.h5')"
   ]
  },
  {
   "cell_type": "code",
   "execution_count": 30,
   "metadata": {
    "scrolled": false
   },
   "outputs": [
    {
     "name": "stdout",
     "output_type": "stream",
     "text": [
      "4165/4165 [==============================] - 2s 534us/sample - loss: 1.2581e-05 - acc: 1.0000\n",
      "## evaluation loss and_metrics ##\n",
      "[1.2580647140103688e-05, 1.0]\n"
     ]
    }
   ],
   "source": [
    "loss_and_metrics = model.evaluate(x_test, y_test, batch_size=BS)\n",
    "print('## evaluation loss and_metrics ##')\n",
    "print(loss_and_metrics)"
   ]
  },
  {
   "cell_type": "code",
   "execution_count": 31,
   "metadata": {},
   "outputs": [
    {
     "name": "stdout",
     "output_type": "stream",
     "text": [
      "True : 1, Predict : 1\n",
      "True : 1, Predict : 1\n",
      "True : 2, Predict : 2\n",
      "True : 0, Predict : 0\n",
      "True : 0, Predict : 0\n",
      "True : 2, Predict : 2\n",
      "True : 2, Predict : 2\n",
      "True : 2, Predict : 2\n",
      "True : 1, Predict : 1\n",
      "True : 1, Predict : 1\n"
     ]
    }
   ],
   "source": [
    "xhat_idx = np.random.choice(x_test.shape[0], 10)\n",
    "xhat = x_test[xhat_idx]\n",
    "\n",
    "yhat_classes = model.predict_classes(xhat)\n",
    "\n",
    "for i in range(10):\n",
    "    print('True : ' + str(np.argmax(y_test[xhat_idx[i]])) + ', Predict : ' + str(yhat_classes[i]))"
   ]
  },
  {
   "cell_type": "markdown",
   "metadata": {},
   "source": [
    "# 7. 최종 모델 훈련"
   ]
  },
  {
   "cell_type": "code",
   "execution_count": 32,
   "metadata": {},
   "outputs": [
    {
     "name": "stdout",
     "output_type": "stream",
     "text": [
      "(13883, 64, 64, 3)\n",
      "(13883, 3)\n"
     ]
    }
   ],
   "source": [
    "x_total = np.vstack((x_train, x_test))\n",
    "y_total = np.vstack((y_train, y_test))\n",
    "\n",
    "print(x_total.shape)\n",
    "print(y_total.shape)"
   ]
  },
  {
   "cell_type": "code",
   "execution_count": 33,
   "metadata": {},
   "outputs": [],
   "source": [
    "early_stopping = EarlyStopping(monitor='loss', patience=10)"
   ]
  },
  {
   "cell_type": "code",
   "execution_count": 34,
   "metadata": {},
   "outputs": [],
   "source": [
    "reduce_lr = ReduceLROnPlateau(monitor='loss', factor=0.2,\n",
    "                              patience=5, min_lr=0.0001)"
   ]
  },
  {
   "cell_type": "code",
   "execution_count": 35,
   "metadata": {},
   "outputs": [
    {
     "name": "stdout",
     "output_type": "stream",
     "text": [
      "[INFO] compiling model...\n"
     ]
    }
   ],
   "source": [
    "EPOCHS = 50\n",
    "INIT_LR = 1e-4\n",
    "BS = 256\n",
    "split_ratio = 0.2\n",
    "\n",
    "print(\"[INFO] compiling model...\")\n",
    "opt = Adam(lr=INIT_LR, decay=INIT_LR / EPOCHS)\n",
    "model.compile(loss=\"categorical_crossentropy\", optimizer=opt,\n",
    "    metrics=[\"accuracy\"])"
   ]
  },
  {
   "cell_type": "code",
   "execution_count": 36,
   "metadata": {
    "scrolled": false
   },
   "outputs": [
    {
     "name": "stdout",
     "output_type": "stream",
     "text": [
      "Train on 13883 samples\n",
      "Epoch 1/50\n",
      "13883/13883 [==============================] - 20s 1ms/sample - loss: 0.0350 - acc: 0.9883\n",
      "Epoch 2/50\n",
      "13883/13883 [==============================] - 19s 1ms/sample - loss: 0.0353 - acc: 0.9886\n",
      "Epoch 3/50\n",
      "13883/13883 [==============================] - 19s 1ms/sample - loss: 0.0348 - acc: 0.9879\n",
      "Epoch 4/50\n",
      "13883/13883 [==============================] - 19s 1ms/sample - loss: 0.0347 - acc: 0.9881\n",
      "Epoch 5/50\n",
      "13883/13883 [==============================] - 19s 1ms/sample - loss: 0.0330 - acc: 0.9879\n",
      "Epoch 6/50\n",
      "13883/13883 [==============================] - 19s 1ms/sample - loss: 0.0335 - acc: 0.9892\n",
      "Epoch 7/50\n",
      "13883/13883 [==============================] - 19s 1ms/sample - loss: 0.0330 - acc: 0.9880\n",
      "Epoch 8/50\n",
      "13883/13883 [==============================] - 19s 1ms/sample - loss: 0.0335 - acc: 0.9885\n",
      "Epoch 9/50\n",
      "13883/13883 [==============================] - 19s 1ms/sample - loss: 0.0338 - acc: 0.9888\n",
      "Epoch 10/50\n",
      "13883/13883 [==============================] - 19s 1ms/sample - loss: 0.0319 - acc: 0.9881\n",
      "Epoch 11/50\n",
      "13883/13883 [==============================] - 19s 1ms/sample - loss: 0.0321 - acc: 0.9882\n",
      "Epoch 12/50\n",
      "13883/13883 [==============================] - 19s 1ms/sample - loss: 0.0322 - acc: 0.9892\n",
      "Epoch 13/50\n",
      "13883/13883 [==============================] - 19s 1ms/sample - loss: 0.0304 - acc: 0.9901\n",
      "Epoch 14/50\n",
      "13883/13883 [==============================] - 19s 1ms/sample - loss: 0.0320 - acc: 0.9892\n",
      "Epoch 15/50\n",
      "13883/13883 [==============================] - 19s 1ms/sample - loss: 0.0332 - acc: 0.9878\n",
      "Epoch 16/50\n",
      "13883/13883 [==============================] - 19s 1ms/sample - loss: 0.0290 - acc: 0.9893\n",
      "Epoch 17/50\n",
      "13883/13883 [==============================] - 19s 1ms/sample - loss: 0.0310 - acc: 0.9886\n",
      "Epoch 18/50\n",
      "13883/13883 [==============================] - 19s 1ms/sample - loss: 0.0283 - acc: 0.9896\n",
      "Epoch 19/50\n",
      "13883/13883 [==============================] - 19s 1ms/sample - loss: 0.0327 - acc: 0.9885\n",
      "Epoch 20/50\n",
      "13883/13883 [==============================] - 19s 1ms/sample - loss: 0.0314 - acc: 0.9893\n",
      "Epoch 21/50\n",
      "13883/13883 [==============================] - 19s 1ms/sample - loss: 0.0275 - acc: 0.9907\n",
      "Epoch 22/50\n",
      "13883/13883 [==============================] - 19s 1ms/sample - loss: 0.0315 - acc: 0.9886\n",
      "Epoch 23/50\n",
      "13883/13883 [==============================] - 19s 1ms/sample - loss: 0.0307 - acc: 0.9892\n",
      "Epoch 24/50\n",
      "13883/13883 [==============================] - 19s 1ms/sample - loss: 0.0319 - acc: 0.9890\n",
      "Epoch 25/50\n",
      "13883/13883 [==============================] - 19s 1ms/sample - loss: 0.0304 - acc: 0.9894\n",
      "Epoch 26/50\n",
      "13883/13883 [==============================] - 19s 1ms/sample - loss: 0.0277 - acc: 0.9900\n",
      "Epoch 27/50\n",
      "13883/13883 [==============================] - 19s 1ms/sample - loss: 0.0298 - acc: 0.9903\n",
      "Epoch 28/50\n",
      "13883/13883 [==============================] - 19s 1ms/sample - loss: 0.0259 - acc: 0.9923\n",
      "Epoch 29/50\n",
      "13883/13883 [==============================] - 19s 1ms/sample - loss: 0.0307 - acc: 0.9891\n",
      "Epoch 30/50\n",
      "13883/13883 [==============================] - 19s 1ms/sample - loss: 0.0271 - acc: 0.9909\n",
      "Epoch 31/50\n",
      "13883/13883 [==============================] - 19s 1ms/sample - loss: 0.0274 - acc: 0.9907\n",
      "Epoch 32/50\n",
      "13883/13883 [==============================] - 20s 1ms/sample - loss: 0.0258 - acc: 0.9909\n",
      "Epoch 33/50\n",
      "13883/13883 [==============================] - 19s 1ms/sample - loss: 0.0278 - acc: 0.9901\n",
      "Epoch 34/50\n",
      "13883/13883 [==============================] - 19s 1ms/sample - loss: 0.0275 - acc: 0.9902\n",
      "Epoch 35/50\n",
      "13883/13883 [==============================] - 19s 1ms/sample - loss: 0.0266 - acc: 0.9905\n",
      "Epoch 36/50\n",
      "13883/13883 [==============================] - 19s 1ms/sample - loss: 0.0268 - acc: 0.9900\n",
      "Epoch 37/50\n",
      "13883/13883 [==============================] - 20s 1ms/sample - loss: 0.0255 - acc: 0.9920\n",
      "Epoch 38/50\n",
      "13883/13883 [==============================] - 19s 1ms/sample - loss: 0.0238 - acc: 0.9921\n",
      "Epoch 39/50\n",
      "13883/13883 [==============================] - 20s 1ms/sample - loss: 0.0259 - acc: 0.9906\n",
      "Epoch 40/50\n",
      "13883/13883 [==============================] - 20s 1ms/sample - loss: 0.0240 - acc: 0.9919\n",
      "Epoch 41/50\n",
      "13883/13883 [==============================] - 19s 1ms/sample - loss: 0.0240 - acc: 0.9916\n",
      "Epoch 42/50\n",
      "13883/13883 [==============================] - 19s 1ms/sample - loss: 0.0284 - acc: 0.9895\n",
      "Epoch 43/50\n",
      "13883/13883 [==============================] - 19s 1ms/sample - loss: 0.0240 - acc: 0.9921\n",
      "Epoch 44/50\n",
      "13883/13883 [==============================] - 19s 1ms/sample - loss: 0.0275 - acc: 0.9907\n",
      "Epoch 45/50\n",
      "13883/13883 [==============================] - 20s 1ms/sample - loss: 0.0260 - acc: 0.9906\n",
      "Epoch 46/50\n",
      "13883/13883 [==============================] - 20s 1ms/sample - loss: 0.0256 - acc: 0.9921\n",
      "Epoch 47/50\n",
      "13883/13883 [==============================] - 20s 1ms/sample - loss: 0.0263 - acc: 0.9907\n",
      "Epoch 48/50\n",
      "13883/13883 [==============================] - 19s 1ms/sample - loss: 0.0243 - acc: 0.9924\n",
      "Epoch 49/50\n",
      "13883/13883 [==============================] - 19s 1ms/sample - loss: 0.0254 - acc: 0.9912\n",
      "Epoch 50/50\n",
      "13883/13883 [==============================] - 20s 1ms/sample - loss: 0.0261 - acc: 0.9911\n"
     ]
    }
   ],
   "source": [
    "hist = model.fit(x_total, y_total, \n",
    "                 epochs=EPOCHS, batch_size=BS, \n",
    "                 #validation_split=split_ratio, \n",
    "                 verbose = 1\n",
    "                 ,callbacks=[reduce_lr]\n",
    "                )"
   ]
  },
  {
   "cell_type": "code",
   "execution_count": 37,
   "metadata": {
    "scrolled": false
   },
   "outputs": [
    {
     "name": "stdout",
     "output_type": "stream",
     "text": [
      "4165/4165 [==============================] - 2s 563us/sample - loss: 2.2897e-10 - acc: 1.0000\n",
      "## evaluation loss and_metrics ##\n",
      "[2.2897331612458561e-10, 1.0]\n"
     ]
    }
   ],
   "source": [
    "loss_and_metrics = model.evaluate(x_test, y_test, batch_size=BS)\n",
    "print('## evaluation loss and_metrics ##')\n",
    "print(loss_and_metrics)"
   ]
  },
  {
   "cell_type": "code",
   "execution_count": 38,
   "metadata": {},
   "outputs": [
    {
     "name": "stdout",
     "output_type": "stream",
     "text": [
      "True : 0, Predict : 0\n",
      "True : 2, Predict : 2\n",
      "True : 2, Predict : 2\n",
      "True : 0, Predict : 0\n",
      "True : 0, Predict : 0\n",
      "True : 1, Predict : 1\n",
      "True : 2, Predict : 2\n",
      "True : 1, Predict : 1\n",
      "True : 2, Predict : 2\n",
      "True : 2, Predict : 2\n"
     ]
    }
   ],
   "source": [
    "xhat_idx = np.random.choice(x_test.shape[0], 10)\n",
    "xhat = x_test[xhat_idx]\n",
    "\n",
    "yhat_classes = model.predict_classes(xhat)\n",
    "\n",
    "for i in range(10):\n",
    "    print('True : ' + str(np.argmax(y_test[xhat_idx[i]])) + ', Predict : ' + str(yhat_classes[i]))"
   ]
  },
  {
   "cell_type": "markdown",
   "metadata": {},
   "source": [
    "# 8. 모델 저장"
   ]
  },
  {
   "cell_type": "code",
   "execution_count": null,
   "metadata": {},
   "outputs": [],
   "source": [
    "model.save('./model_data/video_model_3.h5')"
   ]
  },
  {
   "cell_type": "code",
   "execution_count": null,
   "metadata": {},
   "outputs": [],
   "source": []
  }
 ],
 "metadata": {
  "kernelspec": {
   "display_name": "Python 3",
   "language": "python",
   "name": "python3"
  },
  "language_info": {
   "codemirror_mode": {
    "name": "ipython",
    "version": 3
   },
   "file_extension": ".py",
   "mimetype": "text/x-python",
   "name": "python",
   "nbconvert_exporter": "python",
   "pygments_lexer": "ipython3",
   "version": "3.7.3"
  }
 },
 "nbformat": 4,
 "nbformat_minor": 2
}
