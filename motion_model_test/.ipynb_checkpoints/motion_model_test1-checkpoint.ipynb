{
 "cells": [
  {
   "cell_type": "markdown",
   "metadata": {},
   "source": [
    "# 0. 사용할 패키지 불러오기"
   ]
  },
  {
   "cell_type": "code",
   "execution_count": 44,
   "metadata": {},
   "outputs": [],
   "source": [
    "from tensorflow.python.keras.models import Sequential\n",
    "from tensorflow.python.keras.layers.normalization import BatchNormalization\n",
    "from tensorflow.python.keras.layers.convolutional import Conv2D\n",
    "from tensorflow.python.keras.layers.convolutional import MaxPooling2D\n",
    "from tensorflow.python.keras.layers.core import Activation\n",
    "from tensorflow.python.keras.layers.core import Flatten\n",
    "from tensorflow.python.keras.layers.core import Dropout\n",
    "from tensorflow.python.keras.layers.core import Dense\n",
    "from tensorflow.python.keras import backend as K\n",
    "from tensorflow.python.keras.preprocessing.image import ImageDataGenerator\n",
    "from tensorflow.python.keras.optimizers import Adam\n",
    "from tensorflow.python.keras.callbacks import EarlyStopping, ReduceLROnPlateau\n",
    "from tensorflow.python.keras.models import load_model"
   ]
  },
  {
   "cell_type": "markdown",
   "metadata": {},
   "source": [
    "# 1. 데이터 불러오기"
   ]
  },
  {
   "cell_type": "code",
   "execution_count": null,
   "metadata": {},
   "outputs": [],
   "source": [
    "import numpy as np\n",
    "import glob\n",
    "import sys\n",
    "from sklearn.model_selection import train_test_split\n",
    "\n",
    "x_train = np.empty((0, 240, 180, 3))\n",
    "y_train = np.empty((0, 3))\n",
    "print(y_train.shape)\n",
    "\n",
    "training_data = glob.glob('/home/pirl/Documents/motion1000/*.npz')\n",
    "#print(training_data)\n",
    "idx=1\n",
    "total_data=[]\n",
    "for single_npz in training_data:\n",
    "    with np.load(single_npz) as data:\n",
    "        #print(data.files)\n",
    "        x = data['train']\n",
    "        y = data['trining_label']\n",
    "        print(x.shape, y.shape)\n",
    "    x = np.reshape(x, (-1, 240, 180, 3))\n",
    "    y_temp=np.empty((0,3))\n",
    "    for i in range(1001):\n",
    "        y_temp=np.vstack((y_temp,y))\n",
    "    \n",
    "    total_data.append(x)\n",
    "    x_train = np.vstack((x_train, x))\n",
    "    y_train = np.vstack((y_train, y_temp))\n",
    "    #print(idx)\n",
    "    idx+=1\n",
    "print(x_train.shape, total_data.shape)\n",
    "print(y_train.shape)\n",
    "#train test split, 7:3\n",
    "x_train, x_test, y_train, y_test = train_test_split(x_train, y_train, test_size=0.3, random_state = 42)\n",
    "\n",
    "y_train = y_train[:,:]\n",
    "y_test = y_test[:,:]\n",
    "\n",
    "print(x_train.shape, y_train.shape)\n",
    "print(x_test.shape, y_test.shape)"
   ]
  },
  {
   "cell_type": "markdown",
   "metadata": {},
   "source": [
    "# 데이터 확인"
   ]
  },
  {
   "cell_type": "code",
   "execution_count": 62,
   "metadata": {},
   "outputs": [
    {
     "data": {
      "text/plain": [
       "array([[[ 46.,  23.,  29.],\n",
       "        [217., 184., 179.],\n",
       "        [187., 158., 148.],\n",
       "        ...,\n",
       "        [255., 255., 255.],\n",
       "        [255., 255., 255.],\n",
       "        [255., 255., 255.]],\n",
       "\n",
       "       [[255., 255., 255.],\n",
       "        [255., 255., 255.],\n",
       "        [255., 255., 255.],\n",
       "        ...,\n",
       "        [148., 149., 168.],\n",
       "        [148., 149., 166.],\n",
       "        [146., 146., 163.]],\n",
       "\n",
       "       [[143., 146., 159.],\n",
       "        [143., 143., 159.],\n",
       "        [143., 143., 158.],\n",
       "        ...,\n",
       "        [137., 124., 133.],\n",
       "        [139., 127., 135.],\n",
       "        [140., 129., 142.]],\n",
       "\n",
       "       ...,\n",
       "\n",
       "       [[132., 125., 109.],\n",
       "        [133., 126., 109.],\n",
       "        [129., 125., 109.],\n",
       "        ...,\n",
       "        [ 42.,  24.,  24.],\n",
       "        [ 40.,  25.,  24.],\n",
       "        [ 41.,  24.,  23.]],\n",
       "\n",
       "       [[ 45.,  22.,  25.],\n",
       "        [ 45.,  24.,  24.],\n",
       "        [ 43.,  24.,  25.],\n",
       "        ...,\n",
       "        [ 15.,   9.,  19.],\n",
       "        [ 14.,   9.,  19.],\n",
       "        [ 16.,   9.,  19.]],\n",
       "\n",
       "       [[ 15.,   9.,  18.],\n",
       "        [ 19.,   8.,  20.],\n",
       "        [ 16.,   9.,  18.],\n",
       "        ...,\n",
       "        [127., 115., 100.],\n",
       "        [126., 113.,  99.],\n",
       "        [121., 108.,  95.]]])"
      ]
     },
     "execution_count": 62,
     "metadata": {},
     "output_type": "execute_result"
    }
   ],
   "source": [
    "x_train[1400]"
   ]
  },
  {
   "cell_type": "code",
   "execution_count": null,
   "metadata": {},
   "outputs": [],
   "source": [
    "\n",
    "import matplotlib.pyplot as plt\n",
    "import numpy as np\n",
    "dfile = \"temp_img.npz\"\n",
    "images = np.load(dfile)[\"train\"]\n",
    "images.shape\n",
    "plt.ion()\n",
    "plt.figure()\n",
    "plt.imshow(images.transpose((0,1,2)))"
   ]
  },
  {
   "cell_type": "code",
   "execution_count": null,
   "metadata": {
    "scrolled": false
   },
   "outputs": [],
   "source": [
    "# 데이터 확인\n",
    "\n",
    "from matplotlib import pyplot as plt\n",
    "%matplotlib inline\n",
    "\n",
    "plt_row = 5\n",
    "plt_col = 5\n",
    "plt.rcParams[\"figure.figsize\"] = (10,10)\n",
    "\n",
    "f, axarr = plt.subplots(plt_row, plt_col)\n",
    "\n",
    "for i in range(plt_row*plt_col):\n",
    "    #print(x_train[i])\n",
    "    sub_plt = axarr[int(i/plt_row), int(i%plt_col)]\n",
    "    sub_plt.axis('off')\n",
    "    sub_plt.imshow(x_train[i].transpose((0,1,2)))\n",
    "    #sub_plt.imshow(x_train[i].reshape(240, 180,3))\n",
    "    \n",
    "    label = np.argmax(y_train)\n",
    "                      \n",
    "    if label == 2 :\n",
    "        direction = 'left'\n",
    "    elif label == 1:\n",
    "        direction = 'right'\n",
    "    elif label == 0:\n",
    "        direction = 'forward'\n",
    "#     elif label == 3:\n",
    "#         direction = 'backward'\n",
    "                      \n",
    "    sub_plt_title = str(label) + \" : \" + direction\n",
    "    sub_plt.set_title(sub_plt_title)\n",
    "\n",
    "plt.show()"
   ]
  },
  {
   "cell_type": "markdown",
   "metadata": {},
   "source": [
    "# 3. 모델 생성"
   ]
  },
  {
   "cell_type": "code",
   "execution_count": 74,
   "metadata": {},
   "outputs": [],
   "source": [
    "# image size = 160 x 320\n",
    "def posla_net():\n",
    "    \n",
    "    # model setting\n",
    "    H = 240\n",
    "    W = 180\n",
    "    CH = 3\n",
    "\n",
    "    inputShape = (H, W, CH)\n",
    "\n",
    "    activation = 'relu'\n",
    "    keep_prob_conv = 0.25\n",
    "    keep_prob_dense = 0.5\n",
    "\n",
    "    #init = 'glorot_normal'\n",
    "    #init = 'he_normal'\n",
    "    init = 'he_uniform'\n",
    "    chanDim = -1\n",
    "    classes = 3\n",
    "    \n",
    "    model = Sequential()\n",
    "    \n",
    "    # CONV => RELU => POOL\n",
    "    model.add(Conv2D(3, (3, 3), padding=\"valid\", input_shape=inputShape, kernel_initializer=init, activation=activation))\n",
    "    model.add(BatchNormalization(axis=chanDim))\n",
    "    model.add(MaxPooling2D(pool_size=(2, 2)))\n",
    "    \n",
    "    model.add(Conv2D(9, (3, 3), padding=\"valid\", kernel_initializer=init, activation=activation))\n",
    "    model.add(MaxPooling2D(pool_size=(2, 2)))\n",
    "    \n",
    "    model.add(Conv2D(18, (3, 3), padding=\"valid\", kernel_initializer=init, activation=activation))\n",
    "    model.add(MaxPooling2D(pool_size=(2, 2)))\n",
    "    \n",
    "    model.add(Conv2D(32, (3, 3), padding=\"valid\", kernel_initializer=init, activation=activation))\n",
    "    model.add(MaxPooling2D(pool_size=(2, 2)))\n",
    "    \n",
    "    model.add(Flatten())\n",
    "    \n",
    "    model.add(Dense(80, kernel_initializer=init, activation=activation))\n",
    "    model.add(Dropout(keep_prob_dense))\n",
    "    \n",
    "    model.add(Dense(15, kernel_initializer=init, activation=activation))\n",
    "    model.add(Dropout(keep_prob_dense))\n",
    "    \n",
    "    # softmax classifier\n",
    "    model.add(Dense(classes , activation = 'softmax'))\n",
    "    \n",
    "    return model"
   ]
  },
  {
   "cell_type": "code",
   "execution_count": 75,
   "metadata": {
    "scrolled": true
   },
   "outputs": [
    {
     "name": "stdout",
     "output_type": "stream",
     "text": [
      "Model: \"sequential_2\"\n",
      "_________________________________________________________________\n",
      "Layer (type)                 Output Shape              Param #   \n",
      "=================================================================\n",
      "conv2d_8 (Conv2D)            (None, 238, 178, 3)       84        \n",
      "_________________________________________________________________\n",
      "batch_normalization_2 (Batch (None, 238, 178, 3)       12        \n",
      "_________________________________________________________________\n",
      "max_pooling2d_8 (MaxPooling2 (None, 119, 89, 3)        0         \n",
      "_________________________________________________________________\n",
      "conv2d_9 (Conv2D)            (None, 117, 87, 9)        252       \n",
      "_________________________________________________________________\n",
      "max_pooling2d_9 (MaxPooling2 (None, 58, 43, 9)         0         \n",
      "_________________________________________________________________\n",
      "conv2d_10 (Conv2D)           (None, 56, 41, 18)        1476      \n",
      "_________________________________________________________________\n",
      "max_pooling2d_10 (MaxPooling (None, 28, 20, 18)        0         \n",
      "_________________________________________________________________\n",
      "conv2d_11 (Conv2D)           (None, 26, 18, 32)        5216      \n",
      "_________________________________________________________________\n",
      "max_pooling2d_11 (MaxPooling (None, 13, 9, 32)         0         \n",
      "_________________________________________________________________\n",
      "flatten_2 (Flatten)          (None, 3744)              0         \n",
      "_________________________________________________________________\n",
      "dense_6 (Dense)              (None, 80)                299600    \n",
      "_________________________________________________________________\n",
      "dropout_4 (Dropout)          (None, 80)                0         \n",
      "_________________________________________________________________\n",
      "dense_7 (Dense)              (None, 15)                1215      \n",
      "_________________________________________________________________\n",
      "dropout_5 (Dropout)          (None, 15)                0         \n",
      "_________________________________________________________________\n",
      "dense_8 (Dense)              (None, 3)                 48        \n",
      "=================================================================\n",
      "Total params: 307,903\n",
      "Trainable params: 307,897\n",
      "Non-trainable params: 6\n",
      "_________________________________________________________________\n"
     ]
    }
   ],
   "source": [
    "model = posla_net()\n",
    "model.summary()"
   ]
  },
  {
   "cell_type": "code",
   "execution_count": 76,
   "metadata": {},
   "outputs": [
    {
     "name": "stdout",
     "output_type": "stream",
     "text": [
      "Failed to import pydot. You must install pydot and graphviz for `pydotprint` to work.\n"
     ]
    }
   ],
   "source": [
    "from tensorflow.python.keras.utils import plot_model\n",
    "plot_model(model, to_file= 'video_net_plot.png', show_shapes = True, show_layer_names = True)"
   ]
  },
  {
   "cell_type": "markdown",
   "metadata": {},
   "source": [
    "# 4. 모델 파라미터 셋팅"
   ]
  },
  {
   "cell_type": "markdown",
   "metadata": {},
   "source": [
    "적은 수의 이미지 데이터가 존재할 경우 데이터를 늘리는 용도로 사용"
   ]
  },
  {
   "cell_type": "code",
   "execution_count": 77,
   "metadata": {},
   "outputs": [],
   "source": [
    "aug = ImageDataGenerator(rotation_range=25, width_shift_range=0.1,\n",
    "    height_shift_range=0.1, shear_range=0.2, zoom_range=0.2,\n",
    "    horizontal_flip=True, fill_mode=\"nearest\")"
   ]
  },
  {
   "cell_type": "code",
   "execution_count": 78,
   "metadata": {},
   "outputs": [],
   "source": [
    "early_stopping = EarlyStopping(monitor='val_loss', patience=10)"
   ]
  },
  {
   "cell_type": "code",
   "execution_count": 79,
   "metadata": {},
   "outputs": [],
   "source": [
    "reduce_lr = ReduceLROnPlateau(monitor='val_loss', factor=0.2,\n",
    "                              patience=5, min_lr=0.0001)"
   ]
  },
  {
   "cell_type": "code",
   "execution_count": 80,
   "metadata": {},
   "outputs": [],
   "source": [
    "# initialize the model\n",
    "# EPOCHS = 50\n",
    "# INIT_LR = 1e-3\n",
    "# BS = 32\n",
    "# split_ratio = 0.2"
   ]
  },
  {
   "cell_type": "code",
   "execution_count": 81,
   "metadata": {},
   "outputs": [
    {
     "name": "stdout",
     "output_type": "stream",
     "text": [
      "[INFO] compiling model...\n"
     ]
    }
   ],
   "source": [
    "\n",
    "EPOCHS = 50\n",
    "INIT_LR = 1e-4\n",
    "BS = 256\n",
    "split_ratio = 0.2\n",
    "\n",
    "print(\"[INFO] compiling model...\")\n",
    "opt = Adam(lr=INIT_LR, decay=INIT_LR / EPOCHS)\n",
    "model.compile(loss=\"categorical_crossentropy\", optimizer=opt,\n",
    "    metrics=[\"accuracy\"])\n",
    " "
   ]
  },
  {
   "cell_type": "markdown",
   "metadata": {},
   "source": [
    "# 5. 모델 훈련"
   ]
  },
  {
   "cell_type": "code",
   "execution_count": 82,
   "metadata": {},
   "outputs": [],
   "source": [
    "from tensorflow.keras.utils import to_categorical\n"
   ]
  },
  {
   "cell_type": "code",
   "execution_count": 83,
   "metadata": {},
   "outputs": [],
   "source": [
    "y_binary = to_categorical(y_train)"
   ]
  },
  {
   "cell_type": "code",
   "execution_count": 84,
   "metadata": {
    "scrolled": true
   },
   "outputs": [
    {
     "name": "stdout",
     "output_type": "stream",
     "text": [
      "Train on 1681 samples, validate on 421 samples\n",
      "Epoch 1/50\n",
      "1681/1681 [==============================] - 25s 15ms/sample - loss: 2.0743 - acc: 0.4265 - val_loss: 3.0889 - val_acc: 0.3420\n",
      "Epoch 2/50\n",
      "1681/1681 [==============================] - 24s 14ms/sample - loss: 0.9079 - acc: 0.5741 - val_loss: 2.0981 - val_acc: 0.3420\n",
      "Epoch 3/50\n",
      "1681/1681 [==============================] - 23s 14ms/sample - loss: 0.6483 - acc: 0.6996 - val_loss: 1.2312 - val_acc: 0.3539\n",
      "Epoch 4/50\n",
      "1681/1681 [==============================] - 24s 14ms/sample - loss: 0.5724 - acc: 0.7383 - val_loss: 0.8557 - val_acc: 0.4751\n",
      "Epoch 5/50\n",
      "1681/1681 [==============================] - 25s 15ms/sample - loss: 0.5224 - acc: 0.7644 - val_loss: 0.9584 - val_acc: 0.3943\n",
      "Epoch 6/50\n",
      "1681/1681 [==============================] - 24s 14ms/sample - loss: 0.4867 - acc: 0.7775 - val_loss: 0.7809 - val_acc: 0.5083\n",
      "Epoch 7/50\n",
      "1681/1681 [==============================] - 24s 14ms/sample - loss: 0.4563 - acc: 0.7894 - val_loss: 0.5140 - val_acc: 0.7245\n",
      "Epoch 8/50\n",
      "1681/1681 [==============================] - 24s 14ms/sample - loss: 0.4269 - acc: 0.7965 - val_loss: 0.4326 - val_acc: 0.7720\n",
      "Epoch 9/50\n",
      "1681/1681 [==============================] - 24s 14ms/sample - loss: 0.4111 - acc: 0.8084 - val_loss: 0.4083 - val_acc: 0.7648\n",
      "Epoch 10/50\n",
      "1681/1681 [==============================] - 24s 14ms/sample - loss: 0.3855 - acc: 0.8144 - val_loss: 0.3861 - val_acc: 0.7886\n",
      "Epoch 11/50\n",
      "1681/1681 [==============================] - 25s 15ms/sample - loss: 0.3743 - acc: 0.8174 - val_loss: 0.3056 - val_acc: 0.8860\n",
      "Epoch 12/50\n",
      "1681/1681 [==============================] - 24s 15ms/sample - loss: 0.3559 - acc: 0.8322 - val_loss: 0.1992 - val_acc: 0.9786\n",
      "Epoch 13/50\n",
      "1681/1681 [==============================] - 24s 14ms/sample - loss: 0.3940 - acc: 0.8150 - val_loss: 0.1287 - val_acc: 0.9881\n",
      "Epoch 14/50\n",
      "1681/1681 [==============================] - 24s 14ms/sample - loss: 0.3493 - acc: 0.8358 - val_loss: 0.1114 - val_acc: 0.9905\n",
      "Epoch 15/50\n",
      "1681/1681 [==============================] - 24s 14ms/sample - loss: 0.3590 - acc: 0.8269 - val_loss: 0.0838 - val_acc: 0.9905\n",
      "Epoch 16/50\n",
      "1681/1681 [==============================] - 24s 14ms/sample - loss: 0.3391 - acc: 0.8334 - val_loss: 0.0746 - val_acc: 0.9905\n",
      "Epoch 17/50\n",
      "1681/1681 [==============================] - 25s 15ms/sample - loss: 0.3402 - acc: 0.8305 - val_loss: 0.0727 - val_acc: 0.9905\n",
      "Epoch 18/50\n",
      "1681/1681 [==============================] - 24s 14ms/sample - loss: 0.3251 - acc: 0.8459 - val_loss: 0.0657 - val_acc: 0.9905\n",
      "Epoch 19/50\n",
      "1681/1681 [==============================] - 24s 14ms/sample - loss: 0.3025 - acc: 0.8548 - val_loss: 0.0564 - val_acc: 0.9905\n",
      "Epoch 20/50\n",
      "1681/1681 [==============================] - 23s 14ms/sample - loss: 0.3299 - acc: 0.8441 - val_loss: 0.0485 - val_acc: 0.9905\n",
      "Epoch 21/50\n",
      "1681/1681 [==============================] - 24s 14ms/sample - loss: 0.3128 - acc: 0.8471 - val_loss: 0.0410 - val_acc: 0.9929\n",
      "Epoch 22/50\n",
      "1681/1681 [==============================] - 24s 14ms/sample - loss: 0.3270 - acc: 0.8263 - val_loss: 0.0349 - val_acc: 0.9952\n",
      "Epoch 23/50\n",
      "1681/1681 [==============================] - 24s 14ms/sample - loss: 0.3092 - acc: 0.8400 - val_loss: 0.0331 - val_acc: 0.9905\n",
      "Epoch 24/50\n",
      "1681/1681 [==============================] - 24s 14ms/sample - loss: 0.3120 - acc: 0.8453 - val_loss: 0.0253 - val_acc: 0.9952\n",
      "Epoch 25/50\n",
      "1681/1681 [==============================] - 24s 14ms/sample - loss: 0.3130 - acc: 0.8489 - val_loss: 0.0228 - val_acc: 0.9952\n",
      "Epoch 26/50\n",
      "1681/1681 [==============================] - 23s 14ms/sample - loss: 0.2762 - acc: 0.8721 - val_loss: 0.0162 - val_acc: 0.9976\n",
      "Epoch 27/50\n",
      "1681/1681 [==============================] - 24s 14ms/sample - loss: 0.3142 - acc: 0.8430 - val_loss: 0.0135 - val_acc: 1.0000\n",
      "Epoch 28/50\n",
      "1681/1681 [==============================] - 24s 14ms/sample - loss: 0.3026 - acc: 0.8572 - val_loss: 0.0146 - val_acc: 1.0000\n",
      "Epoch 29/50\n",
      "1681/1681 [==============================] - 24s 14ms/sample - loss: 0.2884 - acc: 0.8626 - val_loss: 0.0147 - val_acc: 1.0000\n",
      "Epoch 30/50\n",
      "1681/1681 [==============================] - 25s 15ms/sample - loss: 0.2688 - acc: 0.8727 - val_loss: 0.0122 - val_acc: 1.0000\n",
      "Epoch 31/50\n",
      "1681/1681 [==============================] - 25s 15ms/sample - loss: 0.2878 - acc: 0.8614 - val_loss: 0.0100 - val_acc: 1.0000\n",
      "Epoch 32/50\n",
      "1681/1681 [==============================] - 24s 14ms/sample - loss: 0.2814 - acc: 0.8554 - val_loss: 0.0092 - val_acc: 1.0000\n",
      "Epoch 33/50\n",
      "1681/1681 [==============================] - 24s 14ms/sample - loss: 0.2868 - acc: 0.8608 - val_loss: 0.0087 - val_acc: 1.0000\n",
      "Epoch 34/50\n",
      "1681/1681 [==============================] - 23s 14ms/sample - loss: 0.2771 - acc: 0.8614 - val_loss: 0.0088 - val_acc: 1.0000\n",
      "Epoch 35/50\n",
      "1681/1681 [==============================] - 24s 14ms/sample - loss: 0.2382 - acc: 0.8882 - val_loss: 0.0069 - val_acc: 1.0000\n",
      "Epoch 36/50\n",
      "1681/1681 [==============================] - 24s 14ms/sample - loss: 0.2659 - acc: 0.8685 - val_loss: 0.0056 - val_acc: 1.0000\n",
      "Epoch 37/50\n",
      "1681/1681 [==============================] - 24s 15ms/sample - loss: 0.2509 - acc: 0.8721 - val_loss: 0.0051 - val_acc: 1.0000\n",
      "Epoch 38/50\n",
      "1681/1681 [==============================] - 23s 14ms/sample - loss: 0.2258 - acc: 0.8953 - val_loss: 0.0060 - val_acc: 1.0000\n",
      "Epoch 39/50\n",
      "1681/1681 [==============================] - 24s 14ms/sample - loss: 0.2559 - acc: 0.8751 - val_loss: 0.0067 - val_acc: 1.0000\n",
      "Epoch 40/50\n",
      "1681/1681 [==============================] - 25s 15ms/sample - loss: 0.2663 - acc: 0.8757 - val_loss: 0.0056 - val_acc: 1.0000\n",
      "Epoch 41/50\n",
      "1681/1681 [==============================] - 24s 14ms/sample - loss: 0.2522 - acc: 0.8840 - val_loss: 0.0047 - val_acc: 1.0000\n",
      "Epoch 42/50\n",
      "1681/1681 [==============================] - 24s 14ms/sample - loss: 0.2302 - acc: 0.8905 - val_loss: 0.0046 - val_acc: 1.0000\n",
      "Epoch 43/50\n",
      "1681/1681 [==============================] - 24s 14ms/sample - loss: 0.2660 - acc: 0.8620 - val_loss: 0.0040 - val_acc: 1.0000\n",
      "Epoch 44/50\n",
      "1681/1681 [==============================] - 24s 14ms/sample - loss: 0.2467 - acc: 0.8888 - val_loss: 0.0036 - val_acc: 1.0000\n",
      "Epoch 45/50\n",
      "1681/1681 [==============================] - 24s 14ms/sample - loss: 0.2369 - acc: 0.8852 - val_loss: 0.0041 - val_acc: 1.0000\n",
      "Epoch 46/50\n",
      "1681/1681 [==============================] - 24s 14ms/sample - loss: 0.2316 - acc: 0.8989 - val_loss: 0.0041 - val_acc: 1.0000\n",
      "Epoch 47/50\n",
      "1681/1681 [==============================] - 24s 14ms/sample - loss: 0.2273 - acc: 0.8888 - val_loss: 0.0037 - val_acc: 1.0000\n",
      "Epoch 48/50\n",
      "1681/1681 [==============================] - 24s 14ms/sample - loss: 0.2340 - acc: 0.8870 - val_loss: 0.0031 - val_acc: 1.0000\n",
      "Epoch 49/50\n",
      "1681/1681 [==============================] - 25s 15ms/sample - loss: 0.2504 - acc: 0.8775 - val_loss: 0.0027 - val_acc: 1.0000\n",
      "Epoch 50/50\n",
      "1681/1681 [==============================] - 25s 15ms/sample - loss: 0.2152 - acc: 0.9007 - val_loss: 0.0023 - val_acc: 1.0000\n"
     ]
    }
   ],
   "source": [
    "\n",
    "hist = model.fit(x_train, y_train, \n",
    "                 epochs=EPOCHS, batch_size=BS, \n",
    "                 validation_split=split_ratio, \n",
    "                 verbose = 1\n",
    "                 ,callbacks=[reduce_lr]\n",
    "                )"
   ]
  },
  {
   "cell_type": "code",
   "execution_count": 86,
   "metadata": {
    "scrolled": false
   },
   "outputs": [
    {
     "data": {
      "image/png": "[encoded data removed]",
      "text/plain": [
       "<Figure size 720x720 with 2 Axes>"
      ]
     },
     "metadata": {
      "needs_background": "light"
     },
     "output_type": "display_data"
    }
   ],
   "source": [
    "plt.subplot(1, 2, 1)\n",
    "plt.title('model loss')\n",
    "plt.plot(hist.history['loss'], label=\"loss\")\n",
    "plt.plot(hist.history['val_loss'], label=\"val_loss\")\n",
    "plt.ylabel('loss')\n",
    "plt.xlabel('epoch')\n",
    "plt.legend()\n",
    "plt.ylim((0,2))\n",
    "\n",
    "plt.subplot(1, 2, 2)\n",
    "plt.title('model accuracy')\n",
    "plt.plot(hist.history['acc'], label=\"acc\")\n",
    "plt.plot(hist.history['val_acc'], label=\"val_acc\")\n",
    "plt.ylabel('accuracy')\n",
    "plt.xlabel('epoch')\n",
    "plt.legend()\n",
    "plt.ylim((0.4, 1))\n",
    "\n",
    "\n",
    "plt.show();"
   ]
  },
  {
   "cell_type": "markdown",
   "metadata": {},
   "source": [
    "# 6. 모델 결과 확인"
   ]
  },
  {
   "cell_type": "code",
   "execution_count": 87,
   "metadata": {},
   "outputs": [],
   "source": [
    "#l_model = load_model('./model_data/VGG_model.h5')"
   ]
  },
  {
   "cell_type": "code",
   "execution_count": 88,
   "metadata": {
    "scrolled": false
   },
   "outputs": [
    {
     "name": "stdout",
     "output_type": "stream",
     "text": [
      "901/901 [==============================] - 5s 5ms/sample - loss: 0.0020 - acc: 1.0000\n",
      "## evaluation loss and_metrics ##\n",
      "[0.0020270784053182463, 1.0]\n"
     ]
    }
   ],
   "source": [
    "loss_and_metrics = model.evaluate(x_test, y_test, batch_size=BS)\n",
    "print('## evaluation loss and_metrics ##')\n",
    "print(loss_and_metrics)"
   ]
  },
  {
   "cell_type": "code",
   "execution_count": 89,
   "metadata": {},
   "outputs": [
    {
     "name": "stdout",
     "output_type": "stream",
     "text": [
      "True : 0, Predict : 0\n",
      "True : 0, Predict : 0\n",
      "True : 1, Predict : 1\n",
      "True : 1, Predict : 1\n",
      "True : 0, Predict : 0\n",
      "True : 2, Predict : 2\n",
      "True : 2, Predict : 2\n",
      "True : 1, Predict : 1\n",
      "True : 1, Predict : 1\n",
      "True : 1, Predict : 1\n"
     ]
    }
   ],
   "source": [
    "xhat_idx = np.random.choice(x_test.shape[0], 10)\n",
    "xhat = x_test[xhat_idx]\n",
    "\n",
    "yhat_classes = model.predict_classes(xhat)\n",
    "\n",
    "for i in range(10):\n",
    "    print('True : ' + str(np.argmax(y_test[xhat_idx[i]])) + ', Predict : ' + str(yhat_classes[i]))"
   ]
  },
  {
   "cell_type": "markdown",
   "metadata": {},
   "source": [
    "# 7. 최종 모델 훈련"
   ]
  },
  {
   "cell_type": "code",
   "execution_count": 90,
   "metadata": {},
   "outputs": [
    {
     "name": "stdout",
     "output_type": "stream",
     "text": [
      "(3003, 240, 180, 3)\n",
      "(3003, 3)\n"
     ]
    }
   ],
   "source": [
    "x_total = np.vstack((x_train, x_test))\n",
    "y_total = np.vstack((y_train, y_test))\n",
    "\n",
    "print(x_total.shape)\n",
    "print(y_total.shape)"
   ]
  },
  {
   "cell_type": "code",
   "execution_count": 91,
   "metadata": {},
   "outputs": [],
   "source": [
    "early_stopping = EarlyStopping(monitor='loss', patience=10)"
   ]
  },
  {
   "cell_type": "code",
   "execution_count": 92,
   "metadata": {},
   "outputs": [],
   "source": [
    "reduce_lr = ReduceLROnPlateau(monitor='loss', factor=0.2,\n",
    "                              patience=5, min_lr=0.0001)"
   ]
  },
  {
   "cell_type": "code",
   "execution_count": 93,
   "metadata": {},
   "outputs": [
    {
     "name": "stdout",
     "output_type": "stream",
     "text": [
      "[INFO] compiling model...\n"
     ]
    }
   ],
   "source": [
    "EPOCHS = 50\n",
    "INIT_LR = 1e-4\n",
    "BS = 256\n",
    "split_ratio = 0.2\n",
    "\n",
    "print(\"[INFO] compiling model...\")\n",
    "opt = Adam(lr=INIT_LR, decay=INIT_LR / EPOCHS)\n",
    "model.compile(loss=\"categorical_crossentropy\", optimizer=opt,\n",
    "    metrics=[\"accuracy\"])"
   ]
  },
  {
   "cell_type": "code",
   "execution_count": null,
   "metadata": {
    "scrolled": false
   },
   "outputs": [
    {
     "name": "stdout",
     "output_type": "stream",
     "text": [
      "Train on 3003 samples\n",
      "Epoch 1/50\n",
      "3003/3003 [==============================] - 40s 13ms/sample - loss: 0.2211 - acc: 0.8921\n",
      "Epoch 2/50\n",
      "3003/3003 [==============================] - 42s 14ms/sample - loss: 0.2043 - acc: 0.9104\n",
      "Epoch 3/50\n",
      "3003/3003 [==============================] - 39s 13ms/sample - loss: 0.2081 - acc: 0.9031\n",
      "Epoch 4/50\n",
      "2048/3003 [===================>..........] - ETA: 12s - loss: 0.2047 - acc: 0.9092"
     ]
    }
   ],
   "source": [
    "hist = model.fit(x_total, y_total, \n",
    "                 epochs=EPOCHS, batch_size=BS, \n",
    "                 #validation_split=split_ratio, \n",
    "                 verbose = 1\n",
    "                 ,callbacks=[reduce_lr]\n",
    "                )"
   ]
  },
  {
   "cell_type": "code",
   "execution_count": null,
   "metadata": {
    "scrolled": false
   },
   "outputs": [],
   "source": [
    "loss_and_metrics = model.evaluate(x_test, y_test, batch_size=BS)\n",
    "print('## evaluation loss and_metrics ##')\n",
    "print(loss_and_metrics)"
   ]
  },
  {
   "cell_type": "code",
   "execution_count": null,
   "metadata": {},
   "outputs": [],
   "source": [
    "xhat_idx = np.random.choice(x_test.shape[0], 10)\n",
    "xhat = x_test[xhat_idx]\n",
    "\n",
    "yhat_classes = model.predict_classes(xhat)\n",
    "\n",
    "for i in range(10):\n",
    "    print('True : ' + str(np.argmax(y_test[xhat_idx[i]])) + ', Predict : ' + str(yhat_classes[i]))"
   ]
  },
  {
   "cell_type": "markdown",
   "metadata": {},
   "source": [
    "# 8. 모델 저장"
   ]
  },
  {
   "cell_type": "code",
   "execution_count": null,
   "metadata": {},
   "outputs": [],
   "source": [
    "from tensorflow.python.keras.models import model_from_yaml\n",
    "\n",
    "model_yaml = model.to_yaml()\n",
    "with open(\"motion_model_demoV2.yaml\", \"w\") as yaml_file:\n",
    "    yaml_file.write(model_yaml)\n",
    "# serialize weights to HDF5\n",
    "model.save_weights(\"motion_model_demoV2.h5\")\n",
    "print(\"Saved model to disk\")"
   ]
  },
  {
   "cell_type": "code",
   "execution_count": 37,
   "metadata": {
    "scrolled": true
   },
   "outputs": [
    {
     "name": "stdout",
     "output_type": "stream",
     "text": [
      "{'backend': 'tensorflow', 'class_name': 'Sequential', 'config': {'layers': [{'class_name': 'Conv2D', 'config': {'activation': 'relu', 'activity_regularizer': None, 'batch_input_shape': (None, 180, 240, 3), 'bias_constraint': None, 'bias_initializer': {'class_name': 'Zeros', 'config': {'dtype': 'float32'}}, 'bias_regularizer': None, 'data_format': 'channels_last', 'dilation_rate': (1, 1), 'dtype': 'float32', 'filters': 3, 'kernel_constraint': None, 'kernel_initializer': {'class_name': 'VarianceScaling', 'config': {'distribution': 'uniform', 'dtype': 'float32', 'mode': 'fan_in', 'scale': 2.0, 'seed': None}}, 'kernel_regularizer': None, 'kernel_size': (3, 3), 'name': 'conv2d', 'padding': 'valid', 'strides': (1, 1), 'trainable': True, 'use_bias': True}}, {'class_name': 'BatchNormalization', 'config': {'axis': ListWrapper([3]), 'beta_constraint': None, 'beta_initializer': {'class_name': 'Zeros', 'config': {'dtype': 'float32'}}, 'beta_regularizer': None, 'center': True, 'dtype': 'float32', 'epsilon': 0.001, 'gamma_constraint': None, 'gamma_initializer': {'class_name': 'Ones', 'config': {'dtype': 'float32'}}, 'gamma_regularizer': None, 'momentum': 0.99, 'moving_mean_initializer': {'class_name': 'Zeros', 'config': {'dtype': 'float32'}}, 'moving_variance_initializer': {'class_name': 'Ones', 'config': {'dtype': 'float32'}}, 'name': 'batch_normalization', 'scale': True, 'trainable': True}}, {'class_name': 'MaxPooling2D', 'config': {'data_format': 'channels_last', 'dtype': 'float32', 'name': 'max_pooling2d', 'padding': 'valid', 'pool_size': (2, 2), 'strides': (2, 2), 'trainable': True}}, {'class_name': 'Conv2D', 'config': {'activation': 'relu', 'activity_regularizer': None, 'bias_constraint': None, 'bias_initializer': {'class_name': 'Zeros', 'config': {'dtype': 'float32'}}, 'bias_regularizer': None, 'data_format': 'channels_last', 'dilation_rate': (1, 1), 'dtype': 'float32', 'filters': 9, 'kernel_constraint': None, 'kernel_initializer': {'class_name': 'VarianceScaling', 'config': {'distribution': 'uniform', 'dtype': 'float32', 'mode': 'fan_in', 'scale': 2.0, 'seed': None}}, 'kernel_regularizer': None, 'kernel_size': (3, 3), 'name': 'conv2d_1', 'padding': 'valid', 'strides': (1, 1), 'trainable': True, 'use_bias': True}}, {'class_name': 'MaxPooling2D', 'config': {'data_format': 'channels_last', 'dtype': 'float32', 'name': 'max_pooling2d_1', 'padding': 'valid', 'pool_size': (2, 2), 'strides': (2, 2), 'trainable': True}}, {'class_name': 'Conv2D', 'config': {'activation': 'relu', 'activity_regularizer': None, 'bias_constraint': None, 'bias_initializer': {'class_name': 'Zeros', 'config': {'dtype': 'float32'}}, 'bias_regularizer': None, 'data_format': 'channels_last', 'dilation_rate': (1, 1), 'dtype': 'float32', 'filters': 18, 'kernel_constraint': None, 'kernel_initializer': {'class_name': 'VarianceScaling', 'config': {'distribution': 'uniform', 'dtype': 'float32', 'mode': 'fan_in', 'scale': 2.0, 'seed': None}}, 'kernel_regularizer': None, 'kernel_size': (3, 3), 'name': 'conv2d_2', 'padding': 'valid', 'strides': (1, 1), 'trainable': True, 'use_bias': True}}, {'class_name': 'MaxPooling2D', 'config': {'data_format': 'channels_last', 'dtype': 'float32', 'name': 'max_pooling2d_2', 'padding': 'valid', 'pool_size': (2, 2), 'strides': (2, 2), 'trainable': True}}, {'class_name': 'Conv2D', 'config': {'activation': 'relu', 'activity_regularizer': None, 'bias_constraint': None, 'bias_initializer': {'class_name': 'Zeros', 'config': {'dtype': 'float32'}}, 'bias_regularizer': None, 'data_format': 'channels_last', 'dilation_rate': (1, 1), 'dtype': 'float32', 'filters': 32, 'kernel_constraint': None, 'kernel_initializer': {'class_name': 'VarianceScaling', 'config': {'distribution': 'uniform', 'dtype': 'float32', 'mode': 'fan_in', 'scale': 2.0, 'seed': None}}, 'kernel_regularizer': None, 'kernel_size': (3, 3), 'name': 'conv2d_3', 'padding': 'valid', 'strides': (1, 1), 'trainable': True, 'use_bias': True}}, {'class_name': 'MaxPooling2D', 'config': {'data_format': 'channels_last', 'dtype': 'float32', 'name': 'max_pooling2d_3', 'padding': 'valid', 'pool_size': (2, 2), 'strides': (2, 2), 'trainable': True}}, {'class_name': 'Flatten', 'config': {'data_format': 'channels_last', 'dtype': 'float32', 'name': 'flatten', 'trainable': True}}, {'class_name': 'Dense', 'config': {'activation': 'relu', 'activity_regularizer': None, 'bias_constraint': None, 'bias_initializer': {'class_name': 'Zeros', 'config': {'dtype': 'float32'}}, 'bias_regularizer': None, 'dtype': 'float32', 'kernel_constraint': None, 'kernel_initializer': {'class_name': 'VarianceScaling', 'config': {'distribution': 'uniform', 'dtype': 'float32', 'mode': 'fan_in', 'scale': 2.0, 'seed': None}}, 'kernel_regularizer': None, 'name': 'dense', 'trainable': True, 'units': 80, 'use_bias': True}}, {'class_name': 'Dropout', 'config': {'dtype': 'float32', 'name': 'dropout', 'noise_shape': None, 'rate': 0.5, 'seed': None, 'trainable': True}}, {'class_name': 'Dense', 'config': {'activation': 'relu', 'activity_regularizer': None, 'bias_constraint': None, 'bias_initializer': {'class_name': 'Zeros', 'config': {'dtype': 'float32'}}, 'bias_regularizer': None, 'dtype': 'float32', 'kernel_constraint': None, 'kernel_initializer': {'class_name': 'VarianceScaling', 'config': {'distribution': 'uniform', 'dtype': 'float32', 'mode': 'fan_in', 'scale': 2.0, 'seed': None}}, 'kernel_regularizer': None, 'name': 'dense_1', 'trainable': True, 'units': 15, 'use_bias': True}}, {'class_name': 'Dropout', 'config': {'dtype': 'float32', 'name': 'dropout_1', 'noise_shape': None, 'rate': 0.5, 'seed': None, 'trainable': True}}, {'class_name': 'Dense', 'config': {'activation': 'softmax', 'activity_regularizer': None, 'bias_constraint': None, 'bias_initializer': {'class_name': 'Zeros', 'config': {'dtype': 'float32'}}, 'bias_regularizer': None, 'dtype': 'float32', 'kernel_constraint': None, 'kernel_initializer': {'class_name': 'GlorotUniform', 'config': {'dtype': 'float32', 'seed': None}}, 'kernel_regularizer': None, 'name': 'dense_2', 'trainable': True, 'units': 3, 'use_bias': True}}], 'name': 'sequential'}, 'keras_version': '2.2.4-tf'}\n"
     ]
    }
   ],
   "source": [
    "import yaml\n",
    "with open(r'motion_model_demoV1.yaml') as file:\n",
    "    # The FullLoader parameter handles the conversion from YAML\n",
    "    # scalar values to Python the dictionary format\n",
    "    fruits_list = yaml.load(file, Loader=yaml.FullLoader)\n",
    "\n",
    "    print(fruits_list)"
   ]
  },
  {
   "cell_type": "code",
   "execution_count": 38,
   "metadata": {},
   "outputs": [],
   "source": [
    "def load_model(path):\n",
    "    yamlPath =path[0]\n",
    "    h5Path = path[1]\n",
    "\n",
    "    yaml_file1 = open(yamlPath, 'r')\n",
    "    loaded_model_yaml = yaml_file1.read()\n",
    "    yaml_file1.close()\n",
    "    model = model_from_yaml(loaded_model_yaml)\n",
    "\n",
    "    # load weights into new model\n",
    "    model.load_weights(h5Path)\n",
    "    model._make_predict_function()\n",
    "\n",
    "    return model"
   ]
  },
  {
   "cell_type": "code",
   "execution_count": 40,
   "metadata": {},
   "outputs": [
    {
     "data": {
      "text/plain": [
       "<tensorflow.python.keras.engine.sequential.Sequential at 0x7f6f648dd668>"
      ]
     },
     "execution_count": 40,
     "metadata": {},
     "output_type": "execute_result"
    }
   ],
   "source": [
    "load_model(['/home/pirl/A1-PONATA/Hayoung/lane_model_test/lane_model_v3-03.yaml','/home/pirl/A1-PONATA/Hayoung/lane_model_test/lane_model_v3-03.h5'])"
   ]
  },
  {
   "cell_type": "code",
   "execution_count": 41,
   "metadata": {},
   "outputs": [
    {
     "name": "stdout",
     "output_type": "stream",
     "text": [
      "Saved model to disk\n"
     ]
    }
   ],
   "source": [
    "from tensorflow.python.keras.models import model_from_yaml\n",
    "\n",
    "model_yaml = model.to_yaml()\n",
    "with open(\"motion_model_demoV2.yaml\", \"w\") as yaml_file:\n",
    "    yaml_file.write(model_yaml)\n",
    "# serialize weights to HDF5\n",
    "model.save_weights(\"motion_model_demoV2.h5\")\n",
    "print(\"Saved model to disk\")"
   ]
  },
  {
   "cell_type": "code",
   "execution_count": 43,
   "metadata": {},
   "outputs": [
    {
     "data": {
      "text/plain": [
       "<tensorflow.python.keras.engine.sequential.Sequential at 0x7f70ec4b57f0>"
      ]
     },
     "execution_count": 43,
     "metadata": {},
     "output_type": "execute_result"
    }
   ],
   "source": [
    "\n",
    "load_model(['motion_model_demoV1.yaml','motion_model_demoV1.h5'])"
   ]
  },
  {
   "cell_type": "code",
   "execution_count": null,
   "metadata": {},
   "outputs": [],
   "source": []
  }
 ],
 "metadata": {
  "kernelspec": {
   "display_name": "Python 3",
   "language": "python",
   "name": "python3"
  },
  "language_info": {
   "codemirror_mode": {
    "name": "ipython",
    "version": 3
   },
   "file_extension": ".py",
   "mimetype": "text/x-python",
   "name": "python",
   "nbconvert_exporter": "python",
   "pygments_lexer": "ipython3",
   "version": "3.7.3"
  }
 },
 "nbformat": 4,
 "nbformat_minor": 2
}
