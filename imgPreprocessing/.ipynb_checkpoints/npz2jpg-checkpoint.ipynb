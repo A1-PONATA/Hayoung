{
 "cells": [
  {
   "cell_type": "code",
   "execution_count": 5,
   "metadata": {},
   "outputs": [],
   "source": [
    "from tensorflow.python.keras.models import Sequential\n",
    "from tensorflow.python.keras.layers import Flatten, Dense, Activation\n",
    "from tensorflow.python.keras.layers.convolutional import Conv2D, MaxPooling2D\n",
    "from tensorflow.python.keras.layers.core import Dropout\n",
    "from tensorflow.python.keras.models import load_model\n",
    "from tensorflow.python.keras.optimizers import Adam\n",
    "from tensorflow.python.keras.layers.normalization import BatchNormalization\n",
    "\n",
    "import numpy as np\n",
    "import glob\n",
    "from sklearn.model_selection import train_test_split\n",
    "from matplotlib import pyplot as plt"
   ]
  },
  {
   "cell_type": "code",
   "execution_count": null,
   "metadata": {
    "scrolled": false
   },
   "outputs": [
    {
     "name": "stderr",
     "output_type": "stream",
     "text": [
      "Clipping input data to the valid range for imshow with RGB data ([0..1] for floats or [0..255] for integers).\n"
     ]
    },
    {
     "data": {
      "image/png": "[encoded data removed]",
      "text/plain": [
       "<Figure size 432x288 with 1 Axes>"
      ]
     },
     "metadata": {
      "needs_background": "light"
     },
     "output_type": "display_data"
    },
    {
     "name": "stderr",
     "output_type": "stream",
     "text": [
      "Clipping input data to the valid range for imshow with RGB data ([0..1] for floats or [0..255] for integers).\n"
     ]
    },
    {
     "data": {
      "image/png": "[encoded data removed]",
      "text/plain": [
       "<Figure size 432x288 with 1 Axes>"
      ]
     },
     "metadata": {
      "needs_background": "light"
     },
     "output_type": "display_data"
    }
   ],
   "source": [
    "import numpy as np\n",
    "import glob\n",
    "import sys\n",
    "from sklearn.model_selection import train_test_split\n",
    "\n",
    "x_train = np.empty((0, 180, 240, 1))\n",
    "y_train = np.empty((0, 4))\n",
    "\n",
    "d={'st':0, 'right':0, 'left':0}\n",
    "\n",
    "training_data = glob.glob('/home/pirl/Desktop/motion_prepro_fin2/*.npz') #보고싶은 npz파일 입력\n",
    "\n",
    "for single_npz in training_data:\n",
    "    with np.load(single_npz) as data:\n",
    "        x = data['train']\n",
    "        y=data['training_labels']\n",
    "        if y[0]==1:\n",
    "            d['st']=d['st']+1\n",
    "        if y[1]==1:\n",
    "            d['right']=d['right']+1\n",
    "        if y[2]==1:\n",
    "            d['left']=d['left']+1\n",
    "        plt.title(y)\n",
    "        \n",
    "        plt.imshow(x[3])\n",
    "\n",
    "        plt.show()\n",
    "    x = np.reshape(x, (-1, 180, 240, 1))\n",
    "    x_train = np.vstack((x_train, x))\n",
    "print(d)"
   ]
  },
  {
   "cell_type": "code",
   "execution_count": 33,
   "metadata": {},
   "outputs": [
    {
     "ename": "SyntaxError",
     "evalue": "unexpected EOF while parsing (<ipython-input-33-42bd4569cd29>, line 2)",
     "output_type": "error",
     "traceback": [
      "\u001b[0;36m  File \u001b[0;32m\"<ipython-input-33-42bd4569cd29>\"\u001b[0;36m, line \u001b[0;32m2\u001b[0m\n\u001b[0;31m    \u001b[0m\n\u001b[0m    ^\u001b[0m\n\u001b[0;31mSyntaxError\u001b[0m\u001b[0;31m:\u001b[0m unexpected EOF while parsing\n"
     ]
    }
   ],
   "source": [
    "import numpy as np\n",
    "import matplotlib.pyplot as plt\n",
    "\n",
    "a = np.random.rand(0, 100) # Replace this line with your 90x100 numpy array.\n",
    "a = np.expand_dims(a, axis = 2)\n",
    "a = np.concatenate((a, a, a), axis = 2)\n",
    "print(a.shape)\n",
    "# (90, 100, 3)\n",
    "plt.imshow(a)\n",
    "plt.show()"
   ]
  }
 ],
 "metadata": {
  "kernelspec": {
   "display_name": "Python 3",
   "language": "python",
   "name": "python3"
  },
  "language_info": {
   "codemirror_mode": {
    "name": "ipython",
    "version": 3
   },
   "file_extension": ".py",
   "mimetype": "text/x-python",
   "name": "python",
   "nbconvert_exporter": "python",
   "pygments_lexer": "ipython3",
   "version": "3.6.9"
  }
 },
 "nbformat": 4,
 "nbformat_minor": 2
}
